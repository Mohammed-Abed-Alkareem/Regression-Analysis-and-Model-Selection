{
 "cells": [
  {
   "cell_type": "markdown",
   "metadata": {},
   "source": []
  },
  {
   "cell_type": "code",
   "execution_count": 103,
   "metadata": {},
   "outputs": [],
   "source": [
    "import pandas as pd\n",
    "import numpy as np\n",
    "import matplotlib.pyplot as plt\n",
    "import seaborn as sns"
   ]
  },
  {
   "cell_type": "markdown",
   "metadata": {},
   "source": []
  },
  {
   "cell_type": "markdown",
   "metadata": {},
   "source": [
    "## Download Dataset"
   ]
  },
  {
   "cell_type": "code",
   "execution_count": 104,
   "metadata": {},
   "outputs": [],
   "source": [
    "# !kaggle datasets download ahmedwaelnasef/cars-dataset"
   ]
  },
  {
   "cell_type": "code",
   "execution_count": 105,
   "metadata": {},
   "outputs": [],
   "source": [
    "# import zipfile\n",
    "\n",
    "# with zipfile.ZipFile('cars-dataset.zip', 'r') as zip_ref:\n",
    "#     zip_ref.extractall('cars-dataset')"
   ]
  },
  {
   "cell_type": "markdown",
   "metadata": {},
   "source": [
    "## Import Dataset"
   ]
  },
  {
   "cell_type": "code",
   "execution_count": 106,
   "metadata": {},
   "outputs": [],
   "source": [
    "car_df = pd.read_csv('cars-dataset/cars.csv')"
   ]
  },
  {
   "cell_type": "code",
   "execution_count": 107,
   "metadata": {},
   "outputs": [
    {
     "data": {
      "text/html": [
       "<div>\n",
       "<style scoped>\n",
       "    .dataframe tbody tr th:only-of-type {\n",
       "        vertical-align: middle;\n",
       "    }\n",
       "\n",
       "    .dataframe tbody tr th {\n",
       "        vertical-align: top;\n",
       "    }\n",
       "\n",
       "    .dataframe thead th {\n",
       "        text-align: right;\n",
       "    }\n",
       "</style>\n",
       "<table border=\"1\" class=\"dataframe\">\n",
       "  <thead>\n",
       "    <tr style=\"text-align: right;\">\n",
       "      <th></th>\n",
       "      <th>car name</th>\n",
       "      <th>price</th>\n",
       "      <th>engine_capacity</th>\n",
       "      <th>cylinder</th>\n",
       "      <th>horse_power</th>\n",
       "      <th>top_speed</th>\n",
       "      <th>seats</th>\n",
       "      <th>brand</th>\n",
       "      <th>country</th>\n",
       "    </tr>\n",
       "  </thead>\n",
       "  <tbody>\n",
       "    <tr>\n",
       "      <th>0</th>\n",
       "      <td>Fiat 500e 2021 La Prima</td>\n",
       "      <td>TBD</td>\n",
       "      <td>0.0</td>\n",
       "      <td>N/A, Electric</td>\n",
       "      <td>Single</td>\n",
       "      <td>Automatic</td>\n",
       "      <td>150</td>\n",
       "      <td>fiat</td>\n",
       "      <td>ksa</td>\n",
       "    </tr>\n",
       "    <tr>\n",
       "      <th>1</th>\n",
       "      <td>Peugeot Traveller 2021 L3 VIP</td>\n",
       "      <td>SAR 140,575</td>\n",
       "      <td>2.0</td>\n",
       "      <td>4</td>\n",
       "      <td>180</td>\n",
       "      <td>8 Seater</td>\n",
       "      <td>8.8</td>\n",
       "      <td>peugeot</td>\n",
       "      <td>ksa</td>\n",
       "    </tr>\n",
       "    <tr>\n",
       "      <th>2</th>\n",
       "      <td>Suzuki Jimny 2021 1.5L Automatic</td>\n",
       "      <td>SAR 98,785</td>\n",
       "      <td>1.5</td>\n",
       "      <td>4</td>\n",
       "      <td>102</td>\n",
       "      <td>145</td>\n",
       "      <td>4 Seater</td>\n",
       "      <td>suzuki</td>\n",
       "      <td>ksa</td>\n",
       "    </tr>\n",
       "    <tr>\n",
       "      <th>3</th>\n",
       "      <td>Ford Bronco 2021 2.3T Big Bend</td>\n",
       "      <td>SAR 198,000</td>\n",
       "      <td>2.3</td>\n",
       "      <td>4</td>\n",
       "      <td>420</td>\n",
       "      <td>4 Seater</td>\n",
       "      <td>7.5</td>\n",
       "      <td>ford</td>\n",
       "      <td>ksa</td>\n",
       "    </tr>\n",
       "    <tr>\n",
       "      <th>4</th>\n",
       "      <td>Honda HR-V 2021 1.8 i-VTEC LX</td>\n",
       "      <td>Orangeburst Metallic</td>\n",
       "      <td>1.8</td>\n",
       "      <td>4</td>\n",
       "      <td>140</td>\n",
       "      <td>190</td>\n",
       "      <td>5 Seater</td>\n",
       "      <td>honda</td>\n",
       "      <td>ksa</td>\n",
       "    </tr>\n",
       "  </tbody>\n",
       "</table>\n",
       "</div>"
      ],
      "text/plain": [
       "                           car name                 price engine_capacity  \\\n",
       "0           Fiat 500e 2021 La Prima                   TBD             0.0   \n",
       "1     Peugeot Traveller 2021 L3 VIP           SAR 140,575             2.0   \n",
       "2  Suzuki Jimny 2021 1.5L Automatic            SAR 98,785             1.5   \n",
       "3    Ford Bronco 2021 2.3T Big Bend           SAR 198,000             2.3   \n",
       "4     Honda HR-V 2021 1.8 i-VTEC LX  Orangeburst Metallic             1.8   \n",
       "\n",
       "        cylinder horse_power  top_speed     seats    brand country  \n",
       "0  N/A, Electric      Single  Automatic       150     fiat     ksa  \n",
       "1              4         180   8 Seater       8.8  peugeot     ksa  \n",
       "2              4         102        145  4 Seater   suzuki     ksa  \n",
       "3              4         420   4 Seater       7.5     ford     ksa  \n",
       "4              4         140        190  5 Seater    honda     ksa  "
      ]
     },
     "execution_count": 107,
     "metadata": {},
     "output_type": "execute_result"
    }
   ],
   "source": [
    "car_df.head()"
   ]
  },
  {
   "cell_type": "code",
   "execution_count": 108,
   "metadata": {},
   "outputs": [
    {
     "name": "stdout",
     "output_type": "stream",
     "text": [
      "<class 'pandas.core.frame.DataFrame'>\n",
      "RangeIndex: 6308 entries, 0 to 6307\n",
      "Data columns (total 9 columns):\n",
      " #   Column           Non-Null Count  Dtype \n",
      "---  ------           --------------  ----- \n",
      " 0   car name         6308 non-null   object\n",
      " 1   price            6308 non-null   object\n",
      " 2   engine_capacity  6308 non-null   object\n",
      " 3   cylinder         5684 non-null   object\n",
      " 4   horse_power      6308 non-null   object\n",
      " 5   top_speed        6308 non-null   object\n",
      " 6   seats            6308 non-null   object\n",
      " 7   brand            6308 non-null   object\n",
      " 8   country          6308 non-null   object\n",
      "dtypes: object(9)\n",
      "memory usage: 443.7+ KB\n"
     ]
    }
   ],
   "source": [
    "car_df.info()"
   ]
  },
  {
   "cell_type": "code",
   "execution_count": 109,
   "metadata": {},
   "outputs": [
    {
     "data": {
      "text/html": [
       "<div>\n",
       "<style scoped>\n",
       "    .dataframe tbody tr th:only-of-type {\n",
       "        vertical-align: middle;\n",
       "    }\n",
       "\n",
       "    .dataframe tbody tr th {\n",
       "        vertical-align: top;\n",
       "    }\n",
       "\n",
       "    .dataframe thead th {\n",
       "        text-align: right;\n",
       "    }\n",
       "</style>\n",
       "<table border=\"1\" class=\"dataframe\">\n",
       "  <thead>\n",
       "    <tr style=\"text-align: right;\">\n",
       "      <th></th>\n",
       "      <th>car name</th>\n",
       "      <th>price</th>\n",
       "      <th>engine_capacity</th>\n",
       "      <th>cylinder</th>\n",
       "      <th>horse_power</th>\n",
       "      <th>top_speed</th>\n",
       "      <th>seats</th>\n",
       "      <th>brand</th>\n",
       "      <th>country</th>\n",
       "    </tr>\n",
       "  </thead>\n",
       "  <tbody>\n",
       "    <tr>\n",
       "      <th>count</th>\n",
       "      <td>6308</td>\n",
       "      <td>6308</td>\n",
       "      <td>6308</td>\n",
       "      <td>5684</td>\n",
       "      <td>6308</td>\n",
       "      <td>6308</td>\n",
       "      <td>6308</td>\n",
       "      <td>6308</td>\n",
       "      <td>6308</td>\n",
       "    </tr>\n",
       "    <tr>\n",
       "      <th>unique</th>\n",
       "      <td>2546</td>\n",
       "      <td>3395</td>\n",
       "      <td>129</td>\n",
       "      <td>10</td>\n",
       "      <td>330</td>\n",
       "      <td>169</td>\n",
       "      <td>82</td>\n",
       "      <td>82</td>\n",
       "      <td>7</td>\n",
       "    </tr>\n",
       "    <tr>\n",
       "      <th>top</th>\n",
       "      <td>Mercedes-Benz C-Class 2022 C 300</td>\n",
       "      <td>TBD</td>\n",
       "      <td>2.0</td>\n",
       "      <td>4</td>\n",
       "      <td>150</td>\n",
       "      <td>250</td>\n",
       "      <td>5 Seater</td>\n",
       "      <td>mercedes-benz</td>\n",
       "      <td>uae</td>\n",
       "    </tr>\n",
       "    <tr>\n",
       "      <th>freq</th>\n",
       "      <td>10</td>\n",
       "      <td>437</td>\n",
       "      <td>1241</td>\n",
       "      <td>2856</td>\n",
       "      <td>162</td>\n",
       "      <td>1100</td>\n",
       "      <td>3471</td>\n",
       "      <td>560</td>\n",
       "      <td>1248</td>\n",
       "    </tr>\n",
       "  </tbody>\n",
       "</table>\n",
       "</div>"
      ],
      "text/plain": [
       "                                car name price engine_capacity cylinder  \\\n",
       "count                               6308  6308            6308     5684   \n",
       "unique                              2546  3395             129       10   \n",
       "top     Mercedes-Benz C-Class 2022 C 300   TBD             2.0        4   \n",
       "freq                                  10   437            1241     2856   \n",
       "\n",
       "       horse_power top_speed     seats          brand country  \n",
       "count         6308      6308      6308           6308    6308  \n",
       "unique         330       169        82             82       7  \n",
       "top            150       250  5 Seater  mercedes-benz     uae  \n",
       "freq           162      1100      3471            560    1248  "
      ]
     },
     "execution_count": 109,
     "metadata": {},
     "output_type": "execute_result"
    }
   ],
   "source": [
    "car_df.describe()"
   ]
  },
  {
   "cell_type": "code",
   "execution_count": 110,
   "metadata": {},
   "outputs": [
    {
     "name": "stdout",
     "output_type": "stream",
     "text": [
      "Index(['car name', 'price', 'engine_capacity', 'cylinder', 'horse_power',\n",
      "       'top_speed', 'seats', 'brand', 'country'],\n",
      "      dtype='object')\n"
     ]
    }
   ],
   "source": [
    "print(car_df.columns)"
   ]
  },
  {
   "cell_type": "code",
   "execution_count": 111,
   "metadata": {},
   "outputs": [],
   "source": [
    "currencies=set()\n",
    "\n",
    "for price in car_df['price']:\n",
    "    if not any(chr.isdigit() for chr in price):\n",
    "        car_df['price'] = car_df['price'].replace(price, -1)\n",
    "    else:\n",
    "            currencies.add(price.split(' ')[0])\n",
    "\n"
   ]
  },
  {
   "cell_type": "code",
   "execution_count": 112,
   "metadata": {},
   "outputs": [
    {
     "data": {
      "text/plain": [
       "{'AED', 'BHD', 'EGP', 'F8', 'KWD', 'OMR', 'QAR', 'SAR'}"
      ]
     },
     "execution_count": 112,
     "metadata": {},
     "output_type": "execute_result"
    }
   ],
   "source": [
    "currencies"
   ]
  },
  {
   "cell_type": "code",
   "execution_count": 113,
   "metadata": {},
   "outputs": [],
   "source": [
    "exchange_rates = {\n",
    "    'AED': 3.6725,  # 1 USD = 3.6725 AED\n",
    "    'BHD': 0.377,   # 1 USD = 0.377 BHD\n",
    "    'EGP': 30.22,   # 1 USD = 30.22 EGP\n",
    "    'KWD': 0.308,   # 1 USD = 0.308 KWD\n",
    "    'OMR': 0.384,   # 1 USD = 0.384 OMR\n",
    "    'QAR': 3.64,    # 1 USD = 3.64 QAR\n",
    "    'SAR': 3.75     # 1 USD = 3.75 SAR\n",
    "}\n"
   ]
  },
  {
   "cell_type": "code",
   "execution_count": 114,
   "metadata": {},
   "outputs": [],
   "source": [
    "converted_prices = []\n",
    "\n",
    "for price in car_df['price']:\n",
    "    if price == -1:\n",
    "        converted_prices.append(np.nan)\n",
    "    else:\n",
    "        currency = price.split(' ')[0]\n",
    "        try:\n",
    "            price_value = float(price.split(' ')[1].replace(',', '')) # remove the comma in the number\n",
    "            converted_price = price_value / exchange_rates[currency]\n",
    "            #add only 3 digits after the decimal point\n",
    "            converted_price = round(converted_price, 3)\n",
    "            converted_prices.append(converted_price)\n",
    "        except (ValueError, IndexError):\n",
    "            converted_prices.append(np.nan)\n",
    "\n",
    "car_df['price_usd'] = converted_prices\n",
    "car_df.drop('price', axis=1, inplace=True)"
   ]
  },
  {
   "cell_type": "code",
   "execution_count": 115,
   "metadata": {},
   "outputs": [
    {
     "data": {
      "text/html": [
       "<div>\n",
       "<style scoped>\n",
       "    .dataframe tbody tr th:only-of-type {\n",
       "        vertical-align: middle;\n",
       "    }\n",
       "\n",
       "    .dataframe tbody tr th {\n",
       "        vertical-align: top;\n",
       "    }\n",
       "\n",
       "    .dataframe thead th {\n",
       "        text-align: right;\n",
       "    }\n",
       "</style>\n",
       "<table border=\"1\" class=\"dataframe\">\n",
       "  <thead>\n",
       "    <tr style=\"text-align: right;\">\n",
       "      <th></th>\n",
       "      <th>car name</th>\n",
       "      <th>engine_capacity</th>\n",
       "      <th>cylinder</th>\n",
       "      <th>horse_power</th>\n",
       "      <th>top_speed</th>\n",
       "      <th>seats</th>\n",
       "      <th>brand</th>\n",
       "      <th>country</th>\n",
       "      <th>price_usd</th>\n",
       "    </tr>\n",
       "  </thead>\n",
       "  <tbody>\n",
       "    <tr>\n",
       "      <th>0</th>\n",
       "      <td>Fiat 500e 2021 La Prima</td>\n",
       "      <td>0.0</td>\n",
       "      <td>N/A, Electric</td>\n",
       "      <td>Single</td>\n",
       "      <td>Automatic</td>\n",
       "      <td>150</td>\n",
       "      <td>fiat</td>\n",
       "      <td>ksa</td>\n",
       "      <td>NaN</td>\n",
       "    </tr>\n",
       "    <tr>\n",
       "      <th>1</th>\n",
       "      <td>Peugeot Traveller 2021 L3 VIP</td>\n",
       "      <td>2.0</td>\n",
       "      <td>4</td>\n",
       "      <td>180</td>\n",
       "      <td>8 Seater</td>\n",
       "      <td>8.8</td>\n",
       "      <td>peugeot</td>\n",
       "      <td>ksa</td>\n",
       "      <td>37486.667</td>\n",
       "    </tr>\n",
       "    <tr>\n",
       "      <th>2</th>\n",
       "      <td>Suzuki Jimny 2021 1.5L Automatic</td>\n",
       "      <td>1.5</td>\n",
       "      <td>4</td>\n",
       "      <td>102</td>\n",
       "      <td>145</td>\n",
       "      <td>4 Seater</td>\n",
       "      <td>suzuki</td>\n",
       "      <td>ksa</td>\n",
       "      <td>26342.667</td>\n",
       "    </tr>\n",
       "    <tr>\n",
       "      <th>3</th>\n",
       "      <td>Ford Bronco 2021 2.3T Big Bend</td>\n",
       "      <td>2.3</td>\n",
       "      <td>4</td>\n",
       "      <td>420</td>\n",
       "      <td>4 Seater</td>\n",
       "      <td>7.5</td>\n",
       "      <td>ford</td>\n",
       "      <td>ksa</td>\n",
       "      <td>52800.000</td>\n",
       "    </tr>\n",
       "    <tr>\n",
       "      <th>4</th>\n",
       "      <td>Honda HR-V 2021 1.8 i-VTEC LX</td>\n",
       "      <td>1.8</td>\n",
       "      <td>4</td>\n",
       "      <td>140</td>\n",
       "      <td>190</td>\n",
       "      <td>5 Seater</td>\n",
       "      <td>honda</td>\n",
       "      <td>ksa</td>\n",
       "      <td>NaN</td>\n",
       "    </tr>\n",
       "    <tr>\n",
       "      <th>...</th>\n",
       "      <td>...</td>\n",
       "      <td>...</td>\n",
       "      <td>...</td>\n",
       "      <td>...</td>\n",
       "      <td>...</td>\n",
       "      <td>...</td>\n",
       "      <td>...</td>\n",
       "      <td>...</td>\n",
       "      <td>...</td>\n",
       "    </tr>\n",
       "    <tr>\n",
       "      <th>6303</th>\n",
       "      <td>Bentley Mulsanne 2021 6.75L V8 Extended Wheelbase</td>\n",
       "      <td>6.8</td>\n",
       "      <td>8</td>\n",
       "      <td>505</td>\n",
       "      <td>296</td>\n",
       "      <td>5 Seater</td>\n",
       "      <td>bentley</td>\n",
       "      <td>uae</td>\n",
       "      <td>NaN</td>\n",
       "    </tr>\n",
       "    <tr>\n",
       "      <th>6304</th>\n",
       "      <td>Ferrari SF90 Stradale 2021 4.0T V8 Plug-in-Hybrid</td>\n",
       "      <td>4.0</td>\n",
       "      <td>8</td>\n",
       "      <td>25</td>\n",
       "      <td>800</td>\n",
       "      <td>Automatic</td>\n",
       "      <td>ferrari</td>\n",
       "      <td>uae</td>\n",
       "      <td>480898.570</td>\n",
       "    </tr>\n",
       "    <tr>\n",
       "      <th>6305</th>\n",
       "      <td>Rolls Royce Wraith 2021 6.6L Base</td>\n",
       "      <td>6.6</td>\n",
       "      <td>12</td>\n",
       "      <td>624</td>\n",
       "      <td>250</td>\n",
       "      <td>4 Seater</td>\n",
       "      <td>rolls-royce</td>\n",
       "      <td>uae</td>\n",
       "      <td>381211.709</td>\n",
       "    </tr>\n",
       "    <tr>\n",
       "      <th>6306</th>\n",
       "      <td>Lamborghini Aventador S 2021 6.5L V12 Coupe</td>\n",
       "      <td>6.5</td>\n",
       "      <td>NaN</td>\n",
       "      <td>740</td>\n",
       "      <td>350</td>\n",
       "      <td>2 Seater</td>\n",
       "      <td>lamborghini</td>\n",
       "      <td>uae</td>\n",
       "      <td>449285.228</td>\n",
       "    </tr>\n",
       "    <tr>\n",
       "      <th>6307</th>\n",
       "      <td>Bentley Mulsanne 2021 6.75L V8 Speed</td>\n",
       "      <td>6.8</td>\n",
       "      <td>8</td>\n",
       "      <td>530</td>\n",
       "      <td>305</td>\n",
       "      <td>5 Seater</td>\n",
       "      <td>bentley</td>\n",
       "      <td>uae</td>\n",
       "      <td>NaN</td>\n",
       "    </tr>\n",
       "  </tbody>\n",
       "</table>\n",
       "<p>6308 rows × 9 columns</p>\n",
       "</div>"
      ],
      "text/plain": [
       "                                               car name engine_capacity  \\\n",
       "0                               Fiat 500e 2021 La Prima             0.0   \n",
       "1                         Peugeot Traveller 2021 L3 VIP             2.0   \n",
       "2                      Suzuki Jimny 2021 1.5L Automatic             1.5   \n",
       "3                        Ford Bronco 2021 2.3T Big Bend             2.3   \n",
       "4                         Honda HR-V 2021 1.8 i-VTEC LX             1.8   \n",
       "...                                                 ...             ...   \n",
       "6303  Bentley Mulsanne 2021 6.75L V8 Extended Wheelbase             6.8   \n",
       "6304  Ferrari SF90 Stradale 2021 4.0T V8 Plug-in-Hybrid             4.0   \n",
       "6305                  Rolls Royce Wraith 2021 6.6L Base             6.6   \n",
       "6306        Lamborghini Aventador S 2021 6.5L V12 Coupe             6.5   \n",
       "6307               Bentley Mulsanne 2021 6.75L V8 Speed             6.8   \n",
       "\n",
       "           cylinder horse_power  top_speed      seats        brand country  \\\n",
       "0     N/A, Electric      Single  Automatic        150         fiat     ksa   \n",
       "1                 4         180   8 Seater        8.8      peugeot     ksa   \n",
       "2                 4         102        145   4 Seater       suzuki     ksa   \n",
       "3                 4         420   4 Seater        7.5         ford     ksa   \n",
       "4                 4         140        190   5 Seater        honda     ksa   \n",
       "...             ...         ...        ...        ...          ...     ...   \n",
       "6303              8         505        296   5 Seater      bentley     uae   \n",
       "6304              8          25        800  Automatic      ferrari     uae   \n",
       "6305             12         624        250   4 Seater  rolls-royce     uae   \n",
       "6306            NaN         740        350   2 Seater  lamborghini     uae   \n",
       "6307              8         530        305   5 Seater      bentley     uae   \n",
       "\n",
       "       price_usd  \n",
       "0            NaN  \n",
       "1      37486.667  \n",
       "2      26342.667  \n",
       "3      52800.000  \n",
       "4            NaN  \n",
       "...          ...  \n",
       "6303         NaN  \n",
       "6304  480898.570  \n",
       "6305  381211.709  \n",
       "6306  449285.228  \n",
       "6307         NaN  \n",
       "\n",
       "[6308 rows x 9 columns]"
      ]
     },
     "execution_count": 115,
     "metadata": {},
     "output_type": "execute_result"
    }
   ],
   "source": [
    "car_df"
   ]
  },
  {
   "cell_type": "code",
   "execution_count": 116,
   "metadata": {},
   "outputs": [
    {
     "name": "stdout",
     "output_type": "stream",
     "text": [
      "<class 'pandas.core.frame.DataFrame'>\n",
      "RangeIndex: 6308 entries, 0 to 6307\n",
      "Data columns (total 9 columns):\n",
      " #   Column           Non-Null Count  Dtype  \n",
      "---  ------           --------------  -----  \n",
      " 0   car name         6308 non-null   object \n",
      " 1   engine_capacity  6308 non-null   object \n",
      " 2   cylinder         5684 non-null   object \n",
      " 3   horse_power      6308 non-null   object \n",
      " 4   top_speed        6308 non-null   object \n",
      " 5   seats            6308 non-null   object \n",
      " 6   brand            6308 non-null   object \n",
      " 7   country          6308 non-null   object \n",
      " 8   price_usd        4979 non-null   float64\n",
      "dtypes: float64(1), object(8)\n",
      "memory usage: 443.7+ KB\n"
     ]
    }
   ],
   "source": [
    "car_df.info()"
   ]
  },
  {
   "cell_type": "code",
   "execution_count": 132,
   "metadata": {},
   "outputs": [
    {
     "data": {
      "text/plain": [
       "count    4.979000e+03\n",
       "mean     7.222527e+04\n",
       "std      1.069692e+05\n",
       "min      4.765056e+03\n",
       "25%      2.568890e+04\n",
       "50%      4.752604e+04\n",
       "75%      8.385989e+04\n",
       "max      3.550613e+06\n",
       "Name: price_usd, dtype: float64"
      ]
     },
     "execution_count": 132,
     "metadata": {},
     "output_type": "execute_result"
    }
   ],
   "source": [
    "car_df['price_usd'].describe()"
   ]
  },
  {
   "cell_type": "code",
   "execution_count": 117,
   "metadata": {},
   "outputs": [
    {
     "name": "stdout",
     "output_type": "stream",
     "text": [
      "Cylinders\n",
      "Cylinders\n",
      "Cylinders\n"
     ]
    }
   ],
   "source": [
    "engine_capacities = []\n",
    "\n",
    "for val in car_df['engine_capacity']:\n",
    "    try:\n",
    "        val = float(val)\n",
    "        if val <= 0:\n",
    "            engine_capacities.append(np.nan)\n",
    "        elif val < 10:\n",
    "            engine_capacities.append(val * 1000)\n",
    "        else:\n",
    "            engine_capacities.append(val)\n",
    "\n",
    "    except ValueError: # if the value is not a number\n",
    "        print(val)\n",
    "        engine_capacities.append(np.nan)\n",
    "\n",
    "car_df['engine_capacity_edited'] = engine_capacities\n",
    "\n",
    "car_df.drop('engine_capacity', axis=1, inplace=True)\n",
    "#\n"
   ]
  },
  {
   "cell_type": "code",
   "execution_count": 118,
   "metadata": {},
   "outputs": [
    {
     "name": "stdout",
     "output_type": "stream",
     "text": [
      "<class 'pandas.core.frame.DataFrame'>\n",
      "RangeIndex: 6308 entries, 0 to 6307\n",
      "Data columns (total 9 columns):\n",
      " #   Column                  Non-Null Count  Dtype  \n",
      "---  ------                  --------------  -----  \n",
      " 0   car name                6308 non-null   object \n",
      " 1   cylinder                5684 non-null   object \n",
      " 2   horse_power             6308 non-null   object \n",
      " 3   top_speed               6308 non-null   object \n",
      " 4   seats                   6308 non-null   object \n",
      " 5   brand                   6308 non-null   object \n",
      " 6   country                 6308 non-null   object \n",
      " 7   price_usd               4979 non-null   float64\n",
      " 8   engine_capacity_edited  6162 non-null   float64\n",
      "dtypes: float64(2), object(7)\n",
      "memory usage: 443.7+ KB\n"
     ]
    }
   ],
   "source": [
    "car_df.info()"
   ]
  },
  {
   "cell_type": "code",
   "execution_count": 133,
   "metadata": {},
   "outputs": [
    {
     "data": {
      "text/plain": [
       "count    6162.000000\n",
       "mean     2880.719896\n",
       "std      1311.379589\n",
       "min       140.000000\n",
       "25%      2000.000000\n",
       "50%      2500.000000\n",
       "75%      3600.000000\n",
       "max      8000.000000\n",
       "Name: engine_capacity_edited, dtype: float64"
      ]
     },
     "execution_count": 133,
     "metadata": {},
     "output_type": "execute_result"
    }
   ],
   "source": [
    "car_df['engine_capacity_edited'].describe()"
   ]
  },
  {
   "cell_type": "code",
   "execution_count": 119,
   "metadata": {},
   "outputs": [
    {
     "data": {
      "image/png": "[encoded data removed]",
      "text/plain": [
       "<Figure size 1000x500 with 1 Axes>"
      ]
     },
     "metadata": {},
     "output_type": "display_data"
    }
   ],
   "source": [
    "\n",
    "# draw box plot \n",
    "plt.figure(figsize=(10, 5))\n",
    "sns.boxplot(x=car_df['engine_capacity_edited'])\n",
    "plt.title('Engine Capacity Box Plot')\n",
    "plt.show()\n",
    "\n",
    "    "
   ]
  },
  {
   "cell_type": "code",
   "execution_count": 120,
   "metadata": {},
   "outputs": [
    {
     "data": {
      "text/html": [
       "<div>\n",
       "<style scoped>\n",
       "    .dataframe tbody tr th:only-of-type {\n",
       "        vertical-align: middle;\n",
       "    }\n",
       "\n",
       "    .dataframe tbody tr th {\n",
       "        vertical-align: top;\n",
       "    }\n",
       "\n",
       "    .dataframe thead th {\n",
       "        text-align: right;\n",
       "    }\n",
       "</style>\n",
       "<table border=\"1\" class=\"dataframe\">\n",
       "  <thead>\n",
       "    <tr style=\"text-align: right;\">\n",
       "      <th></th>\n",
       "      <th>car name</th>\n",
       "      <th>cylinder</th>\n",
       "      <th>horse_power</th>\n",
       "      <th>top_speed</th>\n",
       "      <th>seats</th>\n",
       "      <th>brand</th>\n",
       "      <th>country</th>\n",
       "      <th>price_usd</th>\n",
       "      <th>engine_capacity_edited</th>\n",
       "    </tr>\n",
       "  </thead>\n",
       "  <tbody>\n",
       "    <tr>\n",
       "      <th>0</th>\n",
       "      <td>Fiat 500e 2021 La Prima</td>\n",
       "      <td>N/A, Electric</td>\n",
       "      <td>Single</td>\n",
       "      <td>Automatic</td>\n",
       "      <td>150</td>\n",
       "      <td>fiat</td>\n",
       "      <td>ksa</td>\n",
       "      <td>NaN</td>\n",
       "      <td>NaN</td>\n",
       "    </tr>\n",
       "    <tr>\n",
       "      <th>1</th>\n",
       "      <td>Peugeot Traveller 2021 L3 VIP</td>\n",
       "      <td>4</td>\n",
       "      <td>180</td>\n",
       "      <td>8 Seater</td>\n",
       "      <td>8.8</td>\n",
       "      <td>peugeot</td>\n",
       "      <td>ksa</td>\n",
       "      <td>37486.667</td>\n",
       "      <td>2000.0</td>\n",
       "    </tr>\n",
       "    <tr>\n",
       "      <th>2</th>\n",
       "      <td>Suzuki Jimny 2021 1.5L Automatic</td>\n",
       "      <td>4</td>\n",
       "      <td>102</td>\n",
       "      <td>145</td>\n",
       "      <td>4 Seater</td>\n",
       "      <td>suzuki</td>\n",
       "      <td>ksa</td>\n",
       "      <td>26342.667</td>\n",
       "      <td>1500.0</td>\n",
       "    </tr>\n",
       "    <tr>\n",
       "      <th>3</th>\n",
       "      <td>Ford Bronco 2021 2.3T Big Bend</td>\n",
       "      <td>4</td>\n",
       "      <td>420</td>\n",
       "      <td>4 Seater</td>\n",
       "      <td>7.5</td>\n",
       "      <td>ford</td>\n",
       "      <td>ksa</td>\n",
       "      <td>52800.000</td>\n",
       "      <td>2300.0</td>\n",
       "    </tr>\n",
       "    <tr>\n",
       "      <th>4</th>\n",
       "      <td>Honda HR-V 2021 1.8 i-VTEC LX</td>\n",
       "      <td>4</td>\n",
       "      <td>140</td>\n",
       "      <td>190</td>\n",
       "      <td>5 Seater</td>\n",
       "      <td>honda</td>\n",
       "      <td>ksa</td>\n",
       "      <td>NaN</td>\n",
       "      <td>1800.0</td>\n",
       "    </tr>\n",
       "  </tbody>\n",
       "</table>\n",
       "</div>"
      ],
      "text/plain": [
       "                           car name       cylinder horse_power  top_speed  \\\n",
       "0           Fiat 500e 2021 La Prima  N/A, Electric      Single  Automatic   \n",
       "1     Peugeot Traveller 2021 L3 VIP              4         180   8 Seater   \n",
       "2  Suzuki Jimny 2021 1.5L Automatic              4         102        145   \n",
       "3    Ford Bronco 2021 2.3T Big Bend              4         420   4 Seater   \n",
       "4     Honda HR-V 2021 1.8 i-VTEC LX              4         140        190   \n",
       "\n",
       "      seats    brand country  price_usd  engine_capacity_edited  \n",
       "0       150     fiat     ksa        NaN                     NaN  \n",
       "1       8.8  peugeot     ksa  37486.667                  2000.0  \n",
       "2  4 Seater   suzuki     ksa  26342.667                  1500.0  \n",
       "3       7.5     ford     ksa  52800.000                  2300.0  \n",
       "4  5 Seater    honda     ksa        NaN                  1800.0  "
      ]
     },
     "execution_count": 120,
     "metadata": {},
     "output_type": "execute_result"
    }
   ],
   "source": [
    "car_df.head()"
   ]
  },
  {
   "cell_type": "code",
   "execution_count": null,
   "metadata": {},
   "outputs": [],
   "source": [
    "cylinders = []\n",
    "c = set()\n",
    "for cylinder in car_df['cylinder']:\n",
    "    try:\n",
    "        cylinder=int(cylinder)\n",
    "\n",
    "        if cylinder <= 0:\n",
    "            cylinders.append(np.nan)\n",
    "        else:\n",
    "            cylinders.append(cylinder)\n",
    "    except ValueError:\n",
    "        cylinders.append(np.nan)\n",
    "\n",
    "car_df['cylinder_edited'] = cylinders\n",
    "# make int type\n",
    "car_df.drop('cylinder', axis=1, inplace=True)"
   ]
  },
  {
   "cell_type": "code",
   "execution_count": 122,
   "metadata": {},
   "outputs": [
    {
     "name": "stdout",
     "output_type": "stream",
     "text": [
      "<class 'pandas.core.frame.DataFrame'>\n",
      "RangeIndex: 6308 entries, 0 to 6307\n",
      "Data columns (total 9 columns):\n",
      " #   Column                  Non-Null Count  Dtype  \n",
      "---  ------                  --------------  -----  \n",
      " 0   car name                6308 non-null   object \n",
      " 1   horse_power             6308 non-null   object \n",
      " 2   top_speed               6308 non-null   object \n",
      " 3   seats                   6308 non-null   object \n",
      " 4   brand                   6308 non-null   object \n",
      " 5   country                 6308 non-null   object \n",
      " 6   price_usd               4979 non-null   float64\n",
      " 7   engine_capacity_edited  6162 non-null   float64\n",
      " 8   cylinder_edited         5574 non-null   float64\n",
      "dtypes: float64(3), object(6)\n",
      "memory usage: 443.7+ KB\n"
     ]
    }
   ],
   "source": [
    "car_df.info()"
   ]
  },
  {
   "cell_type": "code",
   "execution_count": 134,
   "metadata": {},
   "outputs": [
    {
     "data": {
      "text/plain": [
       "count    5574.000000\n",
       "mean        5.392178\n",
       "std         1.878257\n",
       "min         3.000000\n",
       "25%         4.000000\n",
       "50%         4.000000\n",
       "75%         6.000000\n",
       "max        16.000000\n",
       "Name: cylinder_edited, dtype: float64"
      ]
     },
     "execution_count": 134,
     "metadata": {},
     "output_type": "execute_result"
    }
   ],
   "source": [
    "\n",
    "car_df['cylinder_edited'].describe()"
   ]
  },
  {
   "cell_type": "code",
   "execution_count": 124,
   "metadata": {},
   "outputs": [
    {
     "data": {
      "image/png": "[encoded data removed]",
      "text/plain": [
       "<Figure size 1000x500 with 1 Axes>"
      ]
     },
     "metadata": {},
     "output_type": "display_data"
    }
   ],
   "source": [
    "# draw box plot\n",
    "plt.figure(figsize=(10, 5))\n",
    "sns.boxplot(x=car_df['cylinder_edited'])\n",
    "plt.title('Cylinder Box Plot')\n",
    "plt.show()"
   ]
  },
  {
   "cell_type": "code",
   "execution_count": 125,
   "metadata": {},
   "outputs": [
    {
     "data": {
      "text/html": [
       "<div>\n",
       "<style scoped>\n",
       "    .dataframe tbody tr th:only-of-type {\n",
       "        vertical-align: middle;\n",
       "    }\n",
       "\n",
       "    .dataframe tbody tr th {\n",
       "        vertical-align: top;\n",
       "    }\n",
       "\n",
       "    .dataframe thead th {\n",
       "        text-align: right;\n",
       "    }\n",
       "</style>\n",
       "<table border=\"1\" class=\"dataframe\">\n",
       "  <thead>\n",
       "    <tr style=\"text-align: right;\">\n",
       "      <th></th>\n",
       "      <th>car name</th>\n",
       "      <th>horse_power</th>\n",
       "      <th>top_speed</th>\n",
       "      <th>seats</th>\n",
       "      <th>brand</th>\n",
       "      <th>country</th>\n",
       "      <th>price_usd</th>\n",
       "      <th>engine_capacity_edited</th>\n",
       "      <th>cylinder_edited</th>\n",
       "    </tr>\n",
       "  </thead>\n",
       "  <tbody>\n",
       "    <tr>\n",
       "      <th>0</th>\n",
       "      <td>Fiat 500e 2021 La Prima</td>\n",
       "      <td>Single</td>\n",
       "      <td>Automatic</td>\n",
       "      <td>150</td>\n",
       "      <td>fiat</td>\n",
       "      <td>ksa</td>\n",
       "      <td>NaN</td>\n",
       "      <td>NaN</td>\n",
       "      <td>NaN</td>\n",
       "    </tr>\n",
       "    <tr>\n",
       "      <th>1</th>\n",
       "      <td>Peugeot Traveller 2021 L3 VIP</td>\n",
       "      <td>180</td>\n",
       "      <td>8 Seater</td>\n",
       "      <td>8.8</td>\n",
       "      <td>peugeot</td>\n",
       "      <td>ksa</td>\n",
       "      <td>37486.667</td>\n",
       "      <td>2000.0</td>\n",
       "      <td>4.0</td>\n",
       "    </tr>\n",
       "    <tr>\n",
       "      <th>2</th>\n",
       "      <td>Suzuki Jimny 2021 1.5L Automatic</td>\n",
       "      <td>102</td>\n",
       "      <td>145</td>\n",
       "      <td>4 Seater</td>\n",
       "      <td>suzuki</td>\n",
       "      <td>ksa</td>\n",
       "      <td>26342.667</td>\n",
       "      <td>1500.0</td>\n",
       "      <td>4.0</td>\n",
       "    </tr>\n",
       "    <tr>\n",
       "      <th>3</th>\n",
       "      <td>Ford Bronco 2021 2.3T Big Bend</td>\n",
       "      <td>420</td>\n",
       "      <td>4 Seater</td>\n",
       "      <td>7.5</td>\n",
       "      <td>ford</td>\n",
       "      <td>ksa</td>\n",
       "      <td>52800.000</td>\n",
       "      <td>2300.0</td>\n",
       "      <td>4.0</td>\n",
       "    </tr>\n",
       "    <tr>\n",
       "      <th>4</th>\n",
       "      <td>Honda HR-V 2021 1.8 i-VTEC LX</td>\n",
       "      <td>140</td>\n",
       "      <td>190</td>\n",
       "      <td>5 Seater</td>\n",
       "      <td>honda</td>\n",
       "      <td>ksa</td>\n",
       "      <td>NaN</td>\n",
       "      <td>1800.0</td>\n",
       "      <td>4.0</td>\n",
       "    </tr>\n",
       "  </tbody>\n",
       "</table>\n",
       "</div>"
      ],
      "text/plain": [
       "                           car name horse_power  top_speed     seats    brand  \\\n",
       "0           Fiat 500e 2021 La Prima      Single  Automatic       150     fiat   \n",
       "1     Peugeot Traveller 2021 L3 VIP         180   8 Seater       8.8  peugeot   \n",
       "2  Suzuki Jimny 2021 1.5L Automatic         102        145  4 Seater   suzuki   \n",
       "3    Ford Bronco 2021 2.3T Big Bend         420   4 Seater       7.5     ford   \n",
       "4     Honda HR-V 2021 1.8 i-VTEC LX         140        190  5 Seater    honda   \n",
       "\n",
       "  country  price_usd  engine_capacity_edited  cylinder_edited  \n",
       "0     ksa        NaN                     NaN              NaN  \n",
       "1     ksa  37486.667                  2000.0              4.0  \n",
       "2     ksa  26342.667                  1500.0              4.0  \n",
       "3     ksa  52800.000                  2300.0              4.0  \n",
       "4     ksa        NaN                  1800.0              4.0  "
      ]
     },
     "execution_count": 125,
     "metadata": {},
     "output_type": "execute_result"
    }
   ],
   "source": [
    "car_df.head()"
   ]
  },
  {
   "cell_type": "code",
   "execution_count": 126,
   "metadata": {},
   "outputs": [],
   "source": [
    "hourses = []\n",
    "\n",
    "for horse in car_df['horse_power']:\n",
    "    try:\n",
    "        horse = int(horse)\n",
    "        if horse <= 0:\n",
    "            hourses.append(np.nan)\n",
    "        else:\n",
    "            hourses.append(horse)\n",
    "    except ValueError:\n",
    "        hourses.append(np.nan)\n",
    "\n",
    "car_df['horse_power_edited'] = hourses\n",
    "car_df.drop('horse_power', axis=1, inplace=True)"
   ]
  },
  {
   "cell_type": "code",
   "execution_count": 131,
   "metadata": {},
   "outputs": [
    {
     "name": "stdout",
     "output_type": "stream",
     "text": [
      "<class 'pandas.core.frame.DataFrame'>\n",
      "RangeIndex: 6308 entries, 0 to 6307\n",
      "Data columns (total 9 columns):\n",
      " #   Column                  Non-Null Count  Dtype  \n",
      "---  ------                  --------------  -----  \n",
      " 0   car name                6308 non-null   object \n",
      " 1   top_speed               6308 non-null   object \n",
      " 2   seats                   6308 non-null   object \n",
      " 3   brand                   6308 non-null   object \n",
      " 4   country                 6308 non-null   object \n",
      " 5   price_usd               4979 non-null   float64\n",
      " 6   engine_capacity_edited  6162 non-null   float64\n",
      " 7   cylinder_edited         5574 non-null   float64\n",
      " 8   horse_power_edited      6186 non-null   float64\n",
      "dtypes: float64(4), object(5)\n",
      "memory usage: 443.7+ KB\n"
     ]
    }
   ],
   "source": [
    "car_df.info()\n"
   ]
  },
  {
   "cell_type": "code",
   "execution_count": 135,
   "metadata": {},
   "outputs": [
    {
     "data": {
      "text/plain": [
       "count    6186.000000\n",
       "mean      292.276431\n",
       "std       179.563811\n",
       "min        12.000000\n",
       "25%       168.000000\n",
       "50%       255.000000\n",
       "75%       367.000000\n",
       "max      5050.000000\n",
       "Name: horse_power_edited, dtype: float64"
      ]
     },
     "execution_count": 135,
     "metadata": {},
     "output_type": "execute_result"
    }
   ],
   "source": [
    "\n",
    "car_df['horse_power_edited'].describe()"
   ]
  },
  {
   "cell_type": "code",
   "execution_count": 128,
   "metadata": {},
   "outputs": [
    {
     "data": {
      "image/png": "[encoded data removed]",
      "text/plain": [
       "<Figure size 1000x500 with 1 Axes>"
      ]
     },
     "metadata": {},
     "output_type": "display_data"
    }
   ],
   "source": [
    "fig = plt.figure(figsize=(10, 5))\n",
    "sns.boxplot(x=car_df['horse_power_edited'])\n",
    "plt.title('Horse Power Box Plot')\n",
    "plt.show()"
   ]
  },
  {
   "cell_type": "code",
   "execution_count": 136,
   "metadata": {},
   "outputs": [
    {
     "data": {
      "text/html": [
       "<div>\n",
       "<style scoped>\n",
       "    .dataframe tbody tr th:only-of-type {\n",
       "        vertical-align: middle;\n",
       "    }\n",
       "\n",
       "    .dataframe tbody tr th {\n",
       "        vertical-align: top;\n",
       "    }\n",
       "\n",
       "    .dataframe thead th {\n",
       "        text-align: right;\n",
       "    }\n",
       "</style>\n",
       "<table border=\"1\" class=\"dataframe\">\n",
       "  <thead>\n",
       "    <tr style=\"text-align: right;\">\n",
       "      <th></th>\n",
       "      <th>car name</th>\n",
       "      <th>top_speed</th>\n",
       "      <th>seats</th>\n",
       "      <th>brand</th>\n",
       "      <th>country</th>\n",
       "      <th>price_usd</th>\n",
       "      <th>engine_capacity_edited</th>\n",
       "      <th>cylinder_edited</th>\n",
       "      <th>horse_power_edited</th>\n",
       "    </tr>\n",
       "  </thead>\n",
       "  <tbody>\n",
       "    <tr>\n",
       "      <th>0</th>\n",
       "      <td>Fiat 500e 2021 La Prima</td>\n",
       "      <td>Automatic</td>\n",
       "      <td>150</td>\n",
       "      <td>fiat</td>\n",
       "      <td>ksa</td>\n",
       "      <td>NaN</td>\n",
       "      <td>NaN</td>\n",
       "      <td>NaN</td>\n",
       "      <td>NaN</td>\n",
       "    </tr>\n",
       "    <tr>\n",
       "      <th>1</th>\n",
       "      <td>Peugeot Traveller 2021 L3 VIP</td>\n",
       "      <td>8 Seater</td>\n",
       "      <td>8.8</td>\n",
       "      <td>peugeot</td>\n",
       "      <td>ksa</td>\n",
       "      <td>37486.667</td>\n",
       "      <td>2000.0</td>\n",
       "      <td>4.0</td>\n",
       "      <td>180.0</td>\n",
       "    </tr>\n",
       "    <tr>\n",
       "      <th>2</th>\n",
       "      <td>Suzuki Jimny 2021 1.5L Automatic</td>\n",
       "      <td>145</td>\n",
       "      <td>4 Seater</td>\n",
       "      <td>suzuki</td>\n",
       "      <td>ksa</td>\n",
       "      <td>26342.667</td>\n",
       "      <td>1500.0</td>\n",
       "      <td>4.0</td>\n",
       "      <td>102.0</td>\n",
       "    </tr>\n",
       "    <tr>\n",
       "      <th>3</th>\n",
       "      <td>Ford Bronco 2021 2.3T Big Bend</td>\n",
       "      <td>4 Seater</td>\n",
       "      <td>7.5</td>\n",
       "      <td>ford</td>\n",
       "      <td>ksa</td>\n",
       "      <td>52800.000</td>\n",
       "      <td>2300.0</td>\n",
       "      <td>4.0</td>\n",
       "      <td>420.0</td>\n",
       "    </tr>\n",
       "    <tr>\n",
       "      <th>4</th>\n",
       "      <td>Honda HR-V 2021 1.8 i-VTEC LX</td>\n",
       "      <td>190</td>\n",
       "      <td>5 Seater</td>\n",
       "      <td>honda</td>\n",
       "      <td>ksa</td>\n",
       "      <td>NaN</td>\n",
       "      <td>1800.0</td>\n",
       "      <td>4.0</td>\n",
       "      <td>140.0</td>\n",
       "    </tr>\n",
       "  </tbody>\n",
       "</table>\n",
       "</div>"
      ],
      "text/plain": [
       "                           car name  top_speed     seats    brand country  \\\n",
       "0           Fiat 500e 2021 La Prima  Automatic       150     fiat     ksa   \n",
       "1     Peugeot Traveller 2021 L3 VIP   8 Seater       8.8  peugeot     ksa   \n",
       "2  Suzuki Jimny 2021 1.5L Automatic        145  4 Seater   suzuki     ksa   \n",
       "3    Ford Bronco 2021 2.3T Big Bend   4 Seater       7.5     ford     ksa   \n",
       "4     Honda HR-V 2021 1.8 i-VTEC LX        190  5 Seater    honda     ksa   \n",
       "\n",
       "   price_usd  engine_capacity_edited  cylinder_edited  horse_power_edited  \n",
       "0        NaN                     NaN              NaN                 NaN  \n",
       "1  37486.667                  2000.0              4.0               180.0  \n",
       "2  26342.667                  1500.0              4.0               102.0  \n",
       "3  52800.000                  2300.0              4.0               420.0  \n",
       "4        NaN                  1800.0              4.0               140.0  "
      ]
     },
     "execution_count": 136,
     "metadata": {},
     "output_type": "execute_result"
    }
   ],
   "source": [
    "\n",
    "car_df.head()"
   ]
  },
  {
   "cell_type": "code",
   "execution_count": 137,
   "metadata": {},
   "outputs": [],
   "source": [
    "top_speeds = []\n",
    "\n",
    "for speed in car_df['top_speed']:\n",
    "    try:\n",
    "        speed = int(speed)\n",
    "        if speed <= 0:\n",
    "            top_speeds.append(np.nan)\n",
    "        else:\n",
    "            top_speeds.append(speed)\n",
    "    except ValueError:\n",
    "        top_speeds.append(np.nan)\n",
    "\n",
    "car_df['top_speed_edited'] = top_speeds\n",
    "car_df.drop('top_speed', axis=1, inplace=True)"
   ]
  },
  {
   "cell_type": "code",
   "execution_count": 138,
   "metadata": {},
   "outputs": [
    {
     "name": "stdout",
     "output_type": "stream",
     "text": [
      "<class 'pandas.core.frame.DataFrame'>\n",
      "RangeIndex: 6308 entries, 0 to 6307\n",
      "Data columns (total 9 columns):\n",
      " #   Column                  Non-Null Count  Dtype  \n",
      "---  ------                  --------------  -----  \n",
      " 0   car name                6308 non-null   object \n",
      " 1   seats                   6308 non-null   object \n",
      " 2   brand                   6308 non-null   object \n",
      " 3   country                 6308 non-null   object \n",
      " 4   price_usd               4979 non-null   float64\n",
      " 5   engine_capacity_edited  6162 non-null   float64\n",
      " 6   cylinder_edited         5574 non-null   float64\n",
      " 7   horse_power_edited      6186 non-null   float64\n",
      " 8   top_speed_edited        5875 non-null   float64\n",
      "dtypes: float64(5), object(4)\n",
      "memory usage: 443.7+ KB\n"
     ]
    }
   ],
   "source": [
    "\n",
    "car_df.info()"
   ]
  },
  {
   "cell_type": "code",
   "execution_count": 139,
   "metadata": {},
   "outputs": [
    {
     "data": {
      "text/plain": [
       "count    5875.000000\n",
       "mean      221.580936\n",
       "std        47.425034\n",
       "min       120.000000\n",
       "25%       185.000000\n",
       "50%       211.000000\n",
       "75%       250.000000\n",
       "max       966.000000\n",
       "Name: top_speed_edited, dtype: float64"
      ]
     },
     "execution_count": 139,
     "metadata": {},
     "output_type": "execute_result"
    }
   ],
   "source": [
    "car_df['top_speed_edited'].describe()"
   ]
  },
  {
   "cell_type": "code",
   "execution_count": 140,
   "metadata": {},
   "outputs": [
    {
     "data": {
      "image/png": "[encoded data removed]",
      "text/plain": [
       "<Figure size 1000x500 with 1 Axes>"
      ]
     },
     "metadata": {},
     "output_type": "display_data"
    }
   ],
   "source": [
    "\n",
    "fig = plt.figure(figsize=(10, 5))\n",
    "sns.boxplot(x=car_df['top_speed_edited'])\n",
    "plt.title('Top Speed Box Plot')\n",
    "plt.show()"
   ]
  },
  {
   "cell_type": "code",
   "execution_count": 143,
   "metadata": {},
   "outputs": [
    {
     "data": {
      "text/html": [
       "<div>\n",
       "<style scoped>\n",
       "    .dataframe tbody tr th:only-of-type {\n",
       "        vertical-align: middle;\n",
       "    }\n",
       "\n",
       "    .dataframe tbody tr th {\n",
       "        vertical-align: top;\n",
       "    }\n",
       "\n",
       "    .dataframe thead th {\n",
       "        text-align: right;\n",
       "    }\n",
       "</style>\n",
       "<table border=\"1\" class=\"dataframe\">\n",
       "  <thead>\n",
       "    <tr style=\"text-align: right;\">\n",
       "      <th></th>\n",
       "      <th>car name</th>\n",
       "      <th>seats</th>\n",
       "      <th>brand</th>\n",
       "      <th>country</th>\n",
       "      <th>price_usd</th>\n",
       "      <th>engine_capacity_edited</th>\n",
       "      <th>cylinder_edited</th>\n",
       "      <th>horse_power_edited</th>\n",
       "      <th>top_speed_edited</th>\n",
       "    </tr>\n",
       "  </thead>\n",
       "  <tbody>\n",
       "    <tr>\n",
       "      <th>0</th>\n",
       "      <td>Fiat 500e 2021 La Prima</td>\n",
       "      <td>150</td>\n",
       "      <td>fiat</td>\n",
       "      <td>ksa</td>\n",
       "      <td>NaN</td>\n",
       "      <td>NaN</td>\n",
       "      <td>NaN</td>\n",
       "      <td>NaN</td>\n",
       "      <td>NaN</td>\n",
       "    </tr>\n",
       "    <tr>\n",
       "      <th>1</th>\n",
       "      <td>Peugeot Traveller 2021 L3 VIP</td>\n",
       "      <td>8.8</td>\n",
       "      <td>peugeot</td>\n",
       "      <td>ksa</td>\n",
       "      <td>37486.667</td>\n",
       "      <td>2000.0</td>\n",
       "      <td>4.0</td>\n",
       "      <td>180.0</td>\n",
       "      <td>NaN</td>\n",
       "    </tr>\n",
       "    <tr>\n",
       "      <th>2</th>\n",
       "      <td>Suzuki Jimny 2021 1.5L Automatic</td>\n",
       "      <td>4 Seater</td>\n",
       "      <td>suzuki</td>\n",
       "      <td>ksa</td>\n",
       "      <td>26342.667</td>\n",
       "      <td>1500.0</td>\n",
       "      <td>4.0</td>\n",
       "      <td>102.0</td>\n",
       "      <td>145.0</td>\n",
       "    </tr>\n",
       "    <tr>\n",
       "      <th>3</th>\n",
       "      <td>Ford Bronco 2021 2.3T Big Bend</td>\n",
       "      <td>7.5</td>\n",
       "      <td>ford</td>\n",
       "      <td>ksa</td>\n",
       "      <td>52800.000</td>\n",
       "      <td>2300.0</td>\n",
       "      <td>4.0</td>\n",
       "      <td>420.0</td>\n",
       "      <td>NaN</td>\n",
       "    </tr>\n",
       "    <tr>\n",
       "      <th>4</th>\n",
       "      <td>Honda HR-V 2021 1.8 i-VTEC LX</td>\n",
       "      <td>5 Seater</td>\n",
       "      <td>honda</td>\n",
       "      <td>ksa</td>\n",
       "      <td>NaN</td>\n",
       "      <td>1800.0</td>\n",
       "      <td>4.0</td>\n",
       "      <td>140.0</td>\n",
       "      <td>190.0</td>\n",
       "    </tr>\n",
       "  </tbody>\n",
       "</table>\n",
       "</div>"
      ],
      "text/plain": [
       "                           car name     seats    brand country  price_usd  \\\n",
       "0           Fiat 500e 2021 La Prima       150     fiat     ksa        NaN   \n",
       "1     Peugeot Traveller 2021 L3 VIP       8.8  peugeot     ksa  37486.667   \n",
       "2  Suzuki Jimny 2021 1.5L Automatic  4 Seater   suzuki     ksa  26342.667   \n",
       "3    Ford Bronco 2021 2.3T Big Bend       7.5     ford     ksa  52800.000   \n",
       "4     Honda HR-V 2021 1.8 i-VTEC LX  5 Seater    honda     ksa        NaN   \n",
       "\n",
       "   engine_capacity_edited  cylinder_edited  horse_power_edited  \\\n",
       "0                     NaN              NaN                 NaN   \n",
       "1                  2000.0              4.0               180.0   \n",
       "2                  1500.0              4.0               102.0   \n",
       "3                  2300.0              4.0               420.0   \n",
       "4                  1800.0              4.0               140.0   \n",
       "\n",
       "   top_speed_edited  \n",
       "0               NaN  \n",
       "1               NaN  \n",
       "2             145.0  \n",
       "3               NaN  \n",
       "4             190.0  "
      ]
     },
     "execution_count": 143,
     "metadata": {},
     "output_type": "execute_result"
    }
   ],
   "source": [
    "\n",
    "car_df.head()\n"
   ]
  },
  {
   "cell_type": "code",
   "execution_count": 144,
   "metadata": {},
   "outputs": [],
   "source": [
    "# the seats are in format # Seater\n",
    "\n",
    "seats = []\n",
    "\n",
    "for seat in car_df['seats']:\n",
    "    try:\n",
    "        seat = int(seat.split(' ')[0])\n",
    "        if seat <= 0:\n",
    "            seats.append(np.nan)\n",
    "        else:\n",
    "            seats.append(seat)\n",
    "    except ValueError:\n",
    "        seats.append(np.nan)\n",
    "\n",
    "car_df['seats_edited'] = seats\n",
    "car_df.drop('seats', axis=1, inplace=True)"
   ]
  },
  {
   "cell_type": "code",
   "execution_count": 145,
   "metadata": {},
   "outputs": [
    {
     "name": "stdout",
     "output_type": "stream",
     "text": [
      "<class 'pandas.core.frame.DataFrame'>\n",
      "RangeIndex: 6308 entries, 0 to 6307\n",
      "Data columns (total 9 columns):\n",
      " #   Column                  Non-Null Count  Dtype  \n",
      "---  ------                  --------------  -----  \n",
      " 0   car name                6308 non-null   object \n",
      " 1   brand                   6308 non-null   object \n",
      " 2   country                 6308 non-null   object \n",
      " 3   price_usd               4979 non-null   float64\n",
      " 4   engine_capacity_edited  6162 non-null   float64\n",
      " 5   cylinder_edited         5574 non-null   float64\n",
      " 6   horse_power_edited      6186 non-null   float64\n",
      " 7   top_speed_edited        5875 non-null   float64\n",
      " 8   seats_edited            5886 non-null   float64\n",
      "dtypes: float64(6), object(3)\n",
      "memory usage: 443.7+ KB\n"
     ]
    }
   ],
   "source": [
    "\n",
    "car_df.info()\n"
   ]
  },
  {
   "cell_type": "code",
   "execution_count": 146,
   "metadata": {},
   "outputs": [
    {
     "data": {
      "text/plain": [
       "count    5886.000000\n",
       "mean        7.581380\n",
       "std        22.489293\n",
       "min         2.000000\n",
       "25%         5.000000\n",
       "50%         5.000000\n",
       "75%         5.000000\n",
       "max       260.000000\n",
       "Name: seats_edited, dtype: float64"
      ]
     },
     "execution_count": 146,
     "metadata": {},
     "output_type": "execute_result"
    }
   ],
   "source": [
    "\n",
    "car_df['seats_edited'].describe()"
   ]
  },
  {
   "cell_type": "code",
   "execution_count": 147,
   "metadata": {},
   "outputs": [
    {
     "data": {
      "image/png": "[encoded data removed]",
      "text/plain": [
       "<Figure size 1000x500 with 1 Axes>"
      ]
     },
     "metadata": {},
     "output_type": "display_data"
    }
   ],
   "source": [
    "\n",
    "fig = plt.figure(figsize=(10, 5))\n",
    "sns.boxplot(x=car_df['seats_edited'])\n",
    "plt.title('Seats Box Plot')\n",
    "plt.show()"
   ]
  },
  {
   "cell_type": "code",
   "execution_count": null,
   "metadata": {},
   "outputs": [
    {
     "data": {
      "text/plain": [
       "array(['ksa', 'egypt', 'bahrain', 'qatar', 'oman', 'kuwait', 'uae'],\n",
       "      dtype=object)"
      ]
     },
     "execution_count": 149,
     "metadata": {},
     "output_type": "execute_result"
    }
   ],
   "source": [
    "# show country as a set\n",
    "car_df['country'].unique()"
   ]
  },
  {
   "cell_type": "code",
   "execution_count": 150,
   "metadata": {},
   "outputs": [
    {
     "data": {
      "text/html": [
       "<div>\n",
       "<style scoped>\n",
       "    .dataframe tbody tr th:only-of-type {\n",
       "        vertical-align: middle;\n",
       "    }\n",
       "\n",
       "    .dataframe tbody tr th {\n",
       "        vertical-align: top;\n",
       "    }\n",
       "\n",
       "    .dataframe thead th {\n",
       "        text-align: right;\n",
       "    }\n",
       "</style>\n",
       "<table border=\"1\" class=\"dataframe\">\n",
       "  <thead>\n",
       "    <tr style=\"text-align: right;\">\n",
       "      <th></th>\n",
       "      <th>car name</th>\n",
       "      <th>brand</th>\n",
       "      <th>country</th>\n",
       "      <th>price_usd</th>\n",
       "      <th>engine_capacity_edited</th>\n",
       "      <th>cylinder_edited</th>\n",
       "      <th>horse_power_edited</th>\n",
       "      <th>top_speed_edited</th>\n",
       "      <th>seats_edited</th>\n",
       "    </tr>\n",
       "  </thead>\n",
       "  <tbody>\n",
       "    <tr>\n",
       "      <th>0</th>\n",
       "      <td>Fiat 500e 2021 La Prima</td>\n",
       "      <td>fiat</td>\n",
       "      <td>ksa</td>\n",
       "      <td>NaN</td>\n",
       "      <td>NaN</td>\n",
       "      <td>NaN</td>\n",
       "      <td>NaN</td>\n",
       "      <td>NaN</td>\n",
       "      <td>150.0</td>\n",
       "    </tr>\n",
       "    <tr>\n",
       "      <th>1</th>\n",
       "      <td>Peugeot Traveller 2021 L3 VIP</td>\n",
       "      <td>peugeot</td>\n",
       "      <td>ksa</td>\n",
       "      <td>37486.667</td>\n",
       "      <td>2000.0</td>\n",
       "      <td>4.0</td>\n",
       "      <td>180.0</td>\n",
       "      <td>NaN</td>\n",
       "      <td>NaN</td>\n",
       "    </tr>\n",
       "    <tr>\n",
       "      <th>2</th>\n",
       "      <td>Suzuki Jimny 2021 1.5L Automatic</td>\n",
       "      <td>suzuki</td>\n",
       "      <td>ksa</td>\n",
       "      <td>26342.667</td>\n",
       "      <td>1500.0</td>\n",
       "      <td>4.0</td>\n",
       "      <td>102.0</td>\n",
       "      <td>145.0</td>\n",
       "      <td>4.0</td>\n",
       "    </tr>\n",
       "    <tr>\n",
       "      <th>3</th>\n",
       "      <td>Ford Bronco 2021 2.3T Big Bend</td>\n",
       "      <td>ford</td>\n",
       "      <td>ksa</td>\n",
       "      <td>52800.000</td>\n",
       "      <td>2300.0</td>\n",
       "      <td>4.0</td>\n",
       "      <td>420.0</td>\n",
       "      <td>NaN</td>\n",
       "      <td>NaN</td>\n",
       "    </tr>\n",
       "    <tr>\n",
       "      <th>4</th>\n",
       "      <td>Honda HR-V 2021 1.8 i-VTEC LX</td>\n",
       "      <td>honda</td>\n",
       "      <td>ksa</td>\n",
       "      <td>NaN</td>\n",
       "      <td>1800.0</td>\n",
       "      <td>4.0</td>\n",
       "      <td>140.0</td>\n",
       "      <td>190.0</td>\n",
       "      <td>5.0</td>\n",
       "    </tr>\n",
       "  </tbody>\n",
       "</table>\n",
       "</div>"
      ],
      "text/plain": [
       "                           car name    brand country  price_usd  \\\n",
       "0           Fiat 500e 2021 La Prima     fiat     ksa        NaN   \n",
       "1     Peugeot Traveller 2021 L3 VIP  peugeot     ksa  37486.667   \n",
       "2  Suzuki Jimny 2021 1.5L Automatic   suzuki     ksa  26342.667   \n",
       "3    Ford Bronco 2021 2.3T Big Bend     ford     ksa  52800.000   \n",
       "4     Honda HR-V 2021 1.8 i-VTEC LX    honda     ksa        NaN   \n",
       "\n",
       "   engine_capacity_edited  cylinder_edited  horse_power_edited  \\\n",
       "0                     NaN              NaN                 NaN   \n",
       "1                  2000.0              4.0               180.0   \n",
       "2                  1500.0              4.0               102.0   \n",
       "3                  2300.0              4.0               420.0   \n",
       "4                  1800.0              4.0               140.0   \n",
       "\n",
       "   top_speed_edited  seats_edited  \n",
       "0               NaN         150.0  \n",
       "1               NaN           NaN  \n",
       "2             145.0           4.0  \n",
       "3               NaN           NaN  \n",
       "4             190.0           5.0  "
      ]
     },
     "execution_count": 150,
     "metadata": {},
     "output_type": "execute_result"
    }
   ],
   "source": [
    "car_df.head()"
   ]
  },
  {
   "cell_type": "markdown",
   "metadata": {},
   "source": [
    "data is cleaned \n",
    "remaianing outliers and missing values"
   ]
  },
  {
   "cell_type": "code",
   "execution_count": null,
   "metadata": {},
   "outputs": [],
   "source": []
  }
 ],
 "metadata": {
  "kernelspec": {
   "display_name": "Python 3",
   "language": "python",
   "name": "python3"
  },
  "language_info": {
   "codemirror_mode": {
    "name": "ipython",
    "version": 3
   },
   "file_extension": ".py",
   "mimetype": "text/x-python",
   "name": "python",
   "nbconvert_exporter": "python",
   "pygments_lexer": "ipython3",
   "version": "3.12.2"
  }
 },
 "nbformat": 4,
 "nbformat_minor": 2
}
