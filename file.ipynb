{
 "cells": [
  {
   "cell_type": "markdown",
   "metadata": {},
   "source": [
    "The main objective of this dataset is to predict car prices,"
   ]
  },
  {
   "cell_type": "code",
   "execution_count": 87,
   "metadata": {},
   "outputs": [],
   "source": [
    "import pandas as pd\n",
    "import numpy as np\n",
    "import matplotlib.pyplot as plt\n",
    "import seaborn as sns\n",
    "from sklearn.preprocessing import LabelEncoder\n",
    "from sklearn.model_selection import train_test_split\n",
    "\n",
    "from scipy.stats import zscore\n",
    "from itertools import combinations_with_replacement\n"
   ]
  },
  {
   "cell_type": "markdown",
   "metadata": {},
   "source": []
  },
  {
   "cell_type": "markdown",
   "metadata": {},
   "source": [
    "## Download Dataset"
   ]
  },
  {
   "cell_type": "code",
   "execution_count": 3,
   "metadata": {},
   "outputs": [],
   "source": [
    "# !kaggle datasets download ahmedwaelnasef/cars-dataset"
   ]
  },
  {
   "cell_type": "code",
   "execution_count": 4,
   "metadata": {},
   "outputs": [],
   "source": [
    "# import zipfile\n",
    "\n",
    "# with zipfile.ZipFile('cars-dataset.zip', 'r') as zip_ref:\n",
    "#     zip_ref.extractall('cars-dataset')"
   ]
  },
  {
   "cell_type": "markdown",
   "metadata": {},
   "source": [
    "## Import Dataset"
   ]
  },
  {
   "cell_type": "code",
   "execution_count": 5,
   "metadata": {},
   "outputs": [],
   "source": [
    "car_df = pd.read_csv('cars-dataset/cars.csv')"
   ]
  },
  {
   "cell_type": "code",
   "execution_count": 6,
   "metadata": {},
   "outputs": [
    {
     "data": {
      "text/html": [
       "<div>\n",
       "<style scoped>\n",
       "    .dataframe tbody tr th:only-of-type {\n",
       "        vertical-align: middle;\n",
       "    }\n",
       "\n",
       "    .dataframe tbody tr th {\n",
       "        vertical-align: top;\n",
       "    }\n",
       "\n",
       "    .dataframe thead th {\n",
       "        text-align: right;\n",
       "    }\n",
       "</style>\n",
       "<table border=\"1\" class=\"dataframe\">\n",
       "  <thead>\n",
       "    <tr style=\"text-align: right;\">\n",
       "      <th></th>\n",
       "      <th>car name</th>\n",
       "      <th>price</th>\n",
       "      <th>engine_capacity</th>\n",
       "      <th>cylinder</th>\n",
       "      <th>horse_power</th>\n",
       "      <th>top_speed</th>\n",
       "      <th>seats</th>\n",
       "      <th>brand</th>\n",
       "      <th>country</th>\n",
       "    </tr>\n",
       "  </thead>\n",
       "  <tbody>\n",
       "    <tr>\n",
       "      <th>0</th>\n",
       "      <td>Fiat 500e 2021 La Prima</td>\n",
       "      <td>TBD</td>\n",
       "      <td>0.0</td>\n",
       "      <td>N/A, Electric</td>\n",
       "      <td>Single</td>\n",
       "      <td>Automatic</td>\n",
       "      <td>150</td>\n",
       "      <td>fiat</td>\n",
       "      <td>ksa</td>\n",
       "    </tr>\n",
       "    <tr>\n",
       "      <th>1</th>\n",
       "      <td>Peugeot Traveller 2021 L3 VIP</td>\n",
       "      <td>SAR 140,575</td>\n",
       "      <td>2.0</td>\n",
       "      <td>4</td>\n",
       "      <td>180</td>\n",
       "      <td>8 Seater</td>\n",
       "      <td>8.8</td>\n",
       "      <td>peugeot</td>\n",
       "      <td>ksa</td>\n",
       "    </tr>\n",
       "    <tr>\n",
       "      <th>2</th>\n",
       "      <td>Suzuki Jimny 2021 1.5L Automatic</td>\n",
       "      <td>SAR 98,785</td>\n",
       "      <td>1.5</td>\n",
       "      <td>4</td>\n",
       "      <td>102</td>\n",
       "      <td>145</td>\n",
       "      <td>4 Seater</td>\n",
       "      <td>suzuki</td>\n",
       "      <td>ksa</td>\n",
       "    </tr>\n",
       "    <tr>\n",
       "      <th>3</th>\n",
       "      <td>Ford Bronco 2021 2.3T Big Bend</td>\n",
       "      <td>SAR 198,000</td>\n",
       "      <td>2.3</td>\n",
       "      <td>4</td>\n",
       "      <td>420</td>\n",
       "      <td>4 Seater</td>\n",
       "      <td>7.5</td>\n",
       "      <td>ford</td>\n",
       "      <td>ksa</td>\n",
       "    </tr>\n",
       "    <tr>\n",
       "      <th>4</th>\n",
       "      <td>Honda HR-V 2021 1.8 i-VTEC LX</td>\n",
       "      <td>Orangeburst Metallic</td>\n",
       "      <td>1.8</td>\n",
       "      <td>4</td>\n",
       "      <td>140</td>\n",
       "      <td>190</td>\n",
       "      <td>5 Seater</td>\n",
       "      <td>honda</td>\n",
       "      <td>ksa</td>\n",
       "    </tr>\n",
       "  </tbody>\n",
       "</table>\n",
       "</div>"
      ],
      "text/plain": [
       "                           car name                 price engine_capacity  \\\n",
       "0           Fiat 500e 2021 La Prima                   TBD             0.0   \n",
       "1     Peugeot Traveller 2021 L3 VIP           SAR 140,575             2.0   \n",
       "2  Suzuki Jimny 2021 1.5L Automatic            SAR 98,785             1.5   \n",
       "3    Ford Bronco 2021 2.3T Big Bend           SAR 198,000             2.3   \n",
       "4     Honda HR-V 2021 1.8 i-VTEC LX  Orangeburst Metallic             1.8   \n",
       "\n",
       "        cylinder horse_power  top_speed     seats    brand country  \n",
       "0  N/A, Electric      Single  Automatic       150     fiat     ksa  \n",
       "1              4         180   8 Seater       8.8  peugeot     ksa  \n",
       "2              4         102        145  4 Seater   suzuki     ksa  \n",
       "3              4         420   4 Seater       7.5     ford     ksa  \n",
       "4              4         140        190  5 Seater    honda     ksa  "
      ]
     },
     "execution_count": 6,
     "metadata": {},
     "output_type": "execute_result"
    }
   ],
   "source": [
    "car_df.head()"
   ]
  },
  {
   "cell_type": "code",
   "execution_count": 7,
   "metadata": {},
   "outputs": [
    {
     "name": "stdout",
     "output_type": "stream",
     "text": [
      "<class 'pandas.core.frame.DataFrame'>\n",
      "RangeIndex: 6308 entries, 0 to 6307\n",
      "Data columns (total 9 columns):\n",
      " #   Column           Non-Null Count  Dtype \n",
      "---  ------           --------------  ----- \n",
      " 0   car name         6308 non-null   object\n",
      " 1   price            6308 non-null   object\n",
      " 2   engine_capacity  6308 non-null   object\n",
      " 3   cylinder         5684 non-null   object\n",
      " 4   horse_power      6308 non-null   object\n",
      " 5   top_speed        6308 non-null   object\n",
      " 6   seats            6308 non-null   object\n",
      " 7   brand            6308 non-null   object\n",
      " 8   country          6308 non-null   object\n",
      "dtypes: object(9)\n",
      "memory usage: 443.7+ KB\n"
     ]
    }
   ],
   "source": [
    "car_df.info()"
   ]
  },
  {
   "cell_type": "code",
   "execution_count": 8,
   "metadata": {},
   "outputs": [
    {
     "data": {
      "text/html": [
       "<div>\n",
       "<style scoped>\n",
       "    .dataframe tbody tr th:only-of-type {\n",
       "        vertical-align: middle;\n",
       "    }\n",
       "\n",
       "    .dataframe tbody tr th {\n",
       "        vertical-align: top;\n",
       "    }\n",
       "\n",
       "    .dataframe thead th {\n",
       "        text-align: right;\n",
       "    }\n",
       "</style>\n",
       "<table border=\"1\" class=\"dataframe\">\n",
       "  <thead>\n",
       "    <tr style=\"text-align: right;\">\n",
       "      <th></th>\n",
       "      <th>car name</th>\n",
       "      <th>price</th>\n",
       "      <th>engine_capacity</th>\n",
       "      <th>cylinder</th>\n",
       "      <th>horse_power</th>\n",
       "      <th>top_speed</th>\n",
       "      <th>seats</th>\n",
       "      <th>brand</th>\n",
       "      <th>country</th>\n",
       "    </tr>\n",
       "  </thead>\n",
       "  <tbody>\n",
       "    <tr>\n",
       "      <th>count</th>\n",
       "      <td>6308</td>\n",
       "      <td>6308</td>\n",
       "      <td>6308</td>\n",
       "      <td>5684</td>\n",
       "      <td>6308</td>\n",
       "      <td>6308</td>\n",
       "      <td>6308</td>\n",
       "      <td>6308</td>\n",
       "      <td>6308</td>\n",
       "    </tr>\n",
       "    <tr>\n",
       "      <th>unique</th>\n",
       "      <td>2546</td>\n",
       "      <td>3395</td>\n",
       "      <td>129</td>\n",
       "      <td>10</td>\n",
       "      <td>330</td>\n",
       "      <td>169</td>\n",
       "      <td>82</td>\n",
       "      <td>82</td>\n",
       "      <td>7</td>\n",
       "    </tr>\n",
       "    <tr>\n",
       "      <th>top</th>\n",
       "      <td>Mercedes-Benz C-Class 2022 C 300</td>\n",
       "      <td>TBD</td>\n",
       "      <td>2.0</td>\n",
       "      <td>4</td>\n",
       "      <td>150</td>\n",
       "      <td>250</td>\n",
       "      <td>5 Seater</td>\n",
       "      <td>mercedes-benz</td>\n",
       "      <td>uae</td>\n",
       "    </tr>\n",
       "    <tr>\n",
       "      <th>freq</th>\n",
       "      <td>10</td>\n",
       "      <td>437</td>\n",
       "      <td>1241</td>\n",
       "      <td>2856</td>\n",
       "      <td>162</td>\n",
       "      <td>1100</td>\n",
       "      <td>3471</td>\n",
       "      <td>560</td>\n",
       "      <td>1248</td>\n",
       "    </tr>\n",
       "  </tbody>\n",
       "</table>\n",
       "</div>"
      ],
      "text/plain": [
       "                                car name price engine_capacity cylinder  \\\n",
       "count                               6308  6308            6308     5684   \n",
       "unique                              2546  3395             129       10   \n",
       "top     Mercedes-Benz C-Class 2022 C 300   TBD             2.0        4   \n",
       "freq                                  10   437            1241     2856   \n",
       "\n",
       "       horse_power top_speed     seats          brand country  \n",
       "count         6308      6308      6308           6308    6308  \n",
       "unique         330       169        82             82       7  \n",
       "top            150       250  5 Seater  mercedes-benz     uae  \n",
       "freq           162      1100      3471            560    1248  "
      ]
     },
     "execution_count": 8,
     "metadata": {},
     "output_type": "execute_result"
    }
   ],
   "source": [
    "car_df.describe()"
   ]
  },
  {
   "cell_type": "code",
   "execution_count": 9,
   "metadata": {},
   "outputs": [
    {
     "name": "stdout",
     "output_type": "stream",
     "text": [
      "Index(['car name', 'price', 'engine_capacity', 'cylinder', 'horse_power',\n",
      "       'top_speed', 'seats', 'brand', 'country'],\n",
      "      dtype='object')\n"
     ]
    }
   ],
   "source": [
    "print(car_df.columns)"
   ]
  },
  {
   "cell_type": "code",
   "execution_count": 10,
   "metadata": {},
   "outputs": [],
   "source": [
    "currencies=set()\n",
    "\n",
    "for price in car_df['price']:\n",
    "    if not any(chr.isdigit() for chr in price):\n",
    "        car_df['price'] = car_df['price'].replace(price, -1)\n",
    "    else:\n",
    "            currencies.add(price.split(' ')[0])\n",
    "\n"
   ]
  },
  {
   "cell_type": "code",
   "execution_count": 11,
   "metadata": {},
   "outputs": [
    {
     "data": {
      "text/plain": [
       "{'AED', 'BHD', 'EGP', 'F8', 'KWD', 'OMR', 'QAR', 'SAR'}"
      ]
     },
     "execution_count": 11,
     "metadata": {},
     "output_type": "execute_result"
    }
   ],
   "source": [
    "currencies"
   ]
  },
  {
   "cell_type": "code",
   "execution_count": 12,
   "metadata": {},
   "outputs": [],
   "source": [
    "exchange_rates = {\n",
    "    'AED': 3.6725,  # 1 USD = 3.6725 AED\n",
    "    'BHD': 0.377,   # 1 USD = 0.377 BHD\n",
    "    'EGP': 30.22,   # 1 USD = 30.22 EGP\n",
    "    'KWD': 0.308,   # 1 USD = 0.308 KWD\n",
    "    'OMR': 0.384,   # 1 USD = 0.384 OMR\n",
    "    'QAR': 3.64,    # 1 USD = 3.64 QAR\n",
    "    'SAR': 3.75     # 1 USD = 3.75 SAR\n",
    "}\n"
   ]
  },
  {
   "cell_type": "code",
   "execution_count": 13,
   "metadata": {},
   "outputs": [],
   "source": [
    "converted_prices = []\n",
    "\n",
    "for price in car_df['price']:\n",
    "    if price == -1:\n",
    "        converted_prices.append(np.nan)\n",
    "    else:\n",
    "        currency = price.split(' ')[0]\n",
    "        try:\n",
    "            price_value = float(price.split(' ')[1].replace(',', '')) # remove the comma in the number\n",
    "            converted_price = price_value / exchange_rates[currency]\n",
    "            #add only 3 digits after the decimal point\n",
    "            converted_price = round(converted_price, 3)\n",
    "            converted_prices.append(converted_price)\n",
    "        except (ValueError, IndexError):\n",
    "            converted_prices.append(np.nan)\n",
    "\n",
    "car_df['price_usd'] = converted_prices\n",
    "car_df.drop('price', axis=1, inplace=True)"
   ]
  },
  {
   "cell_type": "code",
   "execution_count": 14,
   "metadata": {},
   "outputs": [
    {
     "data": {
      "text/html": [
       "<div>\n",
       "<style scoped>\n",
       "    .dataframe tbody tr th:only-of-type {\n",
       "        vertical-align: middle;\n",
       "    }\n",
       "\n",
       "    .dataframe tbody tr th {\n",
       "        vertical-align: top;\n",
       "    }\n",
       "\n",
       "    .dataframe thead th {\n",
       "        text-align: right;\n",
       "    }\n",
       "</style>\n",
       "<table border=\"1\" class=\"dataframe\">\n",
       "  <thead>\n",
       "    <tr style=\"text-align: right;\">\n",
       "      <th></th>\n",
       "      <th>car name</th>\n",
       "      <th>engine_capacity</th>\n",
       "      <th>cylinder</th>\n",
       "      <th>horse_power</th>\n",
       "      <th>top_speed</th>\n",
       "      <th>seats</th>\n",
       "      <th>brand</th>\n",
       "      <th>country</th>\n",
       "      <th>price_usd</th>\n",
       "    </tr>\n",
       "  </thead>\n",
       "  <tbody>\n",
       "    <tr>\n",
       "      <th>0</th>\n",
       "      <td>Fiat 500e 2021 La Prima</td>\n",
       "      <td>0.0</td>\n",
       "      <td>N/A, Electric</td>\n",
       "      <td>Single</td>\n",
       "      <td>Automatic</td>\n",
       "      <td>150</td>\n",
       "      <td>fiat</td>\n",
       "      <td>ksa</td>\n",
       "      <td>NaN</td>\n",
       "    </tr>\n",
       "    <tr>\n",
       "      <th>1</th>\n",
       "      <td>Peugeot Traveller 2021 L3 VIP</td>\n",
       "      <td>2.0</td>\n",
       "      <td>4</td>\n",
       "      <td>180</td>\n",
       "      <td>8 Seater</td>\n",
       "      <td>8.8</td>\n",
       "      <td>peugeot</td>\n",
       "      <td>ksa</td>\n",
       "      <td>37486.667</td>\n",
       "    </tr>\n",
       "    <tr>\n",
       "      <th>2</th>\n",
       "      <td>Suzuki Jimny 2021 1.5L Automatic</td>\n",
       "      <td>1.5</td>\n",
       "      <td>4</td>\n",
       "      <td>102</td>\n",
       "      <td>145</td>\n",
       "      <td>4 Seater</td>\n",
       "      <td>suzuki</td>\n",
       "      <td>ksa</td>\n",
       "      <td>26342.667</td>\n",
       "    </tr>\n",
       "    <tr>\n",
       "      <th>3</th>\n",
       "      <td>Ford Bronco 2021 2.3T Big Bend</td>\n",
       "      <td>2.3</td>\n",
       "      <td>4</td>\n",
       "      <td>420</td>\n",
       "      <td>4 Seater</td>\n",
       "      <td>7.5</td>\n",
       "      <td>ford</td>\n",
       "      <td>ksa</td>\n",
       "      <td>52800.000</td>\n",
       "    </tr>\n",
       "    <tr>\n",
       "      <th>4</th>\n",
       "      <td>Honda HR-V 2021 1.8 i-VTEC LX</td>\n",
       "      <td>1.8</td>\n",
       "      <td>4</td>\n",
       "      <td>140</td>\n",
       "      <td>190</td>\n",
       "      <td>5 Seater</td>\n",
       "      <td>honda</td>\n",
       "      <td>ksa</td>\n",
       "      <td>NaN</td>\n",
       "    </tr>\n",
       "    <tr>\n",
       "      <th>...</th>\n",
       "      <td>...</td>\n",
       "      <td>...</td>\n",
       "      <td>...</td>\n",
       "      <td>...</td>\n",
       "      <td>...</td>\n",
       "      <td>...</td>\n",
       "      <td>...</td>\n",
       "      <td>...</td>\n",
       "      <td>...</td>\n",
       "    </tr>\n",
       "    <tr>\n",
       "      <th>6303</th>\n",
       "      <td>Bentley Mulsanne 2021 6.75L V8 Extended Wheelbase</td>\n",
       "      <td>6.8</td>\n",
       "      <td>8</td>\n",
       "      <td>505</td>\n",
       "      <td>296</td>\n",
       "      <td>5 Seater</td>\n",
       "      <td>bentley</td>\n",
       "      <td>uae</td>\n",
       "      <td>NaN</td>\n",
       "    </tr>\n",
       "    <tr>\n",
       "      <th>6304</th>\n",
       "      <td>Ferrari SF90 Stradale 2021 4.0T V8 Plug-in-Hybrid</td>\n",
       "      <td>4.0</td>\n",
       "      <td>8</td>\n",
       "      <td>25</td>\n",
       "      <td>800</td>\n",
       "      <td>Automatic</td>\n",
       "      <td>ferrari</td>\n",
       "      <td>uae</td>\n",
       "      <td>480898.570</td>\n",
       "    </tr>\n",
       "    <tr>\n",
       "      <th>6305</th>\n",
       "      <td>Rolls Royce Wraith 2021 6.6L Base</td>\n",
       "      <td>6.6</td>\n",
       "      <td>12</td>\n",
       "      <td>624</td>\n",
       "      <td>250</td>\n",
       "      <td>4 Seater</td>\n",
       "      <td>rolls-royce</td>\n",
       "      <td>uae</td>\n",
       "      <td>381211.709</td>\n",
       "    </tr>\n",
       "    <tr>\n",
       "      <th>6306</th>\n",
       "      <td>Lamborghini Aventador S 2021 6.5L V12 Coupe</td>\n",
       "      <td>6.5</td>\n",
       "      <td>NaN</td>\n",
       "      <td>740</td>\n",
       "      <td>350</td>\n",
       "      <td>2 Seater</td>\n",
       "      <td>lamborghini</td>\n",
       "      <td>uae</td>\n",
       "      <td>449285.228</td>\n",
       "    </tr>\n",
       "    <tr>\n",
       "      <th>6307</th>\n",
       "      <td>Bentley Mulsanne 2021 6.75L V8 Speed</td>\n",
       "      <td>6.8</td>\n",
       "      <td>8</td>\n",
       "      <td>530</td>\n",
       "      <td>305</td>\n",
       "      <td>5 Seater</td>\n",
       "      <td>bentley</td>\n",
       "      <td>uae</td>\n",
       "      <td>NaN</td>\n",
       "    </tr>\n",
       "  </tbody>\n",
       "</table>\n",
       "<p>6308 rows × 9 columns</p>\n",
       "</div>"
      ],
      "text/plain": [
       "                                               car name engine_capacity  \\\n",
       "0                               Fiat 500e 2021 La Prima             0.0   \n",
       "1                         Peugeot Traveller 2021 L3 VIP             2.0   \n",
       "2                      Suzuki Jimny 2021 1.5L Automatic             1.5   \n",
       "3                        Ford Bronco 2021 2.3T Big Bend             2.3   \n",
       "4                         Honda HR-V 2021 1.8 i-VTEC LX             1.8   \n",
       "...                                                 ...             ...   \n",
       "6303  Bentley Mulsanne 2021 6.75L V8 Extended Wheelbase             6.8   \n",
       "6304  Ferrari SF90 Stradale 2021 4.0T V8 Plug-in-Hybrid             4.0   \n",
       "6305                  Rolls Royce Wraith 2021 6.6L Base             6.6   \n",
       "6306        Lamborghini Aventador S 2021 6.5L V12 Coupe             6.5   \n",
       "6307               Bentley Mulsanne 2021 6.75L V8 Speed             6.8   \n",
       "\n",
       "           cylinder horse_power  top_speed      seats        brand country  \\\n",
       "0     N/A, Electric      Single  Automatic        150         fiat     ksa   \n",
       "1                 4         180   8 Seater        8.8      peugeot     ksa   \n",
       "2                 4         102        145   4 Seater       suzuki     ksa   \n",
       "3                 4         420   4 Seater        7.5         ford     ksa   \n",
       "4                 4         140        190   5 Seater        honda     ksa   \n",
       "...             ...         ...        ...        ...          ...     ...   \n",
       "6303              8         505        296   5 Seater      bentley     uae   \n",
       "6304              8          25        800  Automatic      ferrari     uae   \n",
       "6305             12         624        250   4 Seater  rolls-royce     uae   \n",
       "6306            NaN         740        350   2 Seater  lamborghini     uae   \n",
       "6307              8         530        305   5 Seater      bentley     uae   \n",
       "\n",
       "       price_usd  \n",
       "0            NaN  \n",
       "1      37486.667  \n",
       "2      26342.667  \n",
       "3      52800.000  \n",
       "4            NaN  \n",
       "...          ...  \n",
       "6303         NaN  \n",
       "6304  480898.570  \n",
       "6305  381211.709  \n",
       "6306  449285.228  \n",
       "6307         NaN  \n",
       "\n",
       "[6308 rows x 9 columns]"
      ]
     },
     "execution_count": 14,
     "metadata": {},
     "output_type": "execute_result"
    }
   ],
   "source": [
    "car_df"
   ]
  },
  {
   "cell_type": "code",
   "execution_count": 15,
   "metadata": {},
   "outputs": [
    {
     "name": "stdout",
     "output_type": "stream",
     "text": [
      "<class 'pandas.core.frame.DataFrame'>\n",
      "RangeIndex: 6308 entries, 0 to 6307\n",
      "Data columns (total 9 columns):\n",
      " #   Column           Non-Null Count  Dtype  \n",
      "---  ------           --------------  -----  \n",
      " 0   car name         6308 non-null   object \n",
      " 1   engine_capacity  6308 non-null   object \n",
      " 2   cylinder         5684 non-null   object \n",
      " 3   horse_power      6308 non-null   object \n",
      " 4   top_speed        6308 non-null   object \n",
      " 5   seats            6308 non-null   object \n",
      " 6   brand            6308 non-null   object \n",
      " 7   country          6308 non-null   object \n",
      " 8   price_usd        4979 non-null   float64\n",
      "dtypes: float64(1), object(8)\n",
      "memory usage: 443.7+ KB\n"
     ]
    }
   ],
   "source": [
    "car_df.info()"
   ]
  },
  {
   "cell_type": "code",
   "execution_count": 16,
   "metadata": {},
   "outputs": [
    {
     "data": {
      "text/plain": [
       "count    4.979000e+03\n",
       "mean     7.222527e+04\n",
       "std      1.069692e+05\n",
       "min      4.765056e+03\n",
       "25%      2.568890e+04\n",
       "50%      4.752604e+04\n",
       "75%      8.385989e+04\n",
       "max      3.550613e+06\n",
       "Name: price_usd, dtype: float64"
      ]
     },
     "execution_count": 16,
     "metadata": {},
     "output_type": "execute_result"
    }
   ],
   "source": [
    "car_df['price_usd'].describe()"
   ]
  },
  {
   "cell_type": "code",
   "execution_count": 17,
   "metadata": {},
   "outputs": [
    {
     "data": {
      "image/png": "[encoded data removed]",
      "text/plain": [
       "<Figure size 1000x600 with 1 Axes>"
      ]
     },
     "metadata": {},
     "output_type": "display_data"
    }
   ],
   "source": [
    "# draw boxplot\n",
    "plt.figure(figsize=(10, 6))\n",
    "sns.boxplot(y=car_df['price_usd'])\n",
    "plt.title('Price Distribution')\n",
    "plt.show()"
   ]
  },
  {
   "cell_type": "code",
   "execution_count": 18,
   "metadata": {},
   "outputs": [],
   "source": [
    "#handling outliers\n",
    "# drop any row that has a price greater than 3M USD\n",
    "car_df = car_df[car_df['price_usd'] < 3000000]\n"
   ]
  },
  {
   "cell_type": "code",
   "execution_count": 19,
   "metadata": {},
   "outputs": [
    {
     "data": {
      "text/plain": [
       "count    4.978000e+03\n",
       "mean     7.152652e+04\n",
       "std      9.493792e+04\n",
       "min      4.765056e+03\n",
       "25%      2.568176e+04\n",
       "50%      4.750307e+04\n",
       "75%      8.374334e+04\n",
       "max      2.200604e+06\n",
       "Name: price_usd, dtype: float64"
      ]
     },
     "execution_count": 19,
     "metadata": {},
     "output_type": "execute_result"
    }
   ],
   "source": [
    "car_df['price_usd'].describe()\n",
    "# from 4700 to 2.2M USD "
   ]
  },
  {
   "cell_type": "code",
   "execution_count": 20,
   "metadata": {},
   "outputs": [
    {
     "data": {
      "image/png": "[encoded data removed]",
      "text/plain": [
       "<Figure size 1000x600 with 1 Axes>"
      ]
     },
     "metadata": {},
     "output_type": "display_data"
    }
   ],
   "source": [
    "#draw boxplot\n",
    "plt.figure(figsize=(10, 6))\n",
    "sns.boxplot(y=car_df['price_usd'])\n",
    "plt.title('Price Distribution')\n",
    "plt.show()"
   ]
  },
  {
   "cell_type": "code",
   "execution_count": 21,
   "metadata": {},
   "outputs": [
    {
     "name": "stdout",
     "output_type": "stream",
     "text": [
      "Cylinders\n"
     ]
    },
    {
     "name": "stderr",
     "output_type": "stream",
     "text": [
      "C:\\Users\\Lenovo\\AppData\\Local\\Temp\\ipykernel_16184\\3974221890.py:17: SettingWithCopyWarning: \n",
      "A value is trying to be set on a copy of a slice from a DataFrame.\n",
      "Try using .loc[row_indexer,col_indexer] = value instead\n",
      "\n",
      "See the caveats in the documentation: https://pandas.pydata.org/pandas-docs/stable/user_guide/indexing.html#returning-a-view-versus-a-copy\n",
      "  car_df['engine_capacity_edited'] = engine_capacities\n",
      "C:\\Users\\Lenovo\\AppData\\Local\\Temp\\ipykernel_16184\\3974221890.py:19: SettingWithCopyWarning: \n",
      "A value is trying to be set on a copy of a slice from a DataFrame\n",
      "\n",
      "See the caveats in the documentation: https://pandas.pydata.org/pandas-docs/stable/user_guide/indexing.html#returning-a-view-versus-a-copy\n",
      "  car_df.drop('engine_capacity', axis=1, inplace=True)\n"
     ]
    }
   ],
   "source": [
    "engine_capacities = []\n",
    "\n",
    "for val in car_df['engine_capacity']:\n",
    "    try:\n",
    "        val = float(val)\n",
    "        if val <= 0:\n",
    "            engine_capacities.append(np.nan)\n",
    "        elif val < 10:\n",
    "            engine_capacities.append(val * 1000)\n",
    "        else:\n",
    "            engine_capacities.append(val)\n",
    "\n",
    "    except ValueError: # if the value is not a number\n",
    "        print(val)\n",
    "        engine_capacities.append(np.nan)\n",
    "\n",
    "car_df['engine_capacity_edited'] = engine_capacities\n",
    "\n",
    "car_df.drop('engine_capacity', axis=1, inplace=True)\n",
    "#\n"
   ]
  },
  {
   "cell_type": "code",
   "execution_count": 22,
   "metadata": {},
   "outputs": [
    {
     "name": "stdout",
     "output_type": "stream",
     "text": [
      "<class 'pandas.core.frame.DataFrame'>\n",
      "Index: 4978 entries, 1 to 6306\n",
      "Data columns (total 9 columns):\n",
      " #   Column                  Non-Null Count  Dtype  \n",
      "---  ------                  --------------  -----  \n",
      " 0   car name                4978 non-null   object \n",
      " 1   cylinder                4447 non-null   object \n",
      " 2   horse_power             4978 non-null   object \n",
      " 3   top_speed               4978 non-null   object \n",
      " 4   seats                   4978 non-null   object \n",
      " 5   brand                   4978 non-null   object \n",
      " 6   country                 4978 non-null   object \n",
      " 7   price_usd               4978 non-null   float64\n",
      " 8   engine_capacity_edited  4933 non-null   float64\n",
      "dtypes: float64(2), object(7)\n",
      "memory usage: 388.9+ KB\n"
     ]
    }
   ],
   "source": [
    "car_df.info()"
   ]
  },
  {
   "cell_type": "code",
   "execution_count": 23,
   "metadata": {},
   "outputs": [
    {
     "data": {
      "text/plain": [
       "count    4933.000000\n",
       "mean     2810.422258\n",
       "std      1281.450994\n",
       "min       140.000000\n",
       "25%      2000.000000\n",
       "50%      2500.000000\n",
       "75%      3500.000000\n",
       "max      6800.000000\n",
       "Name: engine_capacity_edited, dtype: float64"
      ]
     },
     "execution_count": 23,
     "metadata": {},
     "output_type": "execute_result"
    }
   ],
   "source": [
    "car_df['engine_capacity_edited'].describe()"
   ]
  },
  {
   "cell_type": "code",
   "execution_count": 24,
   "metadata": {},
   "outputs": [
    {
     "data": {
      "image/png": "[encoded data removed]",
      "text/plain": [
       "<Figure size 1000x500 with 1 Axes>"
      ]
     },
     "metadata": {},
     "output_type": "display_data"
    }
   ],
   "source": [
    "\n",
    "# draw box plot \n",
    "plt.figure(figsize=(10, 5))\n",
    "sns.boxplot(x=car_df['engine_capacity_edited'])\n",
    "plt.title('Engine Capacity Box Plot')\n",
    "plt.show()\n",
    "\n",
    "    "
   ]
  },
  {
   "cell_type": "code",
   "execution_count": 25,
   "metadata": {},
   "outputs": [],
   "source": [
    "# the engine capacity is in cubic centimeters can be from 600 to 8000 cm^3\n",
    "\n",
    "car_df = car_df[(car_df['engine_capacity_edited'] >= 600) & (car_df['engine_capacity_edited'] <= 8000)]\n"
   ]
  },
  {
   "cell_type": "code",
   "execution_count": 26,
   "metadata": {},
   "outputs": [
    {
     "data": {
      "text/plain": [
       "count    4932.000000\n",
       "mean     2810.963706\n",
       "std      1281.016466\n",
       "min       999.000000\n",
       "25%      2000.000000\n",
       "50%      2500.000000\n",
       "75%      3500.000000\n",
       "max      6800.000000\n",
       "Name: engine_capacity_edited, dtype: float64"
      ]
     },
     "execution_count": 26,
     "metadata": {},
     "output_type": "execute_result"
    }
   ],
   "source": [
    "\n",
    "car_df['engine_capacity_edited'].describe()"
   ]
  },
  {
   "cell_type": "code",
   "execution_count": 27,
   "metadata": {},
   "outputs": [
    {
     "data": {
      "image/png": "[encoded data removed]",
      "text/plain": [
       "<Figure size 1000x500 with 1 Axes>"
      ]
     },
     "metadata": {},
     "output_type": "display_data"
    }
   ],
   "source": [
    "# draw box plot\n",
    "plt.figure(figsize=(10, 5))\n",
    "sns.boxplot(x=car_df['engine_capacity_edited'])\n",
    "plt.title('Engine Capacity Box Plot')\n",
    "plt.show()"
   ]
  },
  {
   "cell_type": "code",
   "execution_count": 28,
   "metadata": {},
   "outputs": [
    {
     "data": {
      "text/html": [
       "<div>\n",
       "<style scoped>\n",
       "    .dataframe tbody tr th:only-of-type {\n",
       "        vertical-align: middle;\n",
       "    }\n",
       "\n",
       "    .dataframe tbody tr th {\n",
       "        vertical-align: top;\n",
       "    }\n",
       "\n",
       "    .dataframe thead th {\n",
       "        text-align: right;\n",
       "    }\n",
       "</style>\n",
       "<table border=\"1\" class=\"dataframe\">\n",
       "  <thead>\n",
       "    <tr style=\"text-align: right;\">\n",
       "      <th></th>\n",
       "      <th>car name</th>\n",
       "      <th>cylinder</th>\n",
       "      <th>horse_power</th>\n",
       "      <th>top_speed</th>\n",
       "      <th>seats</th>\n",
       "      <th>brand</th>\n",
       "      <th>country</th>\n",
       "      <th>price_usd</th>\n",
       "      <th>engine_capacity_edited</th>\n",
       "    </tr>\n",
       "  </thead>\n",
       "  <tbody>\n",
       "    <tr>\n",
       "      <th>1</th>\n",
       "      <td>Peugeot Traveller 2021 L3 VIP</td>\n",
       "      <td>4</td>\n",
       "      <td>180</td>\n",
       "      <td>8 Seater</td>\n",
       "      <td>8.8</td>\n",
       "      <td>peugeot</td>\n",
       "      <td>ksa</td>\n",
       "      <td>37486.667</td>\n",
       "      <td>2000.0</td>\n",
       "    </tr>\n",
       "    <tr>\n",
       "      <th>2</th>\n",
       "      <td>Suzuki Jimny 2021 1.5L Automatic</td>\n",
       "      <td>4</td>\n",
       "      <td>102</td>\n",
       "      <td>145</td>\n",
       "      <td>4 Seater</td>\n",
       "      <td>suzuki</td>\n",
       "      <td>ksa</td>\n",
       "      <td>26342.667</td>\n",
       "      <td>1500.0</td>\n",
       "    </tr>\n",
       "    <tr>\n",
       "      <th>3</th>\n",
       "      <td>Ford Bronco 2021 2.3T Big Bend</td>\n",
       "      <td>4</td>\n",
       "      <td>420</td>\n",
       "      <td>4 Seater</td>\n",
       "      <td>7.5</td>\n",
       "      <td>ford</td>\n",
       "      <td>ksa</td>\n",
       "      <td>52800.000</td>\n",
       "      <td>2300.0</td>\n",
       "    </tr>\n",
       "    <tr>\n",
       "      <th>5</th>\n",
       "      <td>Honda HR-V 2021 1.8 i-VTEC EX</td>\n",
       "      <td>4</td>\n",
       "      <td>140</td>\n",
       "      <td>190</td>\n",
       "      <td>5 Seater</td>\n",
       "      <td>honda</td>\n",
       "      <td>ksa</td>\n",
       "      <td>25422.667</td>\n",
       "      <td>1800.0</td>\n",
       "    </tr>\n",
       "    <tr>\n",
       "      <th>6</th>\n",
       "      <td>Peugeot Expert 2021 Van L3 A/T</td>\n",
       "      <td>4</td>\n",
       "      <td>120</td>\n",
       "      <td>170</td>\n",
       "      <td>N A</td>\n",
       "      <td>peugeot</td>\n",
       "      <td>ksa</td>\n",
       "      <td>22092.000</td>\n",
       "      <td>2000.0</td>\n",
       "    </tr>\n",
       "  </tbody>\n",
       "</table>\n",
       "</div>"
      ],
      "text/plain": [
       "                           car name cylinder horse_power top_speed     seats  \\\n",
       "1     Peugeot Traveller 2021 L3 VIP        4         180  8 Seater       8.8   \n",
       "2  Suzuki Jimny 2021 1.5L Automatic        4         102       145  4 Seater   \n",
       "3    Ford Bronco 2021 2.3T Big Bend        4         420  4 Seater       7.5   \n",
       "5     Honda HR-V 2021 1.8 i-VTEC EX        4         140       190  5 Seater   \n",
       "6    Peugeot Expert 2021 Van L3 A/T        4         120       170       N A   \n",
       "\n",
       "     brand country  price_usd  engine_capacity_edited  \n",
       "1  peugeot     ksa  37486.667                  2000.0  \n",
       "2   suzuki     ksa  26342.667                  1500.0  \n",
       "3     ford     ksa  52800.000                  2300.0  \n",
       "5    honda     ksa  25422.667                  1800.0  \n",
       "6  peugeot     ksa  22092.000                  2000.0  "
      ]
     },
     "execution_count": 28,
     "metadata": {},
     "output_type": "execute_result"
    }
   ],
   "source": [
    "car_df.head()"
   ]
  },
  {
   "cell_type": "code",
   "execution_count": 29,
   "metadata": {},
   "outputs": [],
   "source": [
    "cylinders = []\n",
    "c = set()\n",
    "for cylinder in car_df['cylinder']:\n",
    "    try:\n",
    "        cylinder=int(cylinder)\n",
    "\n",
    "        if cylinder <= 0:\n",
    "            cylinders.append(np.nan)\n",
    "        else:\n",
    "            cylinders.append(cylinder)\n",
    "    except ValueError:\n",
    "        cylinders.append(np.nan)\n",
    "\n",
    "car_df['cylinder_edited'] = cylinders\n",
    "# make int type\n",
    "car_df.drop('cylinder', axis=1, inplace=True)"
   ]
  },
  {
   "cell_type": "code",
   "execution_count": 30,
   "metadata": {},
   "outputs": [
    {
     "name": "stdout",
     "output_type": "stream",
     "text": [
      "<class 'pandas.core.frame.DataFrame'>\n",
      "Index: 4932 entries, 1 to 6306\n",
      "Data columns (total 9 columns):\n",
      " #   Column                  Non-Null Count  Dtype  \n",
      "---  ------                  --------------  -----  \n",
      " 0   car name                4932 non-null   object \n",
      " 1   horse_power             4932 non-null   object \n",
      " 2   top_speed               4932 non-null   object \n",
      " 3   seats                   4932 non-null   object \n",
      " 4   brand                   4932 non-null   object \n",
      " 5   country                 4932 non-null   object \n",
      " 6   price_usd               4932 non-null   float64\n",
      " 7   engine_capacity_edited  4932 non-null   float64\n",
      " 8   cylinder_edited         4401 non-null   float64\n",
      "dtypes: float64(3), object(6)\n",
      "memory usage: 385.3+ KB\n"
     ]
    }
   ],
   "source": [
    "car_df.info()"
   ]
  },
  {
   "cell_type": "code",
   "execution_count": 31,
   "metadata": {},
   "outputs": [
    {
     "data": {
      "text/plain": [
       "count    4401.000000\n",
       "mean        5.312429\n",
       "std         1.900084\n",
       "min         3.000000\n",
       "25%         4.000000\n",
       "50%         4.000000\n",
       "75%         6.000000\n",
       "max        12.000000\n",
       "Name: cylinder_edited, dtype: float64"
      ]
     },
     "execution_count": 31,
     "metadata": {},
     "output_type": "execute_result"
    }
   ],
   "source": [
    "\n",
    "car_df['cylinder_edited'].describe()"
   ]
  },
  {
   "cell_type": "code",
   "execution_count": 32,
   "metadata": {},
   "outputs": [
    {
     "data": {
      "image/png": "[encoded data removed]",
      "text/plain": [
       "<Figure size 1000x500 with 1 Axes>"
      ]
     },
     "metadata": {},
     "output_type": "display_data"
    }
   ],
   "source": [
    "# draw box plot\n",
    "plt.figure(figsize=(10, 5))\n",
    "sns.boxplot(x=car_df['cylinder_edited'])\n",
    "plt.title('Cylinder Box Plot')\n",
    "plt.show()"
   ]
  },
  {
   "cell_type": "code",
   "execution_count": 33,
   "metadata": {},
   "outputs": [
    {
     "data": {
      "text/plain": [
       "array([ 4.,  6., 12.,  8., nan,  3.,  5., 10.])"
      ]
     },
     "execution_count": 33,
     "metadata": {},
     "output_type": "execute_result"
    }
   ],
   "source": [
    "# set of cylinder values\n",
    "car_df['cylinder_edited'].unique()\n",
    "#accepted"
   ]
  },
  {
   "cell_type": "code",
   "execution_count": 34,
   "metadata": {},
   "outputs": [
    {
     "data": {
      "text/html": [
       "<div>\n",
       "<style scoped>\n",
       "    .dataframe tbody tr th:only-of-type {\n",
       "        vertical-align: middle;\n",
       "    }\n",
       "\n",
       "    .dataframe tbody tr th {\n",
       "        vertical-align: top;\n",
       "    }\n",
       "\n",
       "    .dataframe thead th {\n",
       "        text-align: right;\n",
       "    }\n",
       "</style>\n",
       "<table border=\"1\" class=\"dataframe\">\n",
       "  <thead>\n",
       "    <tr style=\"text-align: right;\">\n",
       "      <th></th>\n",
       "      <th>car name</th>\n",
       "      <th>horse_power</th>\n",
       "      <th>top_speed</th>\n",
       "      <th>seats</th>\n",
       "      <th>brand</th>\n",
       "      <th>country</th>\n",
       "      <th>price_usd</th>\n",
       "      <th>engine_capacity_edited</th>\n",
       "      <th>cylinder_edited</th>\n",
       "    </tr>\n",
       "  </thead>\n",
       "  <tbody>\n",
       "    <tr>\n",
       "      <th>1</th>\n",
       "      <td>Peugeot Traveller 2021 L3 VIP</td>\n",
       "      <td>180</td>\n",
       "      <td>8 Seater</td>\n",
       "      <td>8.8</td>\n",
       "      <td>peugeot</td>\n",
       "      <td>ksa</td>\n",
       "      <td>37486.667</td>\n",
       "      <td>2000.0</td>\n",
       "      <td>4.0</td>\n",
       "    </tr>\n",
       "    <tr>\n",
       "      <th>2</th>\n",
       "      <td>Suzuki Jimny 2021 1.5L Automatic</td>\n",
       "      <td>102</td>\n",
       "      <td>145</td>\n",
       "      <td>4 Seater</td>\n",
       "      <td>suzuki</td>\n",
       "      <td>ksa</td>\n",
       "      <td>26342.667</td>\n",
       "      <td>1500.0</td>\n",
       "      <td>4.0</td>\n",
       "    </tr>\n",
       "    <tr>\n",
       "      <th>3</th>\n",
       "      <td>Ford Bronco 2021 2.3T Big Bend</td>\n",
       "      <td>420</td>\n",
       "      <td>4 Seater</td>\n",
       "      <td>7.5</td>\n",
       "      <td>ford</td>\n",
       "      <td>ksa</td>\n",
       "      <td>52800.000</td>\n",
       "      <td>2300.0</td>\n",
       "      <td>4.0</td>\n",
       "    </tr>\n",
       "    <tr>\n",
       "      <th>5</th>\n",
       "      <td>Honda HR-V 2021 1.8 i-VTEC EX</td>\n",
       "      <td>140</td>\n",
       "      <td>190</td>\n",
       "      <td>5 Seater</td>\n",
       "      <td>honda</td>\n",
       "      <td>ksa</td>\n",
       "      <td>25422.667</td>\n",
       "      <td>1800.0</td>\n",
       "      <td>4.0</td>\n",
       "    </tr>\n",
       "    <tr>\n",
       "      <th>6</th>\n",
       "      <td>Peugeot Expert 2021 Van L3 A/T</td>\n",
       "      <td>120</td>\n",
       "      <td>170</td>\n",
       "      <td>N A</td>\n",
       "      <td>peugeot</td>\n",
       "      <td>ksa</td>\n",
       "      <td>22092.000</td>\n",
       "      <td>2000.0</td>\n",
       "      <td>4.0</td>\n",
       "    </tr>\n",
       "  </tbody>\n",
       "</table>\n",
       "</div>"
      ],
      "text/plain": [
       "                           car name horse_power top_speed     seats    brand  \\\n",
       "1     Peugeot Traveller 2021 L3 VIP         180  8 Seater       8.8  peugeot   \n",
       "2  Suzuki Jimny 2021 1.5L Automatic         102       145  4 Seater   suzuki   \n",
       "3    Ford Bronco 2021 2.3T Big Bend         420  4 Seater       7.5     ford   \n",
       "5     Honda HR-V 2021 1.8 i-VTEC EX         140       190  5 Seater    honda   \n",
       "6    Peugeot Expert 2021 Van L3 A/T         120       170       N A  peugeot   \n",
       "\n",
       "  country  price_usd  engine_capacity_edited  cylinder_edited  \n",
       "1     ksa  37486.667                  2000.0              4.0  \n",
       "2     ksa  26342.667                  1500.0              4.0  \n",
       "3     ksa  52800.000                  2300.0              4.0  \n",
       "5     ksa  25422.667                  1800.0              4.0  \n",
       "6     ksa  22092.000                  2000.0              4.0  "
      ]
     },
     "execution_count": 34,
     "metadata": {},
     "output_type": "execute_result"
    }
   ],
   "source": [
    "car_df.head()"
   ]
  },
  {
   "cell_type": "code",
   "execution_count": 35,
   "metadata": {},
   "outputs": [],
   "source": [
    "hourses = []\n",
    "\n",
    "for horse in car_df['horse_power']:\n",
    "    try:\n",
    "        horse = int(horse)\n",
    "        if horse <= 0:\n",
    "            hourses.append(np.nan)\n",
    "        else:\n",
    "            hourses.append(horse)\n",
    "    except ValueError:\n",
    "        hourses.append(np.nan)\n",
    "\n",
    "car_df['horse_power_edited'] = hourses\n",
    "car_df.drop('horse_power', axis=1, inplace=True)"
   ]
  },
  {
   "cell_type": "code",
   "execution_count": 36,
   "metadata": {},
   "outputs": [
    {
     "name": "stdout",
     "output_type": "stream",
     "text": [
      "<class 'pandas.core.frame.DataFrame'>\n",
      "Index: 4932 entries, 1 to 6306\n",
      "Data columns (total 9 columns):\n",
      " #   Column                  Non-Null Count  Dtype  \n",
      "---  ------                  --------------  -----  \n",
      " 0   car name                4932 non-null   object \n",
      " 1   top_speed               4932 non-null   object \n",
      " 2   seats                   4932 non-null   object \n",
      " 3   brand                   4932 non-null   object \n",
      " 4   country                 4932 non-null   object \n",
      " 5   price_usd               4932 non-null   float64\n",
      " 6   engine_capacity_edited  4932 non-null   float64\n",
      " 7   cylinder_edited         4401 non-null   float64\n",
      " 8   horse_power_edited      4915 non-null   float64\n",
      "dtypes: float64(4), object(5)\n",
      "memory usage: 385.3+ KB\n"
     ]
    }
   ],
   "source": [
    "car_df.info()\n"
   ]
  },
  {
   "cell_type": "code",
   "execution_count": 37,
   "metadata": {},
   "outputs": [
    {
     "data": {
      "text/plain": [
       "count    4915.000000\n",
       "mean      282.584741\n",
       "std       151.033177\n",
       "min        25.000000\n",
       "25%       164.000000\n",
       "50%       248.000000\n",
       "75%       363.000000\n",
       "max       900.000000\n",
       "Name: horse_power_edited, dtype: float64"
      ]
     },
     "execution_count": 37,
     "metadata": {},
     "output_type": "execute_result"
    }
   ],
   "source": [
    "\n",
    "car_df['horse_power_edited'].describe()"
   ]
  },
  {
   "cell_type": "code",
   "execution_count": 38,
   "metadata": {},
   "outputs": [
    {
     "data": {
      "image/png": "[encoded data removed]",
      "text/plain": [
       "<Figure size 1000x500 with 1 Axes>"
      ]
     },
     "metadata": {},
     "output_type": "display_data"
    }
   ],
   "source": [
    "fig = plt.figure(figsize=(10, 5))\n",
    "sns.boxplot(x=car_df['horse_power_edited'])\n",
    "plt.title('Horse Power Box Plot')\n",
    "plt.show()"
   ]
  },
  {
   "cell_type": "code",
   "execution_count": 39,
   "metadata": {},
   "outputs": [],
   "source": [
    "#min horse powwer in 50 and max 2000\n",
    "\n",
    "car_df = car_df[(car_df['horse_power_edited'] >= 50) & (car_df['horse_power_edited'] <= 2000)]"
   ]
  },
  {
   "cell_type": "code",
   "execution_count": 40,
   "metadata": {},
   "outputs": [
    {
     "data": {
      "text/plain": [
       "count    4909.000000\n",
       "mean      282.899572\n",
       "std       150.856539\n",
       "min        65.000000\n",
       "25%       164.000000\n",
       "50%       248.000000\n",
       "75%       363.000000\n",
       "max       900.000000\n",
       "Name: horse_power_edited, dtype: float64"
      ]
     },
     "execution_count": 40,
     "metadata": {},
     "output_type": "execute_result"
    }
   ],
   "source": [
    "car_df['horse_power_edited'].describe()"
   ]
  },
  {
   "cell_type": "code",
   "execution_count": 41,
   "metadata": {},
   "outputs": [
    {
     "data": {
      "image/png": "[encoded data removed]",
      "text/plain": [
       "<Figure size 1000x500 with 1 Axes>"
      ]
     },
     "metadata": {},
     "output_type": "display_data"
    }
   ],
   "source": [
    "# draw box plot\n",
    "plt.figure(figsize=(10, 5))\n",
    "sns.boxplot(x=car_df['horse_power_edited'])\n",
    "plt.title('Horse Power Box Plot')\n",
    "plt.show()"
   ]
  },
  {
   "cell_type": "code",
   "execution_count": 42,
   "metadata": {},
   "outputs": [
    {
     "data": {
      "text/html": [
       "<div>\n",
       "<style scoped>\n",
       "    .dataframe tbody tr th:only-of-type {\n",
       "        vertical-align: middle;\n",
       "    }\n",
       "\n",
       "    .dataframe tbody tr th {\n",
       "        vertical-align: top;\n",
       "    }\n",
       "\n",
       "    .dataframe thead th {\n",
       "        text-align: right;\n",
       "    }\n",
       "</style>\n",
       "<table border=\"1\" class=\"dataframe\">\n",
       "  <thead>\n",
       "    <tr style=\"text-align: right;\">\n",
       "      <th></th>\n",
       "      <th>car name</th>\n",
       "      <th>top_speed</th>\n",
       "      <th>seats</th>\n",
       "      <th>brand</th>\n",
       "      <th>country</th>\n",
       "      <th>price_usd</th>\n",
       "      <th>engine_capacity_edited</th>\n",
       "      <th>cylinder_edited</th>\n",
       "      <th>horse_power_edited</th>\n",
       "    </tr>\n",
       "  </thead>\n",
       "  <tbody>\n",
       "    <tr>\n",
       "      <th>1</th>\n",
       "      <td>Peugeot Traveller 2021 L3 VIP</td>\n",
       "      <td>8 Seater</td>\n",
       "      <td>8.8</td>\n",
       "      <td>peugeot</td>\n",
       "      <td>ksa</td>\n",
       "      <td>37486.667</td>\n",
       "      <td>2000.0</td>\n",
       "      <td>4.0</td>\n",
       "      <td>180.0</td>\n",
       "    </tr>\n",
       "    <tr>\n",
       "      <th>2</th>\n",
       "      <td>Suzuki Jimny 2021 1.5L Automatic</td>\n",
       "      <td>145</td>\n",
       "      <td>4 Seater</td>\n",
       "      <td>suzuki</td>\n",
       "      <td>ksa</td>\n",
       "      <td>26342.667</td>\n",
       "      <td>1500.0</td>\n",
       "      <td>4.0</td>\n",
       "      <td>102.0</td>\n",
       "    </tr>\n",
       "    <tr>\n",
       "      <th>3</th>\n",
       "      <td>Ford Bronco 2021 2.3T Big Bend</td>\n",
       "      <td>4 Seater</td>\n",
       "      <td>7.5</td>\n",
       "      <td>ford</td>\n",
       "      <td>ksa</td>\n",
       "      <td>52800.000</td>\n",
       "      <td>2300.0</td>\n",
       "      <td>4.0</td>\n",
       "      <td>420.0</td>\n",
       "    </tr>\n",
       "    <tr>\n",
       "      <th>5</th>\n",
       "      <td>Honda HR-V 2021 1.8 i-VTEC EX</td>\n",
       "      <td>190</td>\n",
       "      <td>5 Seater</td>\n",
       "      <td>honda</td>\n",
       "      <td>ksa</td>\n",
       "      <td>25422.667</td>\n",
       "      <td>1800.0</td>\n",
       "      <td>4.0</td>\n",
       "      <td>140.0</td>\n",
       "    </tr>\n",
       "    <tr>\n",
       "      <th>6</th>\n",
       "      <td>Peugeot Expert 2021 Van L3 A/T</td>\n",
       "      <td>170</td>\n",
       "      <td>N A</td>\n",
       "      <td>peugeot</td>\n",
       "      <td>ksa</td>\n",
       "      <td>22092.000</td>\n",
       "      <td>2000.0</td>\n",
       "      <td>4.0</td>\n",
       "      <td>120.0</td>\n",
       "    </tr>\n",
       "  </tbody>\n",
       "</table>\n",
       "</div>"
      ],
      "text/plain": [
       "                           car name top_speed     seats    brand country  \\\n",
       "1     Peugeot Traveller 2021 L3 VIP  8 Seater       8.8  peugeot     ksa   \n",
       "2  Suzuki Jimny 2021 1.5L Automatic       145  4 Seater   suzuki     ksa   \n",
       "3    Ford Bronco 2021 2.3T Big Bend  4 Seater       7.5     ford     ksa   \n",
       "5     Honda HR-V 2021 1.8 i-VTEC EX       190  5 Seater    honda     ksa   \n",
       "6    Peugeot Expert 2021 Van L3 A/T       170       N A  peugeot     ksa   \n",
       "\n",
       "   price_usd  engine_capacity_edited  cylinder_edited  horse_power_edited  \n",
       "1  37486.667                  2000.0              4.0               180.0  \n",
       "2  26342.667                  1500.0              4.0               102.0  \n",
       "3  52800.000                  2300.0              4.0               420.0  \n",
       "5  25422.667                  1800.0              4.0               140.0  \n",
       "6  22092.000                  2000.0              4.0               120.0  "
      ]
     },
     "execution_count": 42,
     "metadata": {},
     "output_type": "execute_result"
    }
   ],
   "source": [
    "\n",
    "car_df.head()"
   ]
  },
  {
   "cell_type": "code",
   "execution_count": 43,
   "metadata": {},
   "outputs": [],
   "source": [
    "top_speeds = []\n",
    "\n",
    "for speed in car_df['top_speed']:\n",
    "    try:\n",
    "        speed = int(speed)\n",
    "        if speed <= 0:\n",
    "            top_speeds.append(np.nan)\n",
    "        else:\n",
    "            top_speeds.append(speed)\n",
    "    except ValueError:\n",
    "        top_speeds.append(np.nan)\n",
    "\n",
    "car_df['top_speed_edited'] = top_speeds\n",
    "car_df.drop('top_speed', axis=1, inplace=True)"
   ]
  },
  {
   "cell_type": "code",
   "execution_count": 44,
   "metadata": {},
   "outputs": [
    {
     "name": "stdout",
     "output_type": "stream",
     "text": [
      "<class 'pandas.core.frame.DataFrame'>\n",
      "Index: 4909 entries, 1 to 6306\n",
      "Data columns (total 9 columns):\n",
      " #   Column                  Non-Null Count  Dtype  \n",
      "---  ------                  --------------  -----  \n",
      " 0   car name                4909 non-null   object \n",
      " 1   seats                   4909 non-null   object \n",
      " 2   brand                   4909 non-null   object \n",
      " 3   country                 4909 non-null   object \n",
      " 4   price_usd               4909 non-null   float64\n",
      " 5   engine_capacity_edited  4909 non-null   float64\n",
      " 6   cylinder_edited         4378 non-null   float64\n",
      " 7   horse_power_edited      4909 non-null   float64\n",
      " 8   top_speed_edited        4663 non-null   float64\n",
      "dtypes: float64(5), object(4)\n",
      "memory usage: 383.5+ KB\n"
     ]
    }
   ],
   "source": [
    "\n",
    "car_df.info()"
   ]
  },
  {
   "cell_type": "code",
   "execution_count": 45,
   "metadata": {},
   "outputs": [
    {
     "data": {
      "text/plain": [
       "count    4663.000000\n",
       "mean      221.069269\n",
       "std        41.815007\n",
       "min       120.000000\n",
       "25%       185.000000\n",
       "50%       215.000000\n",
       "75%       250.000000\n",
       "max       350.000000\n",
       "Name: top_speed_edited, dtype: float64"
      ]
     },
     "execution_count": 45,
     "metadata": {},
     "output_type": "execute_result"
    }
   ],
   "source": [
    "car_df['top_speed_edited'].describe()"
   ]
  },
  {
   "cell_type": "code",
   "execution_count": 46,
   "metadata": {},
   "outputs": [
    {
     "data": {
      "image/png": "[encoded data removed]",
      "text/plain": [
       "<Figure size 1000x500 with 1 Axes>"
      ]
     },
     "metadata": {},
     "output_type": "display_data"
    }
   ],
   "source": [
    "\n",
    "fig = plt.figure(figsize=(10, 5))\n",
    "sns.boxplot(x=car_df['top_speed_edited'])\n",
    "plt.title('Top Speed Box Plot')\n",
    "plt.show()"
   ]
  },
  {
   "cell_type": "markdown",
   "metadata": {},
   "source": [
    "no real outliers in the speed"
   ]
  },
  {
   "cell_type": "code",
   "execution_count": 47,
   "metadata": {},
   "outputs": [
    {
     "data": {
      "text/html": [
       "<div>\n",
       "<style scoped>\n",
       "    .dataframe tbody tr th:only-of-type {\n",
       "        vertical-align: middle;\n",
       "    }\n",
       "\n",
       "    .dataframe tbody tr th {\n",
       "        vertical-align: top;\n",
       "    }\n",
       "\n",
       "    .dataframe thead th {\n",
       "        text-align: right;\n",
       "    }\n",
       "</style>\n",
       "<table border=\"1\" class=\"dataframe\">\n",
       "  <thead>\n",
       "    <tr style=\"text-align: right;\">\n",
       "      <th></th>\n",
       "      <th>car name</th>\n",
       "      <th>seats</th>\n",
       "      <th>brand</th>\n",
       "      <th>country</th>\n",
       "      <th>price_usd</th>\n",
       "      <th>engine_capacity_edited</th>\n",
       "      <th>cylinder_edited</th>\n",
       "      <th>horse_power_edited</th>\n",
       "      <th>top_speed_edited</th>\n",
       "    </tr>\n",
       "  </thead>\n",
       "  <tbody>\n",
       "    <tr>\n",
       "      <th>1</th>\n",
       "      <td>Peugeot Traveller 2021 L3 VIP</td>\n",
       "      <td>8.8</td>\n",
       "      <td>peugeot</td>\n",
       "      <td>ksa</td>\n",
       "      <td>37486.667</td>\n",
       "      <td>2000.0</td>\n",
       "      <td>4.0</td>\n",
       "      <td>180.0</td>\n",
       "      <td>NaN</td>\n",
       "    </tr>\n",
       "    <tr>\n",
       "      <th>2</th>\n",
       "      <td>Suzuki Jimny 2021 1.5L Automatic</td>\n",
       "      <td>4 Seater</td>\n",
       "      <td>suzuki</td>\n",
       "      <td>ksa</td>\n",
       "      <td>26342.667</td>\n",
       "      <td>1500.0</td>\n",
       "      <td>4.0</td>\n",
       "      <td>102.0</td>\n",
       "      <td>145.0</td>\n",
       "    </tr>\n",
       "    <tr>\n",
       "      <th>3</th>\n",
       "      <td>Ford Bronco 2021 2.3T Big Bend</td>\n",
       "      <td>7.5</td>\n",
       "      <td>ford</td>\n",
       "      <td>ksa</td>\n",
       "      <td>52800.000</td>\n",
       "      <td>2300.0</td>\n",
       "      <td>4.0</td>\n",
       "      <td>420.0</td>\n",
       "      <td>NaN</td>\n",
       "    </tr>\n",
       "    <tr>\n",
       "      <th>5</th>\n",
       "      <td>Honda HR-V 2021 1.8 i-VTEC EX</td>\n",
       "      <td>5 Seater</td>\n",
       "      <td>honda</td>\n",
       "      <td>ksa</td>\n",
       "      <td>25422.667</td>\n",
       "      <td>1800.0</td>\n",
       "      <td>4.0</td>\n",
       "      <td>140.0</td>\n",
       "      <td>190.0</td>\n",
       "    </tr>\n",
       "    <tr>\n",
       "      <th>6</th>\n",
       "      <td>Peugeot Expert 2021 Van L3 A/T</td>\n",
       "      <td>N A</td>\n",
       "      <td>peugeot</td>\n",
       "      <td>ksa</td>\n",
       "      <td>22092.000</td>\n",
       "      <td>2000.0</td>\n",
       "      <td>4.0</td>\n",
       "      <td>120.0</td>\n",
       "      <td>170.0</td>\n",
       "    </tr>\n",
       "  </tbody>\n",
       "</table>\n",
       "</div>"
      ],
      "text/plain": [
       "                           car name     seats    brand country  price_usd  \\\n",
       "1     Peugeot Traveller 2021 L3 VIP       8.8  peugeot     ksa  37486.667   \n",
       "2  Suzuki Jimny 2021 1.5L Automatic  4 Seater   suzuki     ksa  26342.667   \n",
       "3    Ford Bronco 2021 2.3T Big Bend       7.5     ford     ksa  52800.000   \n",
       "5     Honda HR-V 2021 1.8 i-VTEC EX  5 Seater    honda     ksa  25422.667   \n",
       "6    Peugeot Expert 2021 Van L3 A/T       N A  peugeot     ksa  22092.000   \n",
       "\n",
       "   engine_capacity_edited  cylinder_edited  horse_power_edited  \\\n",
       "1                  2000.0              4.0               180.0   \n",
       "2                  1500.0              4.0               102.0   \n",
       "3                  2300.0              4.0               420.0   \n",
       "5                  1800.0              4.0               140.0   \n",
       "6                  2000.0              4.0               120.0   \n",
       "\n",
       "   top_speed_edited  \n",
       "1               NaN  \n",
       "2             145.0  \n",
       "3               NaN  \n",
       "5             190.0  \n",
       "6             170.0  "
      ]
     },
     "execution_count": 47,
     "metadata": {},
     "output_type": "execute_result"
    }
   ],
   "source": [
    "\n",
    "car_df.head()\n"
   ]
  },
  {
   "cell_type": "code",
   "execution_count": 48,
   "metadata": {},
   "outputs": [],
   "source": [
    "seats = []\n",
    "\n",
    "for seat in car_df['seats']:\n",
    "    try:\n",
    "        # Try to convert seat directly to an integer\n",
    "        seat = int(seat)\n",
    "    except ValueError:\n",
    "        try:\n",
    "            # If direct conversion fails, split by space and convert the first part\n",
    "            seat = int(seat.split(' ')[0])\n",
    "        except ValueError:\n",
    "            # If conversion still fails, append NaN\n",
    "            seats.append(np.nan)\n",
    "            continue\n",
    "        \n",
    "    # Append NaN if seat is less than or equal to 0, otherwise append the seat value\n",
    "    if seat <= 0:\n",
    "        seats.append(np.nan)\n",
    "    else:\n",
    "        seats.append(seat)\n",
    "\n",
    "# Add the new column to the DataFrame\n",
    "car_df['seats_edited'] = seats\n",
    "# Drop the original 'seats' column\n",
    "car_df.drop('seats', axis=1, inplace=True)"
   ]
  },
  {
   "cell_type": "code",
   "execution_count": 49,
   "metadata": {},
   "outputs": [
    {
     "name": "stdout",
     "output_type": "stream",
     "text": [
      "<class 'pandas.core.frame.DataFrame'>\n",
      "Index: 4909 entries, 1 to 6306\n",
      "Data columns (total 9 columns):\n",
      " #   Column                  Non-Null Count  Dtype  \n",
      "---  ------                  --------------  -----  \n",
      " 0   car name                4909 non-null   object \n",
      " 1   brand                   4909 non-null   object \n",
      " 2   country                 4909 non-null   object \n",
      " 3   price_usd               4909 non-null   float64\n",
      " 4   engine_capacity_edited  4909 non-null   float64\n",
      " 5   cylinder_edited         4378 non-null   float64\n",
      " 6   horse_power_edited      4909 non-null   float64\n",
      " 7   top_speed_edited        4663 non-null   float64\n",
      " 8   seats_edited            4612 non-null   float64\n",
      "dtypes: float64(6), object(3)\n",
      "memory usage: 383.5+ KB\n"
     ]
    }
   ],
   "source": [
    "\n",
    "car_df.info()\n"
   ]
  },
  {
   "cell_type": "code",
   "execution_count": 50,
   "metadata": {},
   "outputs": [
    {
     "data": {
      "text/plain": [
       "count    4612.000000\n",
       "mean        4.939722\n",
       "std         1.529671\n",
       "min         2.000000\n",
       "25%         4.000000\n",
       "50%         5.000000\n",
       "75%         5.000000\n",
       "max        18.000000\n",
       "Name: seats_edited, dtype: float64"
      ]
     },
     "execution_count": 50,
     "metadata": {},
     "output_type": "execute_result"
    }
   ],
   "source": [
    "\n",
    "car_df['seats_edited'].describe()"
   ]
  },
  {
   "cell_type": "code",
   "execution_count": 51,
   "metadata": {},
   "outputs": [
    {
     "data": {
      "image/png": "[encoded data removed]",
      "text/plain": [
       "<Figure size 1000x500 with 1 Axes>"
      ]
     },
     "metadata": {},
     "output_type": "display_data"
    }
   ],
   "source": [
    "\n",
    "fig = plt.figure(figsize=(10, 5))\n",
    "sns.boxplot(x=car_df['seats_edited'])\n",
    "plt.title('Seats Box Plot')\n",
    "plt.show()"
   ]
  },
  {
   "cell_type": "code",
   "execution_count": 52,
   "metadata": {},
   "outputs": [
    {
     "data": {
      "text/html": [
       "<div>\n",
       "<style scoped>\n",
       "    .dataframe tbody tr th:only-of-type {\n",
       "        vertical-align: middle;\n",
       "    }\n",
       "\n",
       "    .dataframe tbody tr th {\n",
       "        vertical-align: top;\n",
       "    }\n",
       "\n",
       "    .dataframe thead th {\n",
       "        text-align: right;\n",
       "    }\n",
       "</style>\n",
       "<table border=\"1\" class=\"dataframe\">\n",
       "  <thead>\n",
       "    <tr style=\"text-align: right;\">\n",
       "      <th></th>\n",
       "      <th>car name</th>\n",
       "      <th>brand</th>\n",
       "      <th>country</th>\n",
       "      <th>price_usd</th>\n",
       "      <th>engine_capacity_edited</th>\n",
       "      <th>cylinder_edited</th>\n",
       "      <th>horse_power_edited</th>\n",
       "      <th>top_speed_edited</th>\n",
       "      <th>seats_edited</th>\n",
       "    </tr>\n",
       "  </thead>\n",
       "  <tbody>\n",
       "    <tr>\n",
       "      <th>1722</th>\n",
       "      <td>Maxus V80 18-Seater 2021 2.5L Passenger Van (M/T)</td>\n",
       "      <td>maxus</td>\n",
       "      <td>bahrain</td>\n",
       "      <td>27851.459</td>\n",
       "      <td>2500.0</td>\n",
       "      <td>4.0</td>\n",
       "      <td>136.0</td>\n",
       "      <td>150.0</td>\n",
       "      <td>18.0</td>\n",
       "    </tr>\n",
       "    <tr>\n",
       "      <th>3488</th>\n",
       "      <td>Maxus V80 18-Seater 2021 2.5L Passenger Van (M/T)</td>\n",
       "      <td>maxus</td>\n",
       "      <td>oman</td>\n",
       "      <td>27083.333</td>\n",
       "      <td>2500.0</td>\n",
       "      <td>4.0</td>\n",
       "      <td>136.0</td>\n",
       "      <td>150.0</td>\n",
       "      <td>18.0</td>\n",
       "    </tr>\n",
       "    <tr>\n",
       "      <th>2591</th>\n",
       "      <td>Maxus V80 18-Seater 2021 2.5L Passenger Van (M/T)</td>\n",
       "      <td>maxus</td>\n",
       "      <td>qatar</td>\n",
       "      <td>28296.703</td>\n",
       "      <td>2500.0</td>\n",
       "      <td>4.0</td>\n",
       "      <td>136.0</td>\n",
       "      <td>150.0</td>\n",
       "      <td>18.0</td>\n",
       "    </tr>\n",
       "    <tr>\n",
       "      <th>79</th>\n",
       "      <td>Great Wall Wingle 7 2021 2.0T Double Cabin (4x4)</td>\n",
       "      <td>great-wall</td>\n",
       "      <td>ksa</td>\n",
       "      <td>19311.733</td>\n",
       "      <td>2000.0</td>\n",
       "      <td>4.0</td>\n",
       "      <td>315.0</td>\n",
       "      <td>NaN</td>\n",
       "      <td>15.0</td>\n",
       "    </tr>\n",
       "    <tr>\n",
       "      <th>5216</th>\n",
       "      <td>Great Wall Wingle 7 2021 2.0T Double Cabin (4x4)</td>\n",
       "      <td>great-wall</td>\n",
       "      <td>uae</td>\n",
       "      <td>15765.827</td>\n",
       "      <td>2000.0</td>\n",
       "      <td>4.0</td>\n",
       "      <td>315.0</td>\n",
       "      <td>NaN</td>\n",
       "      <td>15.0</td>\n",
       "    </tr>\n",
       "    <tr>\n",
       "      <th>3399</th>\n",
       "      <td>Maxus V80 15-Seater 2021 2.5L Passenger Van (M/T)</td>\n",
       "      <td>maxus</td>\n",
       "      <td>oman</td>\n",
       "      <td>20312.500</td>\n",
       "      <td>2500.0</td>\n",
       "      <td>4.0</td>\n",
       "      <td>136.0</td>\n",
       "      <td>160.0</td>\n",
       "      <td>15.0</td>\n",
       "    </tr>\n",
       "    <tr>\n",
       "      <th>85</th>\n",
       "      <td>Great Wall Wingle 7 2021 2.0T Single Cabin (RWD)</td>\n",
       "      <td>great-wall</td>\n",
       "      <td>ksa</td>\n",
       "      <td>17165.067</td>\n",
       "      <td>2000.0</td>\n",
       "      <td>4.0</td>\n",
       "      <td>315.0</td>\n",
       "      <td>NaN</td>\n",
       "      <td>15.0</td>\n",
       "    </tr>\n",
       "    <tr>\n",
       "      <th>5222</th>\n",
       "      <td>Great Wall Wingle 7 2021 2.4T Double Cabin (4x...</td>\n",
       "      <td>great-wall</td>\n",
       "      <td>uae</td>\n",
       "      <td>15765.827</td>\n",
       "      <td>2400.0</td>\n",
       "      <td>4.0</td>\n",
       "      <td>220.0</td>\n",
       "      <td>NaN</td>\n",
       "      <td>15.0</td>\n",
       "    </tr>\n",
       "    <tr>\n",
       "      <th>2522</th>\n",
       "      <td>King Long Wide Body Passenger Van 2021 2.7L (1...</td>\n",
       "      <td>kinglong</td>\n",
       "      <td>qatar</td>\n",
       "      <td>24175.824</td>\n",
       "      <td>2700.0</td>\n",
       "      <td>4.0</td>\n",
       "      <td>148.0</td>\n",
       "      <td>156.0</td>\n",
       "      <td>15.0</td>\n",
       "    </tr>\n",
       "    <tr>\n",
       "      <th>2485</th>\n",
       "      <td>Maxus V80 15-Seater 2021 2.5L Passenger Van (M/T)</td>\n",
       "      <td>maxus</td>\n",
       "      <td>qatar</td>\n",
       "      <td>21703.297</td>\n",
       "      <td>2500.0</td>\n",
       "      <td>4.0</td>\n",
       "      <td>136.0</td>\n",
       "      <td>160.0</td>\n",
       "      <td>15.0</td>\n",
       "    </tr>\n",
       "    <tr>\n",
       "      <th>4250</th>\n",
       "      <td>King Long Standard Body Passenger Van 2021 2.3...</td>\n",
       "      <td>kinglong</td>\n",
       "      <td>kuwait</td>\n",
       "      <td>16233.766</td>\n",
       "      <td>2200.0</td>\n",
       "      <td>4.0</td>\n",
       "      <td>102.0</td>\n",
       "      <td>120.0</td>\n",
       "      <td>15.0</td>\n",
       "    </tr>\n",
       "    <tr>\n",
       "      <th>2427</th>\n",
       "      <td>King Long Standard Body Passenger Van 2021 2.3...</td>\n",
       "      <td>kinglong</td>\n",
       "      <td>qatar</td>\n",
       "      <td>17582.418</td>\n",
       "      <td>2200.0</td>\n",
       "      <td>4.0</td>\n",
       "      <td>102.0</td>\n",
       "      <td>120.0</td>\n",
       "      <td>15.0</td>\n",
       "    </tr>\n",
       "    <tr>\n",
       "      <th>1643</th>\n",
       "      <td>Maxus V80 15-Seater 2021 2.5L Passenger Van (M/T)</td>\n",
       "      <td>maxus</td>\n",
       "      <td>bahrain</td>\n",
       "      <td>22148.541</td>\n",
       "      <td>2500.0</td>\n",
       "      <td>4.0</td>\n",
       "      <td>136.0</td>\n",
       "      <td>160.0</td>\n",
       "      <td>15.0</td>\n",
       "    </tr>\n",
       "    <tr>\n",
       "      <th>5381</th>\n",
       "      <td>Maxus V80 15-Seater 2021 2.5L Passenger Van (M/T)</td>\n",
       "      <td>maxus</td>\n",
       "      <td>uae</td>\n",
       "      <td>24234.173</td>\n",
       "      <td>2500.0</td>\n",
       "      <td>4.0</td>\n",
       "      <td>136.0</td>\n",
       "      <td>160.0</td>\n",
       "      <td>15.0</td>\n",
       "    </tr>\n",
       "    <tr>\n",
       "      <th>1469</th>\n",
       "      <td>Great Wall Wingle 7 2021 2.0T Double Cabin (4x...</td>\n",
       "      <td>great-wall</td>\n",
       "      <td>bahrain</td>\n",
       "      <td>19893.899</td>\n",
       "      <td>2000.0</td>\n",
       "      <td>4.0</td>\n",
       "      <td>315.0</td>\n",
       "      <td>NaN</td>\n",
       "      <td>15.0</td>\n",
       "    </tr>\n",
       "    <tr>\n",
       "      <th>1434</th>\n",
       "      <td>Great Wall Wingle 7 2021 2.0T Double Cabin (4x4)</td>\n",
       "      <td>great-wall</td>\n",
       "      <td>bahrain</td>\n",
       "      <td>18564.987</td>\n",
       "      <td>2000.0</td>\n",
       "      <td>4.0</td>\n",
       "      <td>315.0</td>\n",
       "      <td>NaN</td>\n",
       "      <td>15.0</td>\n",
       "    </tr>\n",
       "    <tr>\n",
       "      <th>229</th>\n",
       "      <td>Great Wall Wingle 7 2021 2.4T Double Cabin (4x...</td>\n",
       "      <td>great-wall</td>\n",
       "      <td>ksa</td>\n",
       "      <td>18698.133</td>\n",
       "      <td>2400.0</td>\n",
       "      <td>4.0</td>\n",
       "      <td>220.0</td>\n",
       "      <td>NaN</td>\n",
       "      <td>15.0</td>\n",
       "    </tr>\n",
       "    <tr>\n",
       "      <th>225</th>\n",
       "      <td>Great Wall Wingle 7 2021 2.4T Double Cabin (4x...</td>\n",
       "      <td>great-wall</td>\n",
       "      <td>ksa</td>\n",
       "      <td>18085.067</td>\n",
       "      <td>2400.0</td>\n",
       "      <td>4.0</td>\n",
       "      <td>220.0</td>\n",
       "      <td>NaN</td>\n",
       "      <td>15.0</td>\n",
       "    </tr>\n",
       "    <tr>\n",
       "      <th>224</th>\n",
       "      <td>Great Wall Wingle 7 2021 2.0T Double Cabin (4x...</td>\n",
       "      <td>great-wall</td>\n",
       "      <td>ksa</td>\n",
       "      <td>19925.067</td>\n",
       "      <td>2000.0</td>\n",
       "      <td>4.0</td>\n",
       "      <td>315.0</td>\n",
       "      <td>NaN</td>\n",
       "      <td>15.0</td>\n",
       "    </tr>\n",
       "    <tr>\n",
       "      <th>4344</th>\n",
       "      <td>King Long Wide Body Passenger Van 2021 2.7L (1...</td>\n",
       "      <td>kinglong</td>\n",
       "      <td>kuwait</td>\n",
       "      <td>22727.273</td>\n",
       "      <td>2700.0</td>\n",
       "      <td>4.0</td>\n",
       "      <td>148.0</td>\n",
       "      <td>156.0</td>\n",
       "      <td>15.0</td>\n",
       "    </tr>\n",
       "    <tr>\n",
       "      <th>1599</th>\n",
       "      <td>King Long Wide Body Passenger Van 2021 2.7L (1...</td>\n",
       "      <td>kinglong</td>\n",
       "      <td>bahrain</td>\n",
       "      <td>24403.183</td>\n",
       "      <td>2700.0</td>\n",
       "      <td>4.0</td>\n",
       "      <td>148.0</td>\n",
       "      <td>156.0</td>\n",
       "      <td>14.0</td>\n",
       "    </tr>\n",
       "    <tr>\n",
       "      <th>5328</th>\n",
       "      <td>King Long Wide Body Passenger Van 2021 2.7L (1...</td>\n",
       "      <td>kinglong</td>\n",
       "      <td>uae</td>\n",
       "      <td>21238.938</td>\n",
       "      <td>2700.0</td>\n",
       "      <td>4.0</td>\n",
       "      <td>148.0</td>\n",
       "      <td>156.0</td>\n",
       "      <td>14.0</td>\n",
       "    </tr>\n",
       "    <tr>\n",
       "      <th>2564</th>\n",
       "      <td>King Long Wide Body Passenger Van 2021 2.7L (1...</td>\n",
       "      <td>kinglong</td>\n",
       "      <td>qatar</td>\n",
       "      <td>26373.626</td>\n",
       "      <td>2700.0</td>\n",
       "      <td>4.0</td>\n",
       "      <td>148.0</td>\n",
       "      <td>156.0</td>\n",
       "      <td>14.0</td>\n",
       "    </tr>\n",
       "    <tr>\n",
       "      <th>1294</th>\n",
       "      <td>King Long Wide Body Passenger Van 2021 2.7L (1...</td>\n",
       "      <td>kinglong</td>\n",
       "      <td>egypt</td>\n",
       "      <td>7511.582</td>\n",
       "      <td>2693.0</td>\n",
       "      <td>4.0</td>\n",
       "      <td>148.0</td>\n",
       "      <td>156.0</td>\n",
       "      <td>14.0</td>\n",
       "    </tr>\n",
       "    <tr>\n",
       "      <th>1290</th>\n",
       "      <td>King Long Wide Body Passenger Van 2021 2.7L (1...</td>\n",
       "      <td>kinglong</td>\n",
       "      <td>egypt</td>\n",
       "      <td>6882.859</td>\n",
       "      <td>2693.0</td>\n",
       "      <td>4.0</td>\n",
       "      <td>148.0</td>\n",
       "      <td>156.0</td>\n",
       "      <td>14.0</td>\n",
       "    </tr>\n",
       "    <tr>\n",
       "      <th>4408</th>\n",
       "      <td>King Long Wide Body Passenger Van 2021 2.7L (1...</td>\n",
       "      <td>kinglong</td>\n",
       "      <td>kuwait</td>\n",
       "      <td>25974.026</td>\n",
       "      <td>2700.0</td>\n",
       "      <td>4.0</td>\n",
       "      <td>148.0</td>\n",
       "      <td>156.0</td>\n",
       "      <td>14.0</td>\n",
       "    </tr>\n",
       "    <tr>\n",
       "      <th>5609</th>\n",
       "      <td>Toyota Hiace 2021 3.5L high roof commuter (13 ...</td>\n",
       "      <td>toyota</td>\n",
       "      <td>uae</td>\n",
       "      <td>37277.059</td>\n",
       "      <td>3500.0</td>\n",
       "      <td>4.0</td>\n",
       "      <td>277.0</td>\n",
       "      <td>160.0</td>\n",
       "      <td>13.0</td>\n",
       "    </tr>\n",
       "    <tr>\n",
       "      <th>4239</th>\n",
       "      <td>Hyundai Creta 2021 1.5L</td>\n",
       "      <td>hyundai</td>\n",
       "      <td>kuwait</td>\n",
       "      <td>15584.416</td>\n",
       "      <td>1500.0</td>\n",
       "      <td>4.0</td>\n",
       "      <td>144.0</td>\n",
       "      <td>NaN</td>\n",
       "      <td>12.0</td>\n",
       "    </tr>\n",
       "    <tr>\n",
       "      <th>3513</th>\n",
       "      <td>Hyundai H1 2021 12-Seater Wagon A/T High</td>\n",
       "      <td>hyundai</td>\n",
       "      <td>oman</td>\n",
       "      <td>27343.750</td>\n",
       "      <td>2400.0</td>\n",
       "      <td>4.0</td>\n",
       "      <td>175.0</td>\n",
       "      <td>182.0</td>\n",
       "      <td>12.0</td>\n",
       "    </tr>\n",
       "    <tr>\n",
       "      <th>4413</th>\n",
       "      <td>Hyundai H1 2021 2.5 GLS M/T (12-seater)</td>\n",
       "      <td>hyundai</td>\n",
       "      <td>kuwait</td>\n",
       "      <td>26623.377</td>\n",
       "      <td>2500.0</td>\n",
       "      <td>4.0</td>\n",
       "      <td>99.0</td>\n",
       "      <td>170.0</td>\n",
       "      <td>12.0</td>\n",
       "    </tr>\n",
       "    <tr>\n",
       "      <th>4415</th>\n",
       "      <td>Hyundai H1 2021 12-Seater Wagon A/T High</td>\n",
       "      <td>hyundai</td>\n",
       "      <td>kuwait</td>\n",
       "      <td>26623.377</td>\n",
       "      <td>2400.0</td>\n",
       "      <td>4.0</td>\n",
       "      <td>175.0</td>\n",
       "      <td>182.0</td>\n",
       "      <td>12.0</td>\n",
       "    </tr>\n",
       "    <tr>\n",
       "      <th>3511</th>\n",
       "      <td>Hyundai H1 2021 2.5 GLS M/T (12-seater)</td>\n",
       "      <td>hyundai</td>\n",
       "      <td>oman</td>\n",
       "      <td>27343.750</td>\n",
       "      <td>2500.0</td>\n",
       "      <td>4.0</td>\n",
       "      <td>99.0</td>\n",
       "      <td>170.0</td>\n",
       "      <td>12.0</td>\n",
       "    </tr>\n",
       "    <tr>\n",
       "      <th>2585</th>\n",
       "      <td>Hyundai H1 2021 12-Seater Wagon A/T Mid</td>\n",
       "      <td>hyundai</td>\n",
       "      <td>qatar</td>\n",
       "      <td>22500.000</td>\n",
       "      <td>2400.0</td>\n",
       "      <td>4.0</td>\n",
       "      <td>175.0</td>\n",
       "      <td>182.0</td>\n",
       "      <td>12.0</td>\n",
       "    </tr>\n",
       "    <tr>\n",
       "      <th>5255</th>\n",
       "      <td>Hyundai Creta 2021 1.5L</td>\n",
       "      <td>hyundai</td>\n",
       "      <td>uae</td>\n",
       "      <td>17971.409</td>\n",
       "      <td>1500.0</td>\n",
       "      <td>4.0</td>\n",
       "      <td>144.0</td>\n",
       "      <td>NaN</td>\n",
       "      <td>12.0</td>\n",
       "    </tr>\n",
       "    <tr>\n",
       "      <th>2434</th>\n",
       "      <td>Hyundai Creta 2021 1.5L</td>\n",
       "      <td>hyundai</td>\n",
       "      <td>qatar</td>\n",
       "      <td>16208.791</td>\n",
       "      <td>1500.0</td>\n",
       "      <td>4.0</td>\n",
       "      <td>144.0</td>\n",
       "      <td>NaN</td>\n",
       "      <td>12.0</td>\n",
       "    </tr>\n",
       "    <tr>\n",
       "      <th>1519</th>\n",
       "      <td>Hyundai Creta 2021 1.5L</td>\n",
       "      <td>hyundai</td>\n",
       "      <td>bahrain</td>\n",
       "      <td>17111.406</td>\n",
       "      <td>1500.0</td>\n",
       "      <td>4.0</td>\n",
       "      <td>144.0</td>\n",
       "      <td>NaN</td>\n",
       "      <td>12.0</td>\n",
       "    </tr>\n",
       "    <tr>\n",
       "      <th>5441</th>\n",
       "      <td>Hyundai H1 2021 12-Seater Wagon A/T High</td>\n",
       "      <td>hyundai</td>\n",
       "      <td>uae</td>\n",
       "      <td>26684.820</td>\n",
       "      <td>2400.0</td>\n",
       "      <td>4.0</td>\n",
       "      <td>175.0</td>\n",
       "      <td>182.0</td>\n",
       "      <td>12.0</td>\n",
       "    </tr>\n",
       "    <tr>\n",
       "      <th>2588</th>\n",
       "      <td>Hyundai H1 2021 12-Seater Wagon A/T High</td>\n",
       "      <td>hyundai</td>\n",
       "      <td>qatar</td>\n",
       "      <td>27197.802</td>\n",
       "      <td>2400.0</td>\n",
       "      <td>4.0</td>\n",
       "      <td>175.0</td>\n",
       "      <td>182.0</td>\n",
       "      <td>12.0</td>\n",
       "    </tr>\n",
       "  </tbody>\n",
       "</table>\n",
       "</div>"
      ],
      "text/plain": [
       "                                               car name       brand  country  \\\n",
       "1722  Maxus V80 18-Seater 2021 2.5L Passenger Van (M/T)       maxus  bahrain   \n",
       "3488  Maxus V80 18-Seater 2021 2.5L Passenger Van (M/T)       maxus     oman   \n",
       "2591  Maxus V80 18-Seater 2021 2.5L Passenger Van (M/T)       maxus    qatar   \n",
       "79     Great Wall Wingle 7 2021 2.0T Double Cabin (4x4)  great-wall      ksa   \n",
       "5216   Great Wall Wingle 7 2021 2.0T Double Cabin (4x4)  great-wall      uae   \n",
       "3399  Maxus V80 15-Seater 2021 2.5L Passenger Van (M/T)       maxus     oman   \n",
       "85     Great Wall Wingle 7 2021 2.0T Single Cabin (RWD)  great-wall      ksa   \n",
       "5222  Great Wall Wingle 7 2021 2.4T Double Cabin (4x...  great-wall      uae   \n",
       "2522  King Long Wide Body Passenger Van 2021 2.7L (1...    kinglong    qatar   \n",
       "2485  Maxus V80 15-Seater 2021 2.5L Passenger Van (M/T)       maxus    qatar   \n",
       "4250  King Long Standard Body Passenger Van 2021 2.3...    kinglong   kuwait   \n",
       "2427  King Long Standard Body Passenger Van 2021 2.3...    kinglong    qatar   \n",
       "1643  Maxus V80 15-Seater 2021 2.5L Passenger Van (M/T)       maxus  bahrain   \n",
       "5381  Maxus V80 15-Seater 2021 2.5L Passenger Van (M/T)       maxus      uae   \n",
       "1469  Great Wall Wingle 7 2021 2.0T Double Cabin (4x...  great-wall  bahrain   \n",
       "1434   Great Wall Wingle 7 2021 2.0T Double Cabin (4x4)  great-wall  bahrain   \n",
       "229   Great Wall Wingle 7 2021 2.4T Double Cabin (4x...  great-wall      ksa   \n",
       "225   Great Wall Wingle 7 2021 2.4T Double Cabin (4x...  great-wall      ksa   \n",
       "224   Great Wall Wingle 7 2021 2.0T Double Cabin (4x...  great-wall      ksa   \n",
       "4344  King Long Wide Body Passenger Van 2021 2.7L (1...    kinglong   kuwait   \n",
       "1599  King Long Wide Body Passenger Van 2021 2.7L (1...    kinglong  bahrain   \n",
       "5328  King Long Wide Body Passenger Van 2021 2.7L (1...    kinglong      uae   \n",
       "2564  King Long Wide Body Passenger Van 2021 2.7L (1...    kinglong    qatar   \n",
       "1294  King Long Wide Body Passenger Van 2021 2.7L (1...    kinglong    egypt   \n",
       "1290  King Long Wide Body Passenger Van 2021 2.7L (1...    kinglong    egypt   \n",
       "4408  King Long Wide Body Passenger Van 2021 2.7L (1...    kinglong   kuwait   \n",
       "5609  Toyota Hiace 2021 3.5L high roof commuter (13 ...      toyota      uae   \n",
       "4239                            Hyundai Creta 2021 1.5L     hyundai   kuwait   \n",
       "3513           Hyundai H1 2021 12-Seater Wagon A/T High     hyundai     oman   \n",
       "4413            Hyundai H1 2021 2.5 GLS M/T (12-seater)     hyundai   kuwait   \n",
       "4415           Hyundai H1 2021 12-Seater Wagon A/T High     hyundai   kuwait   \n",
       "3511            Hyundai H1 2021 2.5 GLS M/T (12-seater)     hyundai     oman   \n",
       "2585            Hyundai H1 2021 12-Seater Wagon A/T Mid     hyundai    qatar   \n",
       "5255                            Hyundai Creta 2021 1.5L     hyundai      uae   \n",
       "2434                            Hyundai Creta 2021 1.5L     hyundai    qatar   \n",
       "1519                            Hyundai Creta 2021 1.5L     hyundai  bahrain   \n",
       "5441           Hyundai H1 2021 12-Seater Wagon A/T High     hyundai      uae   \n",
       "2588           Hyundai H1 2021 12-Seater Wagon A/T High     hyundai    qatar   \n",
       "\n",
       "      price_usd  engine_capacity_edited  cylinder_edited  horse_power_edited  \\\n",
       "1722  27851.459                  2500.0              4.0               136.0   \n",
       "3488  27083.333                  2500.0              4.0               136.0   \n",
       "2591  28296.703                  2500.0              4.0               136.0   \n",
       "79    19311.733                  2000.0              4.0               315.0   \n",
       "5216  15765.827                  2000.0              4.0               315.0   \n",
       "3399  20312.500                  2500.0              4.0               136.0   \n",
       "85    17165.067                  2000.0              4.0               315.0   \n",
       "5222  15765.827                  2400.0              4.0               220.0   \n",
       "2522  24175.824                  2700.0              4.0               148.0   \n",
       "2485  21703.297                  2500.0              4.0               136.0   \n",
       "4250  16233.766                  2200.0              4.0               102.0   \n",
       "2427  17582.418                  2200.0              4.0               102.0   \n",
       "1643  22148.541                  2500.0              4.0               136.0   \n",
       "5381  24234.173                  2500.0              4.0               136.0   \n",
       "1469  19893.899                  2000.0              4.0               315.0   \n",
       "1434  18564.987                  2000.0              4.0               315.0   \n",
       "229   18698.133                  2400.0              4.0               220.0   \n",
       "225   18085.067                  2400.0              4.0               220.0   \n",
       "224   19925.067                  2000.0              4.0               315.0   \n",
       "4344  22727.273                  2700.0              4.0               148.0   \n",
       "1599  24403.183                  2700.0              4.0               148.0   \n",
       "5328  21238.938                  2700.0              4.0               148.0   \n",
       "2564  26373.626                  2700.0              4.0               148.0   \n",
       "1294   7511.582                  2693.0              4.0               148.0   \n",
       "1290   6882.859                  2693.0              4.0               148.0   \n",
       "4408  25974.026                  2700.0              4.0               148.0   \n",
       "5609  37277.059                  3500.0              4.0               277.0   \n",
       "4239  15584.416                  1500.0              4.0               144.0   \n",
       "3513  27343.750                  2400.0              4.0               175.0   \n",
       "4413  26623.377                  2500.0              4.0                99.0   \n",
       "4415  26623.377                  2400.0              4.0               175.0   \n",
       "3511  27343.750                  2500.0              4.0                99.0   \n",
       "2585  22500.000                  2400.0              4.0               175.0   \n",
       "5255  17971.409                  1500.0              4.0               144.0   \n",
       "2434  16208.791                  1500.0              4.0               144.0   \n",
       "1519  17111.406                  1500.0              4.0               144.0   \n",
       "5441  26684.820                  2400.0              4.0               175.0   \n",
       "2588  27197.802                  2400.0              4.0               175.0   \n",
       "\n",
       "      top_speed_edited  seats_edited  \n",
       "1722             150.0          18.0  \n",
       "3488             150.0          18.0  \n",
       "2591             150.0          18.0  \n",
       "79                 NaN          15.0  \n",
       "5216               NaN          15.0  \n",
       "3399             160.0          15.0  \n",
       "85                 NaN          15.0  \n",
       "5222               NaN          15.0  \n",
       "2522             156.0          15.0  \n",
       "2485             160.0          15.0  \n",
       "4250             120.0          15.0  \n",
       "2427             120.0          15.0  \n",
       "1643             160.0          15.0  \n",
       "5381             160.0          15.0  \n",
       "1469               NaN          15.0  \n",
       "1434               NaN          15.0  \n",
       "229                NaN          15.0  \n",
       "225                NaN          15.0  \n",
       "224                NaN          15.0  \n",
       "4344             156.0          15.0  \n",
       "1599             156.0          14.0  \n",
       "5328             156.0          14.0  \n",
       "2564             156.0          14.0  \n",
       "1294             156.0          14.0  \n",
       "1290             156.0          14.0  \n",
       "4408             156.0          14.0  \n",
       "5609             160.0          13.0  \n",
       "4239               NaN          12.0  \n",
       "3513             182.0          12.0  \n",
       "4413             170.0          12.0  \n",
       "4415             182.0          12.0  \n",
       "3511             170.0          12.0  \n",
       "2585             182.0          12.0  \n",
       "5255               NaN          12.0  \n",
       "2434               NaN          12.0  \n",
       "1519               NaN          12.0  \n",
       "5441             182.0          12.0  \n",
       "2588             182.0          12.0  "
      ]
     },
     "execution_count": 52,
     "metadata": {},
     "output_type": "execute_result"
    }
   ],
   "source": [
    "#show the car where seat >10\n",
    "car_df[car_df['seats_edited'] > 10].sort_values('seats_edited', ascending=False)"
   ]
  },
  {
   "cell_type": "code",
   "execution_count": 53,
   "metadata": {},
   "outputs": [
    {
     "data": {
      "text/plain": [
       "array(['ksa', 'egypt', 'bahrain', 'qatar', 'oman', 'kuwait', 'uae'],\n",
       "      dtype=object)"
      ]
     },
     "execution_count": 53,
     "metadata": {},
     "output_type": "execute_result"
    }
   ],
   "source": [
    "# show country as a set\n",
    "car_df['country'].unique()"
   ]
  },
  {
   "cell_type": "code",
   "execution_count": 54,
   "metadata": {},
   "outputs": [
    {
     "data": {
      "text/html": [
       "<div>\n",
       "<style scoped>\n",
       "    .dataframe tbody tr th:only-of-type {\n",
       "        vertical-align: middle;\n",
       "    }\n",
       "\n",
       "    .dataframe tbody tr th {\n",
       "        vertical-align: top;\n",
       "    }\n",
       "\n",
       "    .dataframe thead th {\n",
       "        text-align: right;\n",
       "    }\n",
       "</style>\n",
       "<table border=\"1\" class=\"dataframe\">\n",
       "  <thead>\n",
       "    <tr style=\"text-align: right;\">\n",
       "      <th></th>\n",
       "      <th>car name</th>\n",
       "      <th>brand</th>\n",
       "      <th>country</th>\n",
       "      <th>price_usd</th>\n",
       "      <th>engine_capacity_edited</th>\n",
       "      <th>cylinder_edited</th>\n",
       "      <th>horse_power_edited</th>\n",
       "      <th>top_speed_edited</th>\n",
       "      <th>seats_edited</th>\n",
       "    </tr>\n",
       "  </thead>\n",
       "  <tbody>\n",
       "    <tr>\n",
       "      <th>1</th>\n",
       "      <td>Peugeot Traveller 2021 L3 VIP</td>\n",
       "      <td>peugeot</td>\n",
       "      <td>ksa</td>\n",
       "      <td>37486.667</td>\n",
       "      <td>2000.0</td>\n",
       "      <td>4.0</td>\n",
       "      <td>180.0</td>\n",
       "      <td>NaN</td>\n",
       "      <td>NaN</td>\n",
       "    </tr>\n",
       "    <tr>\n",
       "      <th>2</th>\n",
       "      <td>Suzuki Jimny 2021 1.5L Automatic</td>\n",
       "      <td>suzuki</td>\n",
       "      <td>ksa</td>\n",
       "      <td>26342.667</td>\n",
       "      <td>1500.0</td>\n",
       "      <td>4.0</td>\n",
       "      <td>102.0</td>\n",
       "      <td>145.0</td>\n",
       "      <td>4.0</td>\n",
       "    </tr>\n",
       "    <tr>\n",
       "      <th>3</th>\n",
       "      <td>Ford Bronco 2021 2.3T Big Bend</td>\n",
       "      <td>ford</td>\n",
       "      <td>ksa</td>\n",
       "      <td>52800.000</td>\n",
       "      <td>2300.0</td>\n",
       "      <td>4.0</td>\n",
       "      <td>420.0</td>\n",
       "      <td>NaN</td>\n",
       "      <td>NaN</td>\n",
       "    </tr>\n",
       "    <tr>\n",
       "      <th>5</th>\n",
       "      <td>Honda HR-V 2021 1.8 i-VTEC EX</td>\n",
       "      <td>honda</td>\n",
       "      <td>ksa</td>\n",
       "      <td>25422.667</td>\n",
       "      <td>1800.0</td>\n",
       "      <td>4.0</td>\n",
       "      <td>140.0</td>\n",
       "      <td>190.0</td>\n",
       "      <td>5.0</td>\n",
       "    </tr>\n",
       "    <tr>\n",
       "      <th>6</th>\n",
       "      <td>Peugeot Expert 2021 Van L3 A/T</td>\n",
       "      <td>peugeot</td>\n",
       "      <td>ksa</td>\n",
       "      <td>22092.000</td>\n",
       "      <td>2000.0</td>\n",
       "      <td>4.0</td>\n",
       "      <td>120.0</td>\n",
       "      <td>170.0</td>\n",
       "      <td>NaN</td>\n",
       "    </tr>\n",
       "  </tbody>\n",
       "</table>\n",
       "</div>"
      ],
      "text/plain": [
       "                           car name    brand country  price_usd  \\\n",
       "1     Peugeot Traveller 2021 L3 VIP  peugeot     ksa  37486.667   \n",
       "2  Suzuki Jimny 2021 1.5L Automatic   suzuki     ksa  26342.667   \n",
       "3    Ford Bronco 2021 2.3T Big Bend     ford     ksa  52800.000   \n",
       "5     Honda HR-V 2021 1.8 i-VTEC EX    honda     ksa  25422.667   \n",
       "6    Peugeot Expert 2021 Van L3 A/T  peugeot     ksa  22092.000   \n",
       "\n",
       "   engine_capacity_edited  cylinder_edited  horse_power_edited  \\\n",
       "1                  2000.0              4.0               180.0   \n",
       "2                  1500.0              4.0               102.0   \n",
       "3                  2300.0              4.0               420.0   \n",
       "5                  1800.0              4.0               140.0   \n",
       "6                  2000.0              4.0               120.0   \n",
       "\n",
       "   top_speed_edited  seats_edited  \n",
       "1               NaN           NaN  \n",
       "2             145.0           4.0  \n",
       "3               NaN           NaN  \n",
       "5             190.0           5.0  \n",
       "6             170.0           NaN  "
      ]
     },
     "execution_count": 54,
     "metadata": {},
     "output_type": "execute_result"
    }
   ],
   "source": [
    "car_df.head()"
   ]
  },
  {
   "cell_type": "markdown",
   "metadata": {},
   "source": [
    "data is cleaned \n",
    "remaianing  missing values"
   ]
  },
  {
   "cell_type": "code",
   "execution_count": 55,
   "metadata": {},
   "outputs": [
    {
     "name": "stdout",
     "output_type": "stream",
     "text": [
      "<class 'pandas.core.frame.DataFrame'>\n",
      "Index: 4909 entries, 1 to 6306\n",
      "Data columns (total 9 columns):\n",
      " #   Column                  Non-Null Count  Dtype  \n",
      "---  ------                  --------------  -----  \n",
      " 0   car name                4909 non-null   object \n",
      " 1   brand                   4909 non-null   object \n",
      " 2   country                 4909 non-null   object \n",
      " 3   price_usd               4909 non-null   float64\n",
      " 4   engine_capacity_edited  4909 non-null   float64\n",
      " 5   cylinder_edited         4378 non-null   float64\n",
      " 6   horse_power_edited      4909 non-null   float64\n",
      " 7   top_speed_edited        4663 non-null   float64\n",
      " 8   seats_edited            4612 non-null   float64\n",
      "dtypes: float64(6), object(3)\n",
      "memory usage: 383.5+ KB\n"
     ]
    }
   ],
   "source": [
    "car_df.info()"
   ]
  },
  {
   "cell_type": "markdown",
   "metadata": {},
   "source": [
    "encode "
   ]
  },
  {
   "cell_type": "code",
   "execution_count": 56,
   "metadata": {},
   "outputs": [],
   "source": [
    "\n",
    "\n",
    "# Create an instance of the LabelEncoder\n",
    "le = LabelEncoder()\n",
    "\n",
    "# # Fit the encoder\n",
    "# le.fit(df['gender'])\n",
    "\n",
    "# # Transform\n",
    "# df_enc = le.transform(df['gender'])\n",
    "\n",
    "# # Create a copy of the original DataFrame to store the encoded data\n",
    "# df_labelenc = df.copy()\n",
    "\n",
    "# # Add the encoded column to the new DataFrame\n",
    "\n",
    "# df_labelenc[le.classes_[0]] = df_enc\n",
    "\n",
    "# # Display the first few rows of the new DataFrame\n",
    "# df_labelenc.head()\n",
    "\n",
    "for col in car_df.columns:\n",
    "    if car_df[col].dtype == 'object':\n",
    "        car_df[col] = le.fit_transform(car_df[col])\n",
    "        "
   ]
  },
  {
   "cell_type": "code",
   "execution_count": 57,
   "metadata": {},
   "outputs": [
    {
     "data": {
      "text/html": [
       "<div>\n",
       "<style scoped>\n",
       "    .dataframe tbody tr th:only-of-type {\n",
       "        vertical-align: middle;\n",
       "    }\n",
       "\n",
       "    .dataframe tbody tr th {\n",
       "        vertical-align: top;\n",
       "    }\n",
       "\n",
       "    .dataframe thead th {\n",
       "        text-align: right;\n",
       "    }\n",
       "</style>\n",
       "<table border=\"1\" class=\"dataframe\">\n",
       "  <thead>\n",
       "    <tr style=\"text-align: right;\">\n",
       "      <th></th>\n",
       "      <th>car name</th>\n",
       "      <th>brand</th>\n",
       "      <th>country</th>\n",
       "      <th>price_usd</th>\n",
       "      <th>engine_capacity_edited</th>\n",
       "      <th>cylinder_edited</th>\n",
       "      <th>horse_power_edited</th>\n",
       "      <th>top_speed_edited</th>\n",
       "      <th>seats_edited</th>\n",
       "    </tr>\n",
       "  </thead>\n",
       "  <tbody>\n",
       "    <tr>\n",
       "      <th>count</th>\n",
       "      <td>4909.000000</td>\n",
       "      <td>4909.000000</td>\n",
       "      <td>4909.000000</td>\n",
       "      <td>4.909000e+03</td>\n",
       "      <td>4909.000000</td>\n",
       "      <td>4378.000000</td>\n",
       "      <td>4909.000000</td>\n",
       "      <td>4663.000000</td>\n",
       "      <td>4612.000000</td>\n",
       "    </tr>\n",
       "    <tr>\n",
       "      <th>mean</th>\n",
       "      <td>1033.519861</td>\n",
       "      <td>40.545529</td>\n",
       "      <td>3.289672</td>\n",
       "      <td>6.959403e+04</td>\n",
       "      <td>2811.891017</td>\n",
       "      <td>5.314299</td>\n",
       "      <td>282.899572</td>\n",
       "      <td>221.069269</td>\n",
       "      <td>4.939722</td>\n",
       "    </tr>\n",
       "    <tr>\n",
       "      <th>std</th>\n",
       "      <td>606.021508</td>\n",
       "      <td>21.809266</td>\n",
       "      <td>2.022998</td>\n",
       "      <td>7.819286e+04</td>\n",
       "      <td>1282.476675</td>\n",
       "      <td>1.900274</td>\n",
       "      <td>150.856539</td>\n",
       "      <td>41.815007</td>\n",
       "      <td>1.529671</td>\n",
       "    </tr>\n",
       "    <tr>\n",
       "      <th>min</th>\n",
       "      <td>0.000000</td>\n",
       "      <td>0.000000</td>\n",
       "      <td>0.000000</td>\n",
       "      <td>4.765056e+03</td>\n",
       "      <td>999.000000</td>\n",
       "      <td>3.000000</td>\n",
       "      <td>65.000000</td>\n",
       "      <td>120.000000</td>\n",
       "      <td>2.000000</td>\n",
       "    </tr>\n",
       "    <tr>\n",
       "      <th>25%</th>\n",
       "      <td>466.000000</td>\n",
       "      <td>24.000000</td>\n",
       "      <td>2.000000</td>\n",
       "      <td>2.564610e+04</td>\n",
       "      <td>2000.000000</td>\n",
       "      <td>4.000000</td>\n",
       "      <td>164.000000</td>\n",
       "      <td>185.000000</td>\n",
       "      <td>4.000000</td>\n",
       "    </tr>\n",
       "    <tr>\n",
       "      <th>50%</th>\n",
       "      <td>1103.000000</td>\n",
       "      <td>45.000000</td>\n",
       "      <td>3.000000</td>\n",
       "      <td>4.725040e+04</td>\n",
       "      <td>2500.000000</td>\n",
       "      <td>4.000000</td>\n",
       "      <td>248.000000</td>\n",
       "      <td>215.000000</td>\n",
       "      <td>5.000000</td>\n",
       "    </tr>\n",
       "    <tr>\n",
       "      <th>75%</th>\n",
       "      <td>1522.000000</td>\n",
       "      <td>58.000000</td>\n",
       "      <td>5.000000</td>\n",
       "      <td>8.222812e+04</td>\n",
       "      <td>3500.000000</td>\n",
       "      <td>6.000000</td>\n",
       "      <td>363.000000</td>\n",
       "      <td>250.000000</td>\n",
       "      <td>5.000000</td>\n",
       "    </tr>\n",
       "    <tr>\n",
       "      <th>max</th>\n",
       "      <td>2108.000000</td>\n",
       "      <td>77.000000</td>\n",
       "      <td>6.000000</td>\n",
       "      <td>1.489777e+06</td>\n",
       "      <td>6800.000000</td>\n",
       "      <td>12.000000</td>\n",
       "      <td>900.000000</td>\n",
       "      <td>350.000000</td>\n",
       "      <td>18.000000</td>\n",
       "    </tr>\n",
       "  </tbody>\n",
       "</table>\n",
       "</div>"
      ],
      "text/plain": [
       "          car name        brand      country     price_usd  \\\n",
       "count  4909.000000  4909.000000  4909.000000  4.909000e+03   \n",
       "mean   1033.519861    40.545529     3.289672  6.959403e+04   \n",
       "std     606.021508    21.809266     2.022998  7.819286e+04   \n",
       "min       0.000000     0.000000     0.000000  4.765056e+03   \n",
       "25%     466.000000    24.000000     2.000000  2.564610e+04   \n",
       "50%    1103.000000    45.000000     3.000000  4.725040e+04   \n",
       "75%    1522.000000    58.000000     5.000000  8.222812e+04   \n",
       "max    2108.000000    77.000000     6.000000  1.489777e+06   \n",
       "\n",
       "       engine_capacity_edited  cylinder_edited  horse_power_edited  \\\n",
       "count             4909.000000      4378.000000         4909.000000   \n",
       "mean              2811.891017         5.314299          282.899572   \n",
       "std               1282.476675         1.900274          150.856539   \n",
       "min                999.000000         3.000000           65.000000   \n",
       "25%               2000.000000         4.000000          164.000000   \n",
       "50%               2500.000000         4.000000          248.000000   \n",
       "75%               3500.000000         6.000000          363.000000   \n",
       "max               6800.000000        12.000000          900.000000   \n",
       "\n",
       "       top_speed_edited  seats_edited  \n",
       "count       4663.000000   4612.000000  \n",
       "mean         221.069269      4.939722  \n",
       "std           41.815007      1.529671  \n",
       "min          120.000000      2.000000  \n",
       "25%          185.000000      4.000000  \n",
       "50%          215.000000      5.000000  \n",
       "75%          250.000000      5.000000  \n",
       "max          350.000000     18.000000  "
      ]
     },
     "execution_count": 57,
     "metadata": {},
     "output_type": "execute_result"
    }
   ],
   "source": [
    "car_df.describe()"
   ]
  },
  {
   "cell_type": "code",
   "execution_count": 58,
   "metadata": {},
   "outputs": [
    {
     "name": "stdout",
     "output_type": "stream",
     "text": [
      "number of missing data in each feature\n"
     ]
    },
    {
     "data": {
      "text/plain": [
       "car name                    0\n",
       "brand                       0\n",
       "country                     0\n",
       "price_usd                   0\n",
       "engine_capacity_edited      0\n",
       "cylinder_edited           531\n",
       "horse_power_edited          0\n",
       "top_speed_edited          246\n",
       "seats_edited              297\n",
       "dtype: int64"
      ]
     },
     "execution_count": 58,
     "metadata": {},
     "output_type": "execute_result"
    }
   ],
   "source": [
    "print(\"number of missing data in each feature\")\n",
    "car_df.isna().sum()\n"
   ]
  },
  {
   "cell_type": "code",
   "execution_count": 59,
   "metadata": {},
   "outputs": [
    {
     "name": "stdout",
     "output_type": "stream",
     "text": [
      "Number of records that have 1 missing values: 592\n",
      "Number of records that have 2 missing values: 217\n",
      "Number of records that have 3 missing values: 16\n",
      "Number of records that have 4 missing values: 0\n",
      "Number of records that have 5 missing values: 0\n",
      "Number of records that have 6 missing values: 0\n",
      "Number of records that have 7 missing values: 0\n",
      "Number of records that have 8 missing values: 0\n"
     ]
    }
   ],
   "source": [
    "for i in range(1,car_df.shape[1]):\n",
    "    print(f\"Number of records that have {i} missing values: {car_df[car_df.isna().sum(axis=1) == i].shape[0]}\")"
   ]
  },
  {
   "cell_type": "code",
   "execution_count": 60,
   "metadata": {},
   "outputs": [
    {
     "data": {
      "image/png": "[encoded data removed]",
      "text/plain": [
       "<Figure size 1200x800 with 2 Axes>"
      ]
     },
     "metadata": {},
     "output_type": "display_data"
    }
   ],
   "source": [
    "# make correlation matrix\n",
    "corr = car_df.corr()\n",
    "\n",
    "# plot the heatmap\n",
    "plt.figure(figsize=(12, 8))\n",
    "sns.heatmap(corr, annot=True, cmap='coolwarm')\n",
    "plt.title('Correlation Matrix')\n",
    "plt.show()"
   ]
  },
  {
   "cell_type": "markdown",
   "metadata": {},
   "source": [
    "top speed -> hourse power"
   ]
  },
  {
   "cell_type": "code",
   "execution_count": 61,
   "metadata": {},
   "outputs": [
    {
     "data": {
      "image/png": "[encoded data removed]",
      "text/plain": [
       "<Figure size 1000x600 with 1 Axes>"
      ]
     },
     "metadata": {},
     "output_type": "display_data"
    }
   ],
   "source": [
    "# draw histogram for top speed\n",
    "plt.figure(figsize=(10, 6))\n",
    "sns.histplot(car_df['top_speed_edited'], kde=True)\n",
    "plt.title('Top Speed Distribution')\n",
    "plt.show()"
   ]
  },
  {
   "cell_type": "code",
   "execution_count": 62,
   "metadata": {},
   "outputs": [],
   "source": [
    "# handle missing top_speed_edited values via hourse_power_edited\n",
    "#  because they are highly correlated\n",
    "\n",
    "car_df['top_speed_edited'] = car_df['top_speed_edited'].fillna(car_df.groupby('horse_power_edited')['top_speed_edited'].transform('mean'))\n",
    "\n"
   ]
  },
  {
   "cell_type": "code",
   "execution_count": 63,
   "metadata": {},
   "outputs": [
    {
     "data": {
      "text/plain": [
       "car name                    0\n",
       "brand                       0\n",
       "country                     0\n",
       "price_usd                   0\n",
       "engine_capacity_edited      0\n",
       "cylinder_edited           531\n",
       "horse_power_edited          0\n",
       "top_speed_edited           47\n",
       "seats_edited              297\n",
       "dtype: int64"
      ]
     },
     "execution_count": 63,
     "metadata": {},
     "output_type": "execute_result"
    }
   ],
   "source": [
    "car_df.isna().sum()\n"
   ]
  },
  {
   "cell_type": "code",
   "execution_count": 64,
   "metadata": {},
   "outputs": [
    {
     "name": "stderr",
     "output_type": "stream",
     "text": [
      "C:\\Users\\Lenovo\\AppData\\Local\\Temp\\ipykernel_16184\\148539906.py:1: FutureWarning: A value is trying to be set on a copy of a DataFrame or Series through chained assignment using an inplace method.\n",
      "The behavior will change in pandas 3.0. This inplace method will never work because the intermediate object on which we are setting values always behaves as a copy.\n",
      "\n",
      "For example, when doing 'df[col].method(value, inplace=True)', try using 'df.method({col: value}, inplace=True)' or df[col] = df[col].method(value) instead, to perform the operation inplace on the original object.\n",
      "\n",
      "\n",
      "  car_df['top_speed_edited'].fillna(car_df['top_speed_edited'].mean(), inplace=True) # fill the remaining missing values with the mean\n"
     ]
    }
   ],
   "source": [
    "car_df['top_speed_edited'].fillna(car_df['top_speed_edited'].mean(), inplace=True) # fill the remaining missing values with the mean"
   ]
  },
  {
   "cell_type": "code",
   "execution_count": 65,
   "metadata": {},
   "outputs": [
    {
     "data": {
      "image/png": "[encoded data removed]",
      "text/plain": [
       "<Figure size 1000x600 with 1 Axes>"
      ]
     },
     "metadata": {},
     "output_type": "display_data"
    }
   ],
   "source": [
    "\n",
    "# draw histogram for top speed\n",
    "plt.figure(figsize=(10, 6))\n",
    "sns.histplot(car_df['top_speed_edited'], kde=True)\n",
    "plt.title('Top Speed Distribution')\n",
    "plt.show()\n"
   ]
  },
  {
   "cell_type": "markdown",
   "metadata": {},
   "source": [
    "cyliners -> engine size"
   ]
  },
  {
   "cell_type": "code",
   "execution_count": 66,
   "metadata": {},
   "outputs": [],
   "source": [
    "car_df['cylinder_edited'] = car_df['cylinder_edited'].fillna(\n",
    "    car_df.groupby('engine_capacity_edited')['cylinder_edited'].transform(lambda x: x.mode().iloc[0] if not x.mode().empty else np.nan)\n",
    ")\n"
   ]
  },
  {
   "cell_type": "code",
   "execution_count": 67,
   "metadata": {},
   "outputs": [
    {
     "data": {
      "text/plain": [
       "car name                    0\n",
       "brand                       0\n",
       "country                     0\n",
       "price_usd                   0\n",
       "engine_capacity_edited      0\n",
       "cylinder_edited             1\n",
       "horse_power_edited          0\n",
       "top_speed_edited            0\n",
       "seats_edited              297\n",
       "dtype: int64"
      ]
     },
     "execution_count": 67,
     "metadata": {},
     "output_type": "execute_result"
    }
   ],
   "source": [
    "car_df.isna().sum()    "
   ]
  },
  {
   "cell_type": "code",
   "execution_count": 68,
   "metadata": {},
   "outputs": [
    {
     "name": "stderr",
     "output_type": "stream",
     "text": [
      "C:\\Users\\Lenovo\\AppData\\Local\\Temp\\ipykernel_16184\\349120942.py:1: FutureWarning: A value is trying to be set on a copy of a DataFrame or Series through chained assignment using an inplace method.\n",
      "The behavior will change in pandas 3.0. This inplace method will never work because the intermediate object on which we are setting values always behaves as a copy.\n",
      "\n",
      "For example, when doing 'df[col].method(value, inplace=True)', try using 'df.method({col: value}, inplace=True)' or df[col] = df[col].method(value) instead, to perform the operation inplace on the original object.\n",
      "\n",
      "\n",
      "  car_df['cylinder_edited'].fillna(car_df['cylinder_edited'].mode()[0], inplace=True) # fill the remaining missing values with the mode\n"
     ]
    }
   ],
   "source": [
    "\n",
    "car_df['cylinder_edited'].fillna(car_df['cylinder_edited'].mode()[0], inplace=True) # fill the remaining missing values with the mode"
   ]
  },
  {
   "cell_type": "code",
   "execution_count": 69,
   "metadata": {},
   "outputs": [
    {
     "data": {
      "text/plain": [
       "car name                    0\n",
       "brand                       0\n",
       "country                     0\n",
       "price_usd                   0\n",
       "engine_capacity_edited      0\n",
       "cylinder_edited             0\n",
       "horse_power_edited          0\n",
       "top_speed_edited            0\n",
       "seats_edited              297\n",
       "dtype: int64"
      ]
     },
     "execution_count": 69,
     "metadata": {},
     "output_type": "execute_result"
    }
   ],
   "source": [
    "\n",
    "car_df.isna().sum()"
   ]
  },
  {
   "cell_type": "markdown",
   "metadata": {},
   "source": [
    "seats not highly correlated with any other feature so impute with mode"
   ]
  },
  {
   "cell_type": "code",
   "execution_count": 70,
   "metadata": {},
   "outputs": [],
   "source": [
    "\n",
    "car_df['seats_edited'] = car_df['seats_edited'].fillna(car_df['seats_edited'].mode()[0]) # fill the missing values with the mode"
   ]
  },
  {
   "cell_type": "code",
   "execution_count": 71,
   "metadata": {},
   "outputs": [
    {
     "data": {
      "text/plain": [
       "car name                  0\n",
       "brand                     0\n",
       "country                   0\n",
       "price_usd                 0\n",
       "engine_capacity_edited    0\n",
       "cylinder_edited           0\n",
       "horse_power_edited        0\n",
       "top_speed_edited          0\n",
       "seats_edited              0\n",
       "dtype: int64"
      ]
     },
     "execution_count": 71,
     "metadata": {},
     "output_type": "execute_result"
    }
   ],
   "source": [
    "car_df.isna().sum()\n"
   ]
  },
  {
   "cell_type": "code",
   "execution_count": null,
   "metadata": {},
   "outputs": [
    {
     "data": {
      "text/html": [
       "<div>\n",
       "<style scoped>\n",
       "    .dataframe tbody tr th:only-of-type {\n",
       "        vertical-align: middle;\n",
       "    }\n",
       "\n",
       "    .dataframe tbody tr th {\n",
       "        vertical-align: top;\n",
       "    }\n",
       "\n",
       "    .dataframe thead th {\n",
       "        text-align: right;\n",
       "    }\n",
       "</style>\n",
       "<table border=\"1\" class=\"dataframe\">\n",
       "  <thead>\n",
       "    <tr style=\"text-align: right;\">\n",
       "      <th></th>\n",
       "      <th>car name</th>\n",
       "      <th>brand</th>\n",
       "      <th>country</th>\n",
       "      <th>price_usd</th>\n",
       "      <th>engine_capacity_edited</th>\n",
       "      <th>cylinder_edited</th>\n",
       "      <th>horse_power_edited</th>\n",
       "      <th>top_speed_edited</th>\n",
       "      <th>seats_edited</th>\n",
       "    </tr>\n",
       "  </thead>\n",
       "  <tbody>\n",
       "    <tr>\n",
       "      <th>1</th>\n",
       "      <td>1.022312</td>\n",
       "      <td>0.892119</td>\n",
       "      <td>-0.63757</td>\n",
       "      <td>-0.410659</td>\n",
       "      <td>-0.633129</td>\n",
       "      <td>-0.689665</td>\n",
       "      <td>-0.682172</td>\n",
       "      <td>-0.175341</td>\n",
       "      <td>0.038197</td>\n",
       "    </tr>\n",
       "    <tr>\n",
       "      <th>2</th>\n",
       "      <td>1.358968</td>\n",
       "      <td>1.396543</td>\n",
       "      <td>-0.63757</td>\n",
       "      <td>-0.553193</td>\n",
       "      <td>-1.023040</td>\n",
       "      <td>-0.689665</td>\n",
       "      <td>-1.199272</td>\n",
       "      <td>-1.833816</td>\n",
       "      <td>-0.636301</td>\n",
       "    </tr>\n",
       "    <tr>\n",
       "      <th>3</th>\n",
       "      <td>-0.939864</td>\n",
       "      <td>-0.758724</td>\n",
       "      <td>-0.63757</td>\n",
       "      <td>-0.214799</td>\n",
       "      <td>-0.399183</td>\n",
       "      <td>-0.689665</td>\n",
       "      <td>0.908906</td>\n",
       "      <td>-0.016441</td>\n",
       "      <td>0.038197</td>\n",
       "    </tr>\n",
       "    <tr>\n",
       "      <th>5</th>\n",
       "      <td>-0.664268</td>\n",
       "      <td>-0.437727</td>\n",
       "      <td>-0.63757</td>\n",
       "      <td>-0.564960</td>\n",
       "      <td>-0.789094</td>\n",
       "      <td>-0.689665</td>\n",
       "      <td>-0.947351</td>\n",
       "      <td>-0.764772</td>\n",
       "      <td>0.038197</td>\n",
       "    </tr>\n",
       "    <tr>\n",
       "      <th>6</th>\n",
       "      <td>1.010760</td>\n",
       "      <td>0.892119</td>\n",
       "      <td>-0.63757</td>\n",
       "      <td>-0.607560</td>\n",
       "      <td>-0.633129</td>\n",
       "      <td>-0.689665</td>\n",
       "      <td>-1.079941</td>\n",
       "      <td>-1.239903</td>\n",
       "      <td>0.038197</td>\n",
       "    </tr>\n",
       "  </tbody>\n",
       "</table>\n",
       "</div>"
      ],
      "text/plain": [
       "   car name     brand  country  price_usd  engine_capacity_edited  \\\n",
       "1  1.022312  0.892119 -0.63757  -0.410659               -0.633129   \n",
       "2  1.358968  1.396543 -0.63757  -0.553193               -1.023040   \n",
       "3 -0.939864 -0.758724 -0.63757  -0.214799               -0.399183   \n",
       "5 -0.664268 -0.437727 -0.63757  -0.564960               -0.789094   \n",
       "6  1.010760  0.892119 -0.63757  -0.607560               -0.633129   \n",
       "\n",
       "   cylinder_edited  horse_power_edited  top_speed_edited  seats_edited  \n",
       "1        -0.689665           -0.682172         -0.175341      0.038197  \n",
       "2        -0.689665           -1.199272         -1.833816     -0.636301  \n",
       "3        -0.689665            0.908906         -0.016441      0.038197  \n",
       "5        -0.689665           -0.947351         -0.764772      0.038197  \n",
       "6        -0.689665           -1.079941         -1.239903      0.038197  "
      ]
     },
     "execution_count": 77,
     "metadata": {},
     "output_type": "execute_result"
    }
   ],
   "source": [
    "# make z score for scaling the data\n",
    "\n",
    "car_df_scaled = car_df.apply(zscore)\n",
    "\n",
    "car_df_scaled.head()"
   ]
  },
  {
   "cell_type": "code",
   "execution_count": 78,
   "metadata": {},
   "outputs": [
    {
     "data": {
      "text/html": [
       "<div>\n",
       "<style scoped>\n",
       "    .dataframe tbody tr th:only-of-type {\n",
       "        vertical-align: middle;\n",
       "    }\n",
       "\n",
       "    .dataframe tbody tr th {\n",
       "        vertical-align: top;\n",
       "    }\n",
       "\n",
       "    .dataframe thead th {\n",
       "        text-align: right;\n",
       "    }\n",
       "</style>\n",
       "<table border=\"1\" class=\"dataframe\">\n",
       "  <thead>\n",
       "    <tr style=\"text-align: right;\">\n",
       "      <th></th>\n",
       "      <th>car name</th>\n",
       "      <th>brand</th>\n",
       "      <th>country</th>\n",
       "      <th>price_usd</th>\n",
       "      <th>engine_capacity_edited</th>\n",
       "      <th>cylinder_edited</th>\n",
       "      <th>horse_power_edited</th>\n",
       "      <th>top_speed_edited</th>\n",
       "      <th>seats_edited</th>\n",
       "    </tr>\n",
       "  </thead>\n",
       "  <tbody>\n",
       "    <tr>\n",
       "      <th>count</th>\n",
       "      <td>4.909000e+03</td>\n",
       "      <td>4.909000e+03</td>\n",
       "      <td>4.909000e+03</td>\n",
       "      <td>4.909000e+03</td>\n",
       "      <td>4.909000e+03</td>\n",
       "      <td>4.909000e+03</td>\n",
       "      <td>4.909000e+03</td>\n",
       "      <td>4.909000e+03</td>\n",
       "      <td>4.909000e+03</td>\n",
       "    </tr>\n",
       "    <tr>\n",
       "      <th>mean</th>\n",
       "      <td>2.605372e-17</td>\n",
       "      <td>1.186892e-16</td>\n",
       "      <td>-1.389532e-16</td>\n",
       "      <td>1.765863e-16</td>\n",
       "      <td>1.736914e-16</td>\n",
       "      <td>1.968503e-16</td>\n",
       "      <td>-1.794812e-16</td>\n",
       "      <td>-3.329086e-16</td>\n",
       "      <td>-7.381886e-17</td>\n",
       "    </tr>\n",
       "    <tr>\n",
       "      <th>std</th>\n",
       "      <td>1.000102e+00</td>\n",
       "      <td>1.000102e+00</td>\n",
       "      <td>1.000102e+00</td>\n",
       "      <td>1.000102e+00</td>\n",
       "      <td>1.000102e+00</td>\n",
       "      <td>1.000102e+00</td>\n",
       "      <td>1.000102e+00</td>\n",
       "      <td>1.000102e+00</td>\n",
       "      <td>1.000102e+00</td>\n",
       "    </tr>\n",
       "    <tr>\n",
       "      <th>min</th>\n",
       "      <td>-1.705592e+00</td>\n",
       "      <td>-1.859286e+00</td>\n",
       "      <td>-1.626303e+00</td>\n",
       "      <td>-8.291752e-01</td>\n",
       "      <td>-1.413730e+00</td>\n",
       "      <td>-1.220068e+00</td>\n",
       "      <td>-1.444563e+00</td>\n",
       "      <td>-2.427730e+00</td>\n",
       "      <td>-1.985297e+00</td>\n",
       "    </tr>\n",
       "    <tr>\n",
       "      <th>25%</th>\n",
       "      <td>-9.365636e-01</td>\n",
       "      <td>-7.587240e-01</td>\n",
       "      <td>-6.375704e-01</td>\n",
       "      <td>-5.621025e-01</td>\n",
       "      <td>-6.331294e-01</td>\n",
       "      <td>-6.896646e-01</td>\n",
       "      <td>-7.882435e-01</td>\n",
       "      <td>-8.835548e-01</td>\n",
       "      <td>3.819728e-02</td>\n",
       "    </tr>\n",
       "    <tr>\n",
       "      <th>50%</th>\n",
       "      <td>1.146613e-01</td>\n",
       "      <td>2.042675e-01</td>\n",
       "      <td>-1.432041e-01</td>\n",
       "      <td>-2.857794e-01</td>\n",
       "      <td>-2.432191e-01</td>\n",
       "      <td>-6.896646e-01</td>\n",
       "      <td>-2.313664e-01</td>\n",
       "      <td>-5.207583e-02</td>\n",
       "      <td>3.819728e-02</td>\n",
       "    </tr>\n",
       "    <tr>\n",
       "      <th>75%</th>\n",
       "      <td>8.061263e-01</td>\n",
       "      <td>8.004052e-01</td>\n",
       "      <td>8.455285e-01</td>\n",
       "      <td>1.615924e-01</td>\n",
       "      <td>5.366016e-01</td>\n",
       "      <td>3.711418e-01</td>\n",
       "      <td>5.310250e-01</td>\n",
       "      <td>6.606204e-01</td>\n",
       "      <td>3.819728e-02</td>\n",
       "    </tr>\n",
       "    <tr>\n",
       "      <th>max</th>\n",
       "      <td>1.773187e+00</td>\n",
       "      <td>1.671683e+00</td>\n",
       "      <td>1.339895e+00</td>\n",
       "      <td>1.816442e+01</td>\n",
       "      <td>3.110010e+00</td>\n",
       "      <td>3.553561e+00</td>\n",
       "      <td>4.091061e+00</td>\n",
       "      <td>3.036275e+00</td>\n",
       "      <td>8.806671e+00</td>\n",
       "    </tr>\n",
       "  </tbody>\n",
       "</table>\n",
       "</div>"
      ],
      "text/plain": [
       "           car name         brand       country     price_usd  \\\n",
       "count  4.909000e+03  4.909000e+03  4.909000e+03  4.909000e+03   \n",
       "mean   2.605372e-17  1.186892e-16 -1.389532e-16  1.765863e-16   \n",
       "std    1.000102e+00  1.000102e+00  1.000102e+00  1.000102e+00   \n",
       "min   -1.705592e+00 -1.859286e+00 -1.626303e+00 -8.291752e-01   \n",
       "25%   -9.365636e-01 -7.587240e-01 -6.375704e-01 -5.621025e-01   \n",
       "50%    1.146613e-01  2.042675e-01 -1.432041e-01 -2.857794e-01   \n",
       "75%    8.061263e-01  8.004052e-01  8.455285e-01  1.615924e-01   \n",
       "max    1.773187e+00  1.671683e+00  1.339895e+00  1.816442e+01   \n",
       "\n",
       "       engine_capacity_edited  cylinder_edited  horse_power_edited  \\\n",
       "count            4.909000e+03     4.909000e+03        4.909000e+03   \n",
       "mean             1.736914e-16     1.968503e-16       -1.794812e-16   \n",
       "std              1.000102e+00     1.000102e+00        1.000102e+00   \n",
       "min             -1.413730e+00    -1.220068e+00       -1.444563e+00   \n",
       "25%             -6.331294e-01    -6.896646e-01       -7.882435e-01   \n",
       "50%             -2.432191e-01    -6.896646e-01       -2.313664e-01   \n",
       "75%              5.366016e-01     3.711418e-01        5.310250e-01   \n",
       "max              3.110010e+00     3.553561e+00        4.091061e+00   \n",
       "\n",
       "       top_speed_edited  seats_edited  \n",
       "count      4.909000e+03  4.909000e+03  \n",
       "mean      -3.329086e-16 -7.381886e-17  \n",
       "std        1.000102e+00  1.000102e+00  \n",
       "min       -2.427730e+00 -1.985297e+00  \n",
       "25%       -8.835548e-01  3.819728e-02  \n",
       "50%       -5.207583e-02  3.819728e-02  \n",
       "75%        6.606204e-01  3.819728e-02  \n",
       "max        3.036275e+00  8.806671e+00  "
      ]
     },
     "execution_count": 78,
     "metadata": {},
     "output_type": "execute_result"
    }
   ],
   "source": [
    "car_df_scaled.describe()"
   ]
  },
  {
   "cell_type": "markdown",
   "metadata": {},
   "source": [
    "make a comparosion between scaled and unscaled data\n",
    "\n",
    "there is so much different"
   ]
  },
  {
   "cell_type": "code",
   "execution_count": 93,
   "metadata": {},
   "outputs": [],
   "source": [
    "X = car_df_scaled.drop('price_usd', axis=1)\n",
    "y = car_df_scaled['price_usd']\n",
    "#Split the dataset into training, validation, and test sets. A common split would be\n",
    "#60% for training, 20% for validation, and 20% for testing.\n",
    "\n",
    "\n",
    "# Initial split: 80% for training/validation and 20% for testing\n",
    "X_train_val, X_test, y_train_val, y_test = train_test_split(X, y, test_size=0.2, random_state=42)\n",
    "\n",
    "# Second split: Split the 80% training/validation into 60% training and 20% validation\n",
    "X_train, X_val, y_train, y_val = train_test_split(X_train_val, y_train_val, test_size=0.25, random_state=42)  # 0.25 x 0.8 = 0.2\n",
    "\n",
    "# Now you have 60% training, 20% validation, and 20% test sets\n"
   ]
  },
  {
   "cell_type": "code",
   "execution_count": 99,
   "metadata": {},
   "outputs": [],
   "source": [
    "# make regrission model with closed form solution (XT X)-1 XT y\n",
    "def closed_form_solution(X, y):\n",
    "    X_T = X.T\n",
    "    X_T_dot_X = X_T.dot(X)\n",
    "    X_T_dot_X_inv = np.linalg.inv(X_T_dot_X)\n",
    "    X_T_dot_y = X_T.dot(y)\n",
    "    return X_T_dot_X_inv.dot(X_T_dot_y)\n",
    "\n",
    "# make prediction\n",
    "def predict(X, w):\n",
    "    return w.transpose().dot(X)\n",
    "\n",
    "# make R score for evaluation\n",
    "def r_squared(y_true, y_pred):\n",
    "    y_mean = np.mean(y_true)\n",
    "    SS_res = np.sum((y_true - y_pred) ** 2)\n",
    "    SS_tot = np.sum((y_true - y_mean) ** 2)\n",
    "    return 1 - (SS_res / SS_tot)\n"
   ]
  },
  {
   "cell_type": "markdown",
   "metadata": {},
   "source": [
    "linear regression"
   ]
  },
  {
   "cell_type": "code",
   "execution_count": 104,
   "metadata": {},
   "outputs": [
    {
     "name": "stdout",
     "output_type": "stream",
     "text": [
      "w0 = 0.27559465088923485\n",
      "w1 = -0.22979692825389986\n",
      "w2 = 0.022297571545787875\n",
      "w3 = -0.43297664786699563\n",
      "w4 = 0.6027704981219797\n",
      "w5 = 0.514514836620779\n",
      "w6 = 0.09378870309176834\n",
      "w7 = -0.04444690571500021\n",
      "\n",
      "=======================================\n",
      "\n",
      "R^2: 0.7842435869634337\n"
     ]
    }
   ],
   "source": [
    "w = closed_form_solution(X_train, y_train)\n",
    "for i in range(X_train.shape[1]):\n",
    "    print(f'w{i} = {w[i]}')\n",
    "\n",
    "print('\\n=======================================\\n')\n",
    "\n",
    "y_pred = X_val.dot(w)\n",
    "r2 = r_squared(y_val, y_pred)\n",
    "print(f'R^2: {r2}')"
   ]
  },
  {
   "cell_type": "code",
   "execution_count": 110,
   "metadata": {},
   "outputs": [
    {
     "name": "stdout",
     "output_type": "stream",
     "text": [
      "Lambda: 0.0001, R^2: 0.784243571796721\n",
      "Lambda: 0.01, R^2: 0.7842420706090841\n",
      "Lambda: 0.1, R^2: 0.7842284521577964\n",
      "Lambda: 1, R^2: 0.784095036830734\n",
      "Lambda: 10, R^2: 0.7829715552275435\n",
      "Lambda: 100, R^2: 0.7753380326608489\n",
      "Lambda: 1000, R^2: 0.7340216646696012\n",
      "\n",
      "Best Lambda: 0.0001, Best R^2: 0.784243571796721\n"
     ]
    }
   ],
   "source": [
    "#ridge regression\n",
    "def ridge_regression(X, y, lambda_):\n",
    "    I = np.identity(X.shape[1])\n",
    "    w = np.linalg.inv(X.T.dot(X) + lambda_ * I).dot(X.T).dot(y)\n",
    "    return w\n",
    "\n",
    "lambdas = [0.0001, 0.01, 0.1,1, 10, 100, 1000]\n",
    "#apply grid search\n",
    "best_lambda = None\n",
    "best_r2 = -np.inf\n",
    "\n",
    "for lambda_ in lambdas:\n",
    "    w = ridge_regression(X_train, y_train, lambda_)\n",
    "    y_pred = X_val.dot(w)\n",
    "    r2 = r_squared(y_val, y_pred)\n",
    "    print(f'Lambda: {lambda_}, R^2: {r2}')\n",
    "    if r2 > best_r2:\n",
    "        best_r2 = r2\n",
    "        best_lambda = lambda_\n",
    "\n",
    "print(f'\\nBest Lambda: {best_lambda}, Best R^2: {best_r2}')\n"
   ]
  },
  {
   "cell_type": "markdown",
   "metadata": {},
   "source": [
    "non linear regression"
   ]
  },
  {
   "cell_type": "code",
   "execution_count": 101,
   "metadata": {},
   "outputs": [],
   "source": [
    "def polynomial_features(X, degree):\n",
    "    n_samples, n_features = X.shape\n",
    "    X_poly = np.ones((n_samples, 1))  # Start with the bias term (column of ones)\n",
    "    \n",
    "    # Generate polynomial terms up to the specified degree\n",
    "    for d in range(1, degree + 1):\n",
    "        for item in combinations_with_replacement(range(n_features), d):\n",
    "            term = np.prod([X[:, j] for j in item], axis=0).reshape(-1, 1)\n",
    "            X_poly = np.hstack((X_poly, term))\n",
    "    \n",
    "    return X_poly\n"
   ]
  },
  {
   "cell_type": "code",
   "execution_count": 102,
   "metadata": {},
   "outputs": [
    {
     "name": "stdout",
     "output_type": "stream",
     "text": [
      "Degree: 2\n",
      "45 weights\n",
      "Degree: 2, R^2: 0.8589835246120332\n",
      "\n",
      "Degree: 3\n",
      "165 weights\n",
      "Degree: 3, R^2: 0.8849499734020556\n",
      "\n",
      "Degree: 4\n",
      "495 weights\n",
      "Degree: 4, R^2: 0.2225201923950194\n",
      "\n",
      "Degree: 5\n",
      "1287 weights\n",
      "Degree: 5, R^2: -103.65880896799021\n",
      "\n"
     ]
    }
   ],
   "source": [
    "\n",
    "# make polynomial features\n",
    "r2_poly = []\n",
    "for degree in range(2, 6):\n",
    "    X_train_poly = polynomial_features(X_train.values, degree)\n",
    "    X_val_poly = polynomial_features(X_val.values, degree)\n",
    "    \n",
    "    w = closed_form_solution(X_train_poly, y_train)\n",
    "    print(f'Degree: {degree}')\n",
    "    print(f\"{len(w)} weights\")\n",
    "    y_pred = X_val_poly.dot(w)\n",
    "    r2 = r_squared(y_val, y_pred)\n",
    "    r2_poly.append((degree, r2))\n",
    "    print(f'Degree: {degree}, R^2: {r2}\\n')\n",
    "\n"
   ]
  },
  {
   "cell_type": "code",
   "execution_count": null,
   "metadata": {},
   "outputs": [
    {
     "name": "stdout",
     "output_type": "stream",
     "text": [
      "Gamma: 0.01, Number of centers: 10\n",
      "11 weights\n",
      "R^2: 0.7809642144149812\n",
      "\n",
      "Gamma: 0.01, Number of centers: 20\n",
      "21 weights\n",
      "R^2: 0.8374230395068636\n",
      "\n",
      "Gamma: 0.01, Number of centers: 30\n",
      "31 weights\n",
      "R^2: 0.8633239534758566\n",
      "\n",
      "Gamma: 0.01, Number of centers: 40\n",
      "41 weights\n",
      "R^2: 0.8405282555705886\n",
      "\n",
      "Gamma: 0.01, Number of centers: 50\n",
      "51 weights\n",
      "R^2: 0.848766021032617\n",
      "\n",
      "Gamma: 0.1, Number of centers: 10\n",
      "11 weights\n",
      "R^2: 0.5593704379497821\n",
      "\n",
      "Gamma: 0.1, Number of centers: 20\n",
      "21 weights\n",
      "R^2: 0.6514614260354347\n",
      "\n",
      "Gamma: 0.1, Number of centers: 30\n",
      "31 weights\n",
      "R^2: 0.6732022982085673\n",
      "\n",
      "Gamma: 0.1, Number of centers: 40\n",
      "41 weights\n",
      "R^2: 0.7503700793036657\n",
      "\n",
      "Gamma: 0.1, Number of centers: 50\n",
      "51 weights\n",
      "R^2: 0.7631661931716909\n",
      "\n",
      "Gamma: 1, Number of centers: 10\n",
      "11 weights\n",
      "R^2: 0.1009543099845499\n",
      "\n",
      "Gamma: 1, Number of centers: 20\n",
      "21 weights\n",
      "R^2: 0.19798908229839463\n",
      "\n",
      "Gamma: 1, Number of centers: 30\n",
      "31 weights\n",
      "R^2: 0.25358317934646457\n",
      "\n",
      "Gamma: 1, Number of centers: 40\n",
      "41 weights\n",
      "R^2: 0.350490847955532\n",
      "\n",
      "Gamma: 1, Number of centers: 50\n",
      "51 weights\n",
      "R^2: 0.35906439434840376\n",
      "\n",
      "Gamma: 10, Number of centers: 10\n",
      "11 weights\n",
      "R^2: 0.0016161284203068949\n",
      "\n",
      "Gamma: 10, Number of centers: 20\n",
      "21 weights\n",
      "R^2: 0.00644375416004217\n",
      "\n",
      "Gamma: 10, Number of centers: 30\n",
      "31 weights\n",
      "R^2: 0.016002315838691272\n",
      "\n",
      "Gamma: 10, Number of centers: 40\n",
      "41 weights\n",
      "R^2: 0.01977767886131998\n",
      "\n",
      "Gamma: 10, Number of centers: 50\n",
      "51 weights\n",
      "R^2: 0.022088942373276743\n",
      "\n",
      "Gamma: 100, Number of centers: 10\n",
      "11 weights\n",
      "R^2: 0.0008276887656322174\n",
      "\n",
      "Gamma: 100, Number of centers: 20\n",
      "21 weights\n",
      "R^2: 0.0010311588752136558\n",
      "\n",
      "Gamma: 100, Number of centers: 30\n",
      "31 weights\n",
      "R^2: 0.00712926280521009\n",
      "\n",
      "Gamma: 100, Number of centers: 40\n",
      "41 weights\n",
      "R^2: 0.010468770270471772\n",
      "\n",
      "Gamma: 100, Number of centers: 50\n",
      "51 weights\n",
      "R^2: 0.010649935189624316\n",
      "\n"
     ]
    }
   ],
   "source": [
    "\n",
    "# not sure\n",
    "\n",
    "# Radial Basis \n",
    "\n",
    "def radial_basis_function(X, centers, gamma):\n",
    "    n_samples = X.shape[0]\n",
    "    n_centers = centers.shape[0]\n",
    "    X_rbf = np.ones((n_samples, 1))  # Start with the bias term (column of ones)\n",
    "    \n",
    "    for i in range(n_centers):\n",
    "        center = centers[i]\n",
    "        rbf = np.exp(-gamma * np.linalg.norm(X - center, axis=1) ** 2).reshape(-1, 1)\n",
    "        X_rbf = np.hstack((X_rbf, rbf))\n",
    "    \n",
    "    return X_rbf\n",
    "\n",
    "# make radial basis function\n",
    "r2_rbf = []\n",
    "for gamma in [0.01, 0.1, 1, 10, 100]:\n",
    "    for n_centers in [10, 20, 30, 40, 50]:\n",
    "        centers = X_train.sample(n=n_centers, random_state=42).values\n",
    "        X_train_rbf = radial_basis_function(X_train.values, centers, gamma)\n",
    "        X_val_rbf = radial_basis_function(X_val.values, centers, gamma)\n",
    "        \n",
    "        w = closed_form_solution(X_train_rbf, y_train)\n",
    "        print(f'Gamma: {gamma}, Number of centers: {n_centers}')\n",
    "        print(f\"{len(w)} weights\")\n",
    "        y_pred = X_val_rbf.dot(w)\n",
    "        r2 = r_squared(y_val, y_pred)\n",
    "        r2_rbf.append((gamma, n_centers, r2))\n",
    "        print(f'R^2: {r2}\\n')\n",
    "\n",
    "\n"
   ]
  }
 ],
 "metadata": {
  "kernelspec": {
   "display_name": "Python 3",
   "language": "python",
   "name": "python3"
  },
  "language_info": {
   "codemirror_mode": {
    "name": "ipython",
    "version": 3
   },
   "file_extension": ".py",
   "mimetype": "text/x-python",
   "name": "python",
   "nbconvert_exporter": "python",
   "pygments_lexer": "ipython3",
   "version": "3.12.2"
  }
 },
 "nbformat": 4,
 "nbformat_minor": 2
}
